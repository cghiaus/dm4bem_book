{
 "cells": [
  {
   "cell_type": "markdown",
   "id": "2f5619c6-8d77-4691-a7a5-b42b15b2250b",
   "metadata": {
    "tags": []
   },
   "source": [
    "# Simple wall\n",
    "\n",
    "[![Binder](https://mybinder.org/badge_logo.svg)](https://mybinder.org/v2/gh/cghiaus/dm4bem_book/HEAD?labpath=%2Ftutorials%2F02_1Wall.ipynb)\n",
    "\n",
    "This notebook presents a thermal circuit with capacities in every node and its state-space representation."
   ]
  },
  {
   "cell_type": "markdown",
   "id": "1fcc9d1b-71c7-42b4-9f35-afab8a9cad18",
   "metadata": {
    "tags": []
   },
   "source": [
    "## Introduction\n",
    "### Objectives\n",
    "\n",
    "- Model heat transfer by using a thermal network.\n",
    "- Obtain the mathematical model as a system of differential algebraic equations (DAE).\n",
    "- Find the steady-state solution.\n",
    "- Transform the system of DAE into state-space representation.\n",
    "- Find the eigenvalues and study the numerical stability.\n",
    "- Simulate by using Euler methods for numerical integration.\n",
    "\n",
    "### Summary\n",
    "\n",
    "This notebook calculates the temperature distribution in a two-layer wall in steady-state and in a dynamic simulation. The code:\n",
    "- Imports Python standard modules (NumPy, Pandas, Matplotlib), and functions from a local module (dm4bem).\n",
    "- Defines the physical characteristics of the materials used to construct the wall and of the air inside the room. The characteristics include thermal conductivity, density, specific heat, and width.\n",
    "- Creates a data frame to store information about the wall, including the materials used to construct it, and calculates the surface area of the wall and the volume of the air inside the room.\n",
    "- Calculates the thermal resistances and thermal capacities of the wall and the air.\n",
    "- Sets up the differential-algebraic system of equations (DAE) model by creating the conductance matrix, capacity matrix, arc-node incidence matrix, and input vectors.\n",
    "- Solves the DAE model to determine the steady-state temperature distribution in the wall when the outdoor temperature is 1 °C and when the heat input is 1 W. It then calculates the indoor temperature based on the results of the DAE model.\n",
    "- Converts the DAE model to a state-space representation and calculates the eigenvalues of the state matrix.\n",
    "- Calculates the maximum time step that can be used to solve the state-space model and the settling time.\n",
    "- Integrates in time the state-space model by using Euler explicit and implicit methods. The results are plotted for step-response and for response to the outdoor temperature."
   ]
  },
  {
   "cell_type": "code",
   "execution_count": 1,
   "id": "e6103b80-077a-46c4-9e41-ed5d4dbfa2b4",
   "metadata": {},
   "outputs": [],
   "source": [
    "import numpy as np\n",
    "import pandas as pd\n",
    "import matplotlib.pyplot as plt\n",
    "import dm4bem"
   ]
  },
  {
   "cell_type": "markdown",
   "id": "b146ab69-c6a5-4716-a9a8-25596fefaebe",
   "metadata": {
    "tags": []
   },
   "source": [
    "## Modelling"
   ]
  },
  {
   "cell_type": "markdown",
   "id": "c8a4cdc5-c39e-4281-9185-f9ea0c61d2f0",
   "metadata": {
    "tags": []
   },
   "source": [
    "### Wall description\n",
    "\n",
    "Let’s consider the heat transfer through a plane wall which separates the outside air, at [temperature](https://en.m.wikipedia.org/wiki/Temperature) $T_o$, from the inside air. [Heat flow rate](https://en.m.wikipedia.org/wiki/Rate_of_heat_flow) $\\dot{Q}_h$ is added to the inside air by a [fan-coil](https://en.m.wikipedia.org/wiki/Fan_coil_unit) (see Figure 1).\n",
    "\n",
    "![wall](../figures/02_wall.svg)\n",
    "> Figure 1. Plane wall and its thermal network model. The concrete (layer 1) is divided in four [meshes](https://en.m.wikipedia.org/wiki/Types_of_mesh) and the insulation (layer 2) in two."
   ]
  },
  {
   "cell_type": "markdown",
   "id": "a56c6249-ce9c-4985-afa7-a76b8d474df8",
   "metadata": {},
   "source": [
    "The wall is composed of two materials: concrete and insulation. The thermal properties of the materials of the wall are:"
   ]
  },
  {
   "cell_type": "code",
   "execution_count": 2,
   "id": "2a6d89cf-2732-4c19-ad57-977f413ccbb5",
   "metadata": {},
   "outputs": [
    {
     "data": {
      "text/html": [
       "<div>\n",
       "<style scoped>\n",
       "    .dataframe tbody tr th:only-of-type {\n",
       "        vertical-align: middle;\n",
       "    }\n",
       "\n",
       "    .dataframe tbody tr th {\n",
       "        vertical-align: top;\n",
       "    }\n",
       "\n",
       "    .dataframe thead th {\n",
       "        text-align: right;\n",
       "    }\n",
       "</style>\n",
       "<table border=\"1\" class=\"dataframe\">\n",
       "  <thead>\n",
       "    <tr style=\"text-align: right;\">\n",
       "      <th></th>\n",
       "      <th>Conductivity</th>\n",
       "      <th>Density</th>\n",
       "      <th>Specific heat</th>\n",
       "      <th>Width</th>\n",
       "    </tr>\n",
       "  </thead>\n",
       "  <tbody>\n",
       "    <tr>\n",
       "      <th>Layer_1</th>\n",
       "      <td>1.40</td>\n",
       "      <td>2300.0</td>\n",
       "      <td>880</td>\n",
       "      <td>0.20</td>\n",
       "    </tr>\n",
       "    <tr>\n",
       "      <th>Layer_2</th>\n",
       "      <td>0.04</td>\n",
       "      <td>16.0</td>\n",
       "      <td>1210</td>\n",
       "      <td>0.08</td>\n",
       "    </tr>\n",
       "  </tbody>\n",
       "</table>\n",
       "</div>"
      ],
      "text/plain": [
       "         Conductivity  Density  Specific heat  Width\n",
       "Layer_1          1.40   2300.0            880   0.20\n",
       "Layer_2          0.04     16.0           1210   0.08"
      ]
     },
     "execution_count": 2,
     "metadata": {},
     "output_type": "execute_result"
    }
   ],
   "source": [
    "concrete = {'Conductivity': 1.400,      # W/(m·K)\n",
    "            'Density': 2300.0,          # kg/m³\n",
    "            'Specific heat': 880,       # J/(kg⋅K)\n",
    "            'Width': 0.2}               # m\n",
    "\n",
    "insulation = {'Conductivity': 0.040,    # W/(m·K)\n",
    "              'Density': 16.0,          # kg/m³\n",
    "              'Specific heat': 1210,    # J/(kg⋅K)\n",
    "              'Width': 0.08}            # m\n",
    "\n",
    "wall = pd.DataFrame.from_dict({'Layer_1': concrete,\n",
    "                               'Layer_2': insulation},\n",
    "                              orient='index')\n",
    "wall"
   ]
  },
  {
   "cell_type": "code",
   "execution_count": 3,
   "id": "5da49179-df85-450b-afb8-2ce189571b3a",
   "metadata": {},
   "outputs": [
    {
     "data": {
      "text/html": [
       "<div>\n",
       "<style scoped>\n",
       "    .dataframe tbody tr th:only-of-type {\n",
       "        vertical-align: middle;\n",
       "    }\n",
       "\n",
       "    .dataframe tbody tr th {\n",
       "        vertical-align: top;\n",
       "    }\n",
       "\n",
       "    .dataframe thead th {\n",
       "        text-align: right;\n",
       "    }\n",
       "</style>\n",
       "<table border=\"1\" class=\"dataframe\">\n",
       "  <thead>\n",
       "    <tr style=\"text-align: right;\">\n",
       "      <th></th>\n",
       "      <th>Density</th>\n",
       "      <th>Specific heat</th>\n",
       "    </tr>\n",
       "  </thead>\n",
       "  <tbody>\n",
       "    <tr>\n",
       "      <th>Air</th>\n",
       "      <td>1.2</td>\n",
       "      <td>1000</td>\n",
       "    </tr>\n",
       "  </tbody>\n",
       "</table>\n",
       "</div>"
      ],
      "text/plain": [
       "     Density  Specific heat\n",
       "Air      1.2           1000"
      ]
     },
     "execution_count": 3,
     "metadata": {},
     "output_type": "execute_result"
    }
   ],
   "source": [
    "air = {'Density': 1.2,                 # kg/m³\n",
    "       'Specific heat': 1000}          # J/(kg⋅K)\n",
    "\n",
    "pd.DataFrame(air, index=['Air'])"
   ]
  },
  {
   "cell_type": "markdown",
   "id": "ce43b046-5309-4590-bc7d-9eadc510ef76",
   "metadata": {},
   "source": [
    "We'll consider the convection coefficients, in W/(m²·K), for indoor and outdoor:"
   ]
  },
  {
   "cell_type": "code",
   "execution_count": 4,
   "id": "d75aac24-7447-4aa5-ad6e-0971522a7389",
   "metadata": {},
   "outputs": [
    {
     "data": {
      "text/html": [
       "<div>\n",
       "<style scoped>\n",
       "    .dataframe tbody tr th:only-of-type {\n",
       "        vertical-align: middle;\n",
       "    }\n",
       "\n",
       "    .dataframe tbody tr th {\n",
       "        vertical-align: top;\n",
       "    }\n",
       "\n",
       "    .dataframe thead th {\n",
       "        text-align: right;\n",
       "    }\n",
       "</style>\n",
       "<table border=\"1\" class=\"dataframe\">\n",
       "  <thead>\n",
       "    <tr style=\"text-align: right;\">\n",
       "      <th></th>\n",
       "      <th>in</th>\n",
       "      <th>out</th>\n",
       "    </tr>\n",
       "  </thead>\n",
       "  <tbody>\n",
       "    <tr>\n",
       "      <th>h</th>\n",
       "      <td>4.0</td>\n",
       "      <td>10.0</td>\n",
       "    </tr>\n",
       "  </tbody>\n",
       "</table>\n",
       "</div>"
      ],
      "text/plain": [
       "    in   out\n",
       "h  4.0  10.0"
      ]
     },
     "execution_count": 4,
     "metadata": {},
     "output_type": "execute_result"
    }
   ],
   "source": [
    "# convection coefficients, W/(m²·K)\n",
    "h = pd.DataFrame([{'in': 4., 'out': 10.}], index=['h'])\n",
    "h"
   ]
  },
  {
   "cell_type": "markdown",
   "id": "05ee2332-5194-48e2-9871-b2ad418c3a88",
   "metadata": {},
   "source": [
    "Let's consider that the surface area of the wall is 3 x 3 m² and the volume of the indoor air is 3 x 3 x 3 m³."
   ]
  },
  {
   "cell_type": "code",
   "execution_count": 5,
   "id": "16313646-e3eb-4c4e-8089-512c404fd20e",
   "metadata": {},
   "outputs": [],
   "source": [
    "S_wall = 3 * 3      # m², wall surface area\n",
    "V_air = 3 * 3 * 3   # m³, indoor air volume"
   ]
  },
  {
   "cell_type": "markdown",
   "id": "4afd34ed-2479-4e6e-975b-5abc44841e5a",
   "metadata": {
    "tags": []
   },
   "source": [
    "### Thermal network model\n",
    "\n",
    "The wall consists of two layers: concrete and insulation. The first layer is discretized in 4 [meshes](https://en.m.wikipedia.org/wiki/Types_of_mesh) and the second layer in 2 meshes. By adding together the resistances which are in series, a simpler thermal network is obtained (Figue 2).\n",
    "\n",
    "![RC](../figures/02_RC_model.svg)\n",
    "> Figure 2. Thermal network model of a simple wall obtained from Figure 1 by using the equivalent of the resistances in series. This model contains capacities in every node.\n",
    "\n",
    "The circuit (or the network) is an [oriented](https://en.m.wikipedia.org/wiki/Orientation_(graph_theory)) weighted graph composed of:\n",
    "- oriented branches: temperature sources and resistances (or conductances) through which crosses a flow rate;\n",
    "- nodes: flow rate sources and capacities characterized by a temperature;\n",
    "- incidence relation: description of how the nodes are connected by the oriented branches.\n",
    "\n",
    "The circuit (or the network) is described by:\n",
    "- elements: resistances (or conductances) and capacities;\n",
    "- sources: temperatures and heat flow rates;\n",
    "- connections: an oriented graph which shows how the nodes of temperature are connected by oriented branches of flow rates.\n",
    "\n",
    "[Network (or circuit) analysis](https://en.m.wikipedia.org/wiki/Network_analysis_(electrical_circuits)) means finding the temperatures and the flow rates when the circuit (i.e. the elements, the sources and their connections) is given.\n",
    " \n",
    "The circuit elements of the thermal network are the resistances and the capacities. Their values are found by using the thermo-physical properties of the materials: [thermal conductivity](https://en.m.wikipedia.org/wiki/Thermal_conductivity), [specific heat capacity](https://en.m.wikipedia.org/wiki/Specific_heat_capacity) and [density](https://en.m.wikipedia.org/wiki/Density), and the geometrical values: [width](https://en.m.wikipedia.org/wiki/Length), [surface area](https://en.m.wikipedia.org/wiki/Surface_area) and [volume](https://en.m.wikipedia.org/wiki/Volume).\n",
    "\n",
    "The parameters are grouped in matrices of parameters, or [coefficent matrices](https://en.m.wikipedia.org/wiki/Coefficient_matrix), and the variables are in [vectors](https://en.m.wikipedia.org/wiki/Vector_(mathematics_and_physics)). The variables are physical inputs, modelled by temperature and flow rate sources, and physical outputs, modelled by temperatures of the nodes and flow rates through the branches. \n",
    "\n",
    "The thermal circuits model physical systems which are [causal](https://en.m.wikipedia.org/wiki/Causal_system): the values of the outputs depend on past and current values of the inputs (but not on future values of the inputs)."
   ]
  },
  {
   "cell_type": "markdown",
   "id": "48bb013c-1b43-4266-8cda-3d86d2875ea9",
   "metadata": {
    "tags": []
   },
   "source": [
    "### Parameters of thermal network\n",
    "#### Resistances\n",
    "\n",
    "The [thermal resistances](https://en.m.wikipedia.org/wiki/Thermal_resistance) for [thermal conduction](https://en.m.wikipedia.org/wiki/Thermal_conduction) are of the form:\n",
    "\n",
    "$$R_{cd} = \\frac{w}{\\lambda S}$$\n",
    "\n",
    "where:\n",
    "\n",
    "- $w$ is the [width](https://en.m.wikipedia.org/wiki/Length) of the material, m;\n",
    "- $\\lambda$ - [thermal conductvity](https://en.m.wikipedia.org/wiki/Thermal_conductivity) of the material, W/(m·K);\n",
    "- $S$ - [surface area](https://en.m.wikipedia.org/wiki/Surface_area) of the wall, m²."
   ]
  },
  {
   "cell_type": "code",
   "execution_count": 6,
   "id": "088becd6-b9ae-49c6-85bb-3fc922c6da97",
   "metadata": {},
   "outputs": [],
   "source": [
    "# conduction\n",
    "R_cd = wall['Width'] / (wall['Conductivity'] * S_wall)  # K/W"
   ]
  },
  {
   "cell_type": "markdown",
   "id": "9a46c29e-7441-4fcb-9813-118997421d6a",
   "metadata": {
    "tags": []
   },
   "source": [
    "The thermal resistances for [convection](https://en.m.wikipedia.org/wiki/Convection_(heat_transfer)) are of the form:\n",
    "\n",
    "$$R_{cv} = \\frac{1}{h S}$$\n",
    "\n",
    "where:\n",
    "- $h$ is the [convection coefficient](https://en.m.wikipedia.org/wiki/Newton%27s_law_of_cooling#Mathematical_formulation_of_Newton's_law), W/(m² K);\n",
    "- $S$ - surface area of the wall, m²."
   ]
  },
  {
   "cell_type": "code",
   "execution_count": 7,
   "id": "3b4c190a-adb9-4929-a9f3-6f44a4eb8c1c",
   "metadata": {},
   "outputs": [],
   "source": [
    "# convection\n",
    "R_cv = 1 / (h * S_wall)     # K/W"
   ]
  },
  {
   "cell_type": "markdown",
   "id": "e577517e-e842-4ef6-ab13-788bed4b7280",
   "metadata": {
    "tags": []
   },
   "source": [
    "#### Capacities\n",
    "The [thermal capacities](https://en.m.wikipedia.org/wiki/Heat_capacity) of the wall are of the form:\n",
    "\n",
    "$$C_w= m_w c_w= \\rho_w c_w w_w S_w$$\n",
    "\n",
    "where:\n",
    "- $m_w = \\rho_w w_w S_w$ is the [mass](https://en.m.wikipedia.org/wiki/Mass) of the material of the wall, kg;\n",
    "- $c_w$ - [specific heat capacity](https://en.m.wikipedia.org/wiki/Specific_heat_capacity) of the material, J/(kg⋅K);\n",
    "- $\\rho_w$ - [density](https://en.m.wikipedia.org/wiki/Density) of the material, kg/m³;\n",
    "- $w_w$ - width of the wall, m;\n",
    "- $S_w$ - surface area of the wall, m²."
   ]
  },
  {
   "cell_type": "code",
   "execution_count": 8,
   "id": "f28c17e8-9fea-4cc6-b178-d06c18393038",
   "metadata": {},
   "outputs": [],
   "source": [
    "C_wall = wall['Density'] * wall['Specific heat'] * wall['Width'] * S_wall"
   ]
  },
  {
   "cell_type": "markdown",
   "id": "bd58d4c3-3c26-40aa-93ee-d9e1deaac3fb",
   "metadata": {
    "tags": []
   },
   "source": [
    "The thermal capacity of the air is:\n",
    "\n",
    "$$C_a = m_a c_a = \\rho_a c_a V_a$$\n",
    "\n",
    "where:\n",
    "- $m_a = \\rho_a V_a$ is the mass of the air, kg;\n",
    "- $\\rho_w$ - [density](https://en.m.wikipedia.org/wiki/Density) of air, kg/m³;\n",
    "- $c_a$ - specific heat capacity of the air, J/(kg⋅K);\n",
    "- $V_a$ - volume of the air in the thermal zone, m³."
   ]
  },
  {
   "cell_type": "code",
   "execution_count": 9,
   "id": "4a63c133-c8b3-409c-a5f3-d3df4d447157",
   "metadata": {},
   "outputs": [],
   "source": [
    "C_air = air['Density'] * air['Specific heat'] * V_air"
   ]
  },
  {
   "cell_type": "markdown",
   "id": "222f6d51-7c9f-4b5f-bdde-9412d4a36c05",
   "metadata": {},
   "source": [
    "### Differential algebraic equations (DAE)\n",
    "\n",
    "The number of temperature nodes and of flow branches of the thermal network depend on the number of [meshes](https://en.m.wikipedia.org/wiki/Types_of_mesh) obtained by the discretization of the wall."
   ]
  },
  {
   "cell_type": "code",
   "execution_count": 10,
   "id": "04801b31-d54b-46c8-966c-70435343b5bf",
   "metadata": {},
   "outputs": [],
   "source": [
    "# number of temperature nodes and flow branches\n",
    "no_θ = no_q = 7\n",
    "\n",
    "θ = ['θ0', 'θ1', 'θ2', 'θ3', 'θ4', 'θ5', 'θ6']  # temperature nodes\n",
    "q = ['q0', 'q1', 'q2', 'q3', 'q4', 'q5', 'q6']  # flow-rate branches"
   ]
  },
  {
   "cell_type": "markdown",
   "id": "5cde72b1-da25-4799-949a-a65a5995ae0d",
   "metadata": {
    "tags": []
   },
   "source": [
    "#### Conductance matrix $G$\n",
    "The resistances are grouped in the conductance matrix, which is diagonal:\n",
    "\n",
    "$$G = \\begin{bmatrix}\n",
    "R_0^{-1} &  &  & \\\\ \n",
    " & R_1^{-1} &  & \\\\ \n",
    " &  & ... & \\\\ \n",
    " &  &  & R_{n_q-1}^{-1}\n",
    "\\end{bmatrix}$$\n",
    "\n",
    "where:\n",
    "- $n_q$ is the number of flow rate branches, $n_q = 7$;\n",
    "- $R_0 = R_{cv,out} + R_{cd,c} / 8$ ; this resistance is composed of outdoor convection, $R_{cv,out}$, and conduction in 1/8th of the concrete width, $R_{cd,c} / 8$; since the concrete is discretized in 4 meshes, there are 8 resistances, each one of value $R_{cd,c} / 8$;\n",
    "- $R_1 = R_2 = R_3 = R_{cd,c} / 8 + R_{cd,c} / 8 = R_{cd,c} / 4$; two resistances $R_{cd,c} / 8$ are added, resulting in $R_{cd,c} / 4$;\n",
    "- $R_4 = R_{cd,c} / 8 + R_{cd,i} / 4$; this resistance is formed by a slice of concrete, $R_{cd,c} / 8$, and a slice of insulation, $R_{cd,i} / 4$;\n",
    "- $R_5 = R_{cd,i} / 4 + R_{cd,i} / 4 = R_{cd,i} / 2$; two meshes of insulation, each one with resistance $R_{cd,i} / 4$, are in series; \n",
    "- $R_6 = R_{cd,i} / 4 + R_{cv,in}$; this resistance is composed of conduction in the insulation,$R_{cd,i} / 4$, and convection at the inside surface of the wall, $R_{cv,in}$.\n",
    "\n",
    "*Note*: A branch consists of a temperature source and a thermal resistance (or conductance). Each branch of the network needs to have a resistance (or a conductance) but not necessarily a source of temperature."
   ]
  },
  {
   "cell_type": "code",
   "execution_count": 11,
   "id": "3e2b55ce-258a-4d5b-91c4-067d799e5f22",
   "metadata": {
    "tags": []
   },
   "outputs": [],
   "source": [
    "# Conductance matrix\n",
    "R = np.zeros([no_q])\n",
    "R[0] = R_cv['out'] + R_cd['Layer_1'] / 8\n",
    "R[1] = R[2] = R[3] = R_cd['Layer_1'] / 4\n",
    "R[4] = R_cd['Layer_1'] / 8 + R_cd['Layer_2'] / 4\n",
    "R[5] = R_cd['Layer_2'] / 2\n",
    "R[6] = R_cd['Layer_2'] / 4 + R_cv['in']\n",
    "G = np.diag(np.reciprocal(R))"
   ]
  },
  {
   "cell_type": "markdown",
   "id": "1482717a-4d3f-46c3-b13a-4884d708e74b",
   "metadata": {
    "tags": []
   },
   "source": [
    "#### Capacity matrix $C$\n",
    "The capacities are grouped in the capacity matrix, which is diagonal:\n",
    "\n",
    "$$C = \\begin{bmatrix}\n",
    "C_0 &  &  & \\\\ \n",
    " & C_1 &  & \\\\ \n",
    " &  & ... & \\\\ \n",
    " &  &  & C_{n_θ-1}\n",
    "\\end{bmatrix}$$\n",
    "\n",
    "where:\n",
    "- $n_θ$ is the number of temperature nodes, $n_θ = 7$;\n",
    "- $C_0 = C_1 = C_2 = C_3 = C_{w, concrete} / 4$; since the concrete layer is divided in 4 meshes, the capacity of a slice is 1/4 of the capacity of the concrete layer;\n",
    "- $C_4 = C_5 = C_{w, insulation} / 2$; since the insulation layer is divided in 2 meshes, the capacity of a slice is 1/2 of the capacity of the insulation layer;\n",
    "- $C_6 = C_{a}$, the capacity of the indoor air.\n",
    "\n",
    "*Note*: Not every temperature node needs to have a capacity. The capacity of a surface is zero, since its mass is zero (because its volume is zero)."
   ]
  },
  {
   "cell_type": "code",
   "execution_count": 12,
   "id": "6e2b1e00-e1bd-4e04-8a0e-6d0939fec93c",
   "metadata": {},
   "outputs": [],
   "source": [
    "# Capacity matrix\n",
    "C = np.zeros(no_θ)\n",
    "C[0] = C[1] = C[2] = C[3] = C_wall['Layer_1'] / 4\n",
    "C[4] = C[5] = C_wall['Layer_2'] / 2\n",
    "C[6] = C_air\n",
    "C = np.diag(C)"
   ]
  },
  {
   "cell_type": "markdown",
   "id": "b2240685-a0df-4d70-ae16-2c3b2a78d401",
   "metadata": {
    "tags": []
   },
   "source": [
    "#### Arc-node incidence matrix $A$\n",
    "The [incidence matrix](https://en.m.wikipedia.org/wiki/Incidence_matrix)  shows the relation between oriented branches (i.e. flow rates) and nodes (i.e. temperatures). The rows in the incidence matrix $A$ correspond to the branches containing the heat flow rates $q_k$ across the resistances $R_k$ and the columns correspond to the temperature nodes $\\theta_l$. In the row corresponding to the branch $q_k$ in the position of the node $\\theta_l$ there is -1 if the flow $q_k$ leaves the node, +1 if the flow $q_k$ enters into the node $\\theta_k$ and 0 if the resistance $R_k$ is not connected to the temperature node $\\theta_k$ ([Ghiaus, 2013](https://doi.org/10.1016/j.energy.2012.10.024)):\n",
    "\n",
    "$$A_{kl} = \\begin{cases}\\phantom{-}\n",
    "0 & \\text{if branch } q_k \\text{ is not connected to node }  \\theta_l \\\\ \n",
    "+1 & \\text{if branch } q_k \\text{ enters into node }  \\theta_l\\\\ \n",
    "-1 & \\text{if branch } q_k \\text{ gets out of node }  \\theta_l \n",
    "\\end{cases}$$\n",
    "\n",
    "The matrix $-A$ is a difference operator for the vector $\\theta$ of temperatures, $-A \\equiv \\Delta$. That is, $e = -A \\theta$ or $e = \\Delta \\theta$ is the vector of differences between temperatures connected by resistances ([Ghiaus, 2013](https://doi.org/10.1016/j.energy.2012.10.024))."
   ]
  },
  {
   "cell_type": "code",
   "execution_count": 13,
   "id": "db33412d-392f-42ab-8ab2-d575a92387a8",
   "metadata": {
    "tags": []
   },
   "outputs": [
    {
     "data": {
      "text/html": [
       "<div>\n",
       "<style scoped>\n",
       "    .dataframe tbody tr th:only-of-type {\n",
       "        vertical-align: middle;\n",
       "    }\n",
       "\n",
       "    .dataframe tbody tr th {\n",
       "        vertical-align: top;\n",
       "    }\n",
       "\n",
       "    .dataframe thead th {\n",
       "        text-align: right;\n",
       "    }\n",
       "</style>\n",
       "<table border=\"1\" class=\"dataframe\">\n",
       "  <thead>\n",
       "    <tr style=\"text-align: right;\">\n",
       "      <th></th>\n",
       "      <th>θ0</th>\n",
       "      <th>θ1</th>\n",
       "      <th>θ2</th>\n",
       "      <th>θ3</th>\n",
       "      <th>θ4</th>\n",
       "      <th>θ5</th>\n",
       "      <th>θ6</th>\n",
       "    </tr>\n",
       "  </thead>\n",
       "  <tbody>\n",
       "    <tr>\n",
       "      <th>q0</th>\n",
       "      <td>1.0</td>\n",
       "      <td>-0.0</td>\n",
       "      <td>-0.0</td>\n",
       "      <td>-0.0</td>\n",
       "      <td>-0.0</td>\n",
       "      <td>-0.0</td>\n",
       "      <td>-0.0</td>\n",
       "    </tr>\n",
       "    <tr>\n",
       "      <th>q1</th>\n",
       "      <td>-1.0</td>\n",
       "      <td>1.0</td>\n",
       "      <td>-0.0</td>\n",
       "      <td>-0.0</td>\n",
       "      <td>-0.0</td>\n",
       "      <td>-0.0</td>\n",
       "      <td>-0.0</td>\n",
       "    </tr>\n",
       "    <tr>\n",
       "      <th>q2</th>\n",
       "      <td>-0.0</td>\n",
       "      <td>-1.0</td>\n",
       "      <td>1.0</td>\n",
       "      <td>-0.0</td>\n",
       "      <td>-0.0</td>\n",
       "      <td>-0.0</td>\n",
       "      <td>-0.0</td>\n",
       "    </tr>\n",
       "    <tr>\n",
       "      <th>q3</th>\n",
       "      <td>-0.0</td>\n",
       "      <td>-0.0</td>\n",
       "      <td>-1.0</td>\n",
       "      <td>1.0</td>\n",
       "      <td>-0.0</td>\n",
       "      <td>-0.0</td>\n",
       "      <td>-0.0</td>\n",
       "    </tr>\n",
       "    <tr>\n",
       "      <th>q4</th>\n",
       "      <td>-0.0</td>\n",
       "      <td>-0.0</td>\n",
       "      <td>-0.0</td>\n",
       "      <td>-1.0</td>\n",
       "      <td>1.0</td>\n",
       "      <td>-0.0</td>\n",
       "      <td>-0.0</td>\n",
       "    </tr>\n",
       "    <tr>\n",
       "      <th>q5</th>\n",
       "      <td>-0.0</td>\n",
       "      <td>-0.0</td>\n",
       "      <td>-0.0</td>\n",
       "      <td>-0.0</td>\n",
       "      <td>-1.0</td>\n",
       "      <td>1.0</td>\n",
       "      <td>-0.0</td>\n",
       "    </tr>\n",
       "    <tr>\n",
       "      <th>q6</th>\n",
       "      <td>-0.0</td>\n",
       "      <td>-0.0</td>\n",
       "      <td>-0.0</td>\n",
       "      <td>-0.0</td>\n",
       "      <td>-0.0</td>\n",
       "      <td>-1.0</td>\n",
       "      <td>1.0</td>\n",
       "    </tr>\n",
       "  </tbody>\n",
       "</table>\n",
       "</div>"
      ],
      "text/plain": [
       "     θ0   θ1   θ2   θ3   θ4   θ5   θ6\n",
       "q0  1.0 -0.0 -0.0 -0.0 -0.0 -0.0 -0.0\n",
       "q1 -1.0  1.0 -0.0 -0.0 -0.0 -0.0 -0.0\n",
       "q2 -0.0 -1.0  1.0 -0.0 -0.0 -0.0 -0.0\n",
       "q3 -0.0 -0.0 -1.0  1.0 -0.0 -0.0 -0.0\n",
       "q4 -0.0 -0.0 -0.0 -1.0  1.0 -0.0 -0.0\n",
       "q5 -0.0 -0.0 -0.0 -0.0 -1.0  1.0 -0.0\n",
       "q6 -0.0 -0.0 -0.0 -0.0 -0.0 -1.0  1.0"
      ]
     },
     "execution_count": 13,
     "metadata": {},
     "output_type": "execute_result"
    }
   ],
   "source": [
    "# Arc-node incidence matrix\n",
    "A = np.eye(no_q, no_θ + 1)\n",
    "A = -np.diff(A, n=1, axis=1)\n",
    "pd.DataFrame(A, index=q, columns=θ)"
   ]
  },
  {
   "cell_type": "markdown",
   "id": "56eb38e9-0c0c-472b-92d3-dad771c5f07d",
   "metadata": {
    "tags": []
   },
   "source": [
    "#### Vectors of temperature sources $b$ and flow rate sources $f$\n",
    "First, we will set all the temperature sources $b$ and flow sources $f$ to zero."
   ]
  },
  {
   "cell_type": "code",
   "execution_count": 14,
   "id": "4469f034-4713-49f6-b643-edda218cff58",
   "metadata": {},
   "outputs": [],
   "source": [
    "# Input vectors\n",
    "b = np.zeros(no_q)  # temperatures\n",
    "f = np.zeros(no_θ)  # flow rates"
   ]
  },
  {
   "cell_type": "markdown",
   "id": "af6da2dd-405a-42b9-b933-bcd4d2a500ef",
   "metadata": {
    "tags": []
   },
   "source": [
    "Their values will be changed depending on the conditions."
   ]
  },
  {
   "cell_type": "markdown",
   "id": "6aa13fa8-af4b-4ff8-a3ad-a39060d89de0",
   "metadata": {
    "tags": []
   },
   "source": [
    "#### System of differential algebraic equations\n",
    "The system of [Differential-Algebraic Equations](https://en.m.wikipedia.org/wiki/Differential-algebraic_system_of_equations) (DAE) is ([Ghiaus, 2013](https://doi.org/10.1016/j.energy.2012.10.024)):\n",
    "\n",
    "$$C\\dot{\\theta} = -A^T G A \\theta + A^T G b + f$$\n",
    "\n",
    "or\n",
    "\n",
    "$$C\\dot{\\theta} = \\Sigma G \\Delta \\theta + \\Sigma G b + f$$\n",
    "\n",
    "which contains the matrices and vectors characterizing the circuit:\n",
    "- elements: conductances $G$ and capacities $C$;\n",
    "- sources: temperatures $b$ and heat flow rates $f$;\n",
    "- incidence relation: incidence matrix $A$ which shows how the nodes of temperature are connected by oriented branches of flow rates.  Matrix $\\Delta \\equiv -A$  operates differences between the temperatures over the branches and matrix $\\Sigma \\equiv A^T$ operates sum of heat flow rates in the nodes."
   ]
  },
  {
   "cell_type": "markdown",
   "id": "6ec653e1-cbe7-40dc-90ba-5d1095f716d0",
   "metadata": {
    "tags": []
   },
   "source": [
    "## Steady-state solution\n",
    "\n",
    "In [steady-state](https://en.m.wikipedia.org/wiki/Steady_state), i.e., $\\dot{\\theta} = 0$, the solution of the system of  Differential-Algebraic Equations (DAE) is:\n",
    "\n",
    "$$\\theta = (A^T G A)^{-1}(A^T G b + f)$$\n",
    "$$q = G (-A \\theta + b)$$\n",
    "\n",
    "Let's consider two steady-states:\n",
    "\n",
    "1) The outdoor temperature is $T_o = 1\\, \\mathrm{^\\circ C}$, i.e. $b_0 = 1$.\n",
    "2) The indoor flow introduced by the fan-coil is $\\dot{Q}_h = 1\\, \\mathrm{W}$, i.e. $f_6 \\equiv f_{end} = 1$."
   ]
  },
  {
   "cell_type": "markdown",
   "id": "289cbc74-3fe1-4104-83ed-11f7cbd0cc7b",
   "metadata": {},
   "source": [
    "### Response to outdoor temperature variation\n",
    "\n",
    "The outdoor temperature is $T_o = 1\\, \\mathrm{^\\circ C}$, i.e. $b_0 = 1$."
   ]
  },
  {
   "cell_type": "code",
   "execution_count": 15,
   "id": "43fc79c0-69f3-46aa-ae2e-c5e6856a1ca4",
   "metadata": {},
   "outputs": [
    {
     "name": "stdout",
     "output_type": "stream",
     "text": [
      "When To = 1°C, the temperatures in steady-state are: [1. 1. 1. 1. 1. 1. 1.] °C\n",
      "The indoor temperature is: 1.000 °C\n"
     ]
    }
   ],
   "source": [
    "b[0] = 1\n",
    "θ_steady_To = np.linalg.inv(A.T @ G @ A) @ (A.T @ G @ b + f)\n",
    "np.set_printoptions(precision=3)\n",
    "print('When To = 1°C, the temperatures in steady-state are:', θ_steady_To, '°C')\n",
    "print(f'The indoor temperature is: {θ_steady_To[-1]:.3f} °C')"
   ]
  },
  {
   "cell_type": "markdown",
   "id": "2fd375fb-5d64-4215-a068-ce0f8da929fb",
   "metadata": {},
   "source": [
    "### Response to indoor flow rate variation\n",
    "\n",
    "The indoor flow introduced by the fan-coil is $\\dot{Q}_h = 1\\, \\mathrm{W}$, i.e. $f_6 \\equiv f_{end} = 1$."
   ]
  },
  {
   "cell_type": "code",
   "execution_count": 16,
   "id": "66202ab6-f2be-491f-9bfe-e7793e38390f",
   "metadata": {},
   "outputs": [
    {
     "name": "stdout",
     "output_type": "stream",
     "text": [
      "When Qh = 1W, the temperatures in steady-state are: [0.013 0.017 0.021 0.025 0.083 0.194 0.277] °C\n",
      "The indoor temperature is: 0.277 °C\n"
     ]
    }
   ],
   "source": [
    "b[0] = 0\n",
    "f[-1] = 1\n",
    "θ_steady_Qh = np.linalg.inv(A.T @ G @ A) @ (A.T @ G @ b + f)\n",
    "print('When Qh = 1W, the temperatures in steady-state are:', θ_steady_Qh, '°C')\n",
    "print(f'The indoor temperature is: {θ_steady_Qh[-1]:.3f} °C')"
   ]
  },
  {
   "cell_type": "markdown",
   "id": "6803f7d1-6ed3-4010-ad18-496ded1af9fa",
   "metadata": {
    "tags": []
   },
   "source": [
    "## State-space representation\n",
    "If matrix $C$ is [invertible (or non-singular)](https://en.m.wikipedia.org/wiki/Invertible_matrix), then the system of Differential-Algebraic Equations (DAE)\n",
    "\n",
    "$$C\\dot{\\theta} = -A^T G A \\theta + A^T G b + f$$\n",
    "\n",
    "can be put in [state-space](https://en.m.wikipedia.org/wiki/State-space_representation) representation\n",
    "\n",
    "$$\\left\\{\\begin{array}{rr}\n",
    "\\dot{\\theta}=A_s \\theta + B_s u\\\\ \n",
    "y = C_s \\theta + D_s u\n",
    "\\end{array}\\right.$$\n",
    "\n",
    "where:\n",
    "- $\\theta$ is the state vector of temperatures;\n",
    "- $u = \\begin{bmatrix} b \\\\ f\\end{bmatrix}$ - vector of inputs (temperature sources $b$ and flow sources $f$);\n",
    "- $A_s = -C^{-1} A^T G A$ - state matrix, $\\dim A = n_\\theta \\times n_\\theta$;\n",
    "- $B_s = C^{-1}\\begin{bmatrix}\n",
    "A^T G & I\n",
    "\\end{bmatrix}$ - input matrix, $\\dim B = n_\\theta \\times n_u$;\n",
    "- $C_s = \\begin{bmatrix} 0 & 0 & ... &1 \\end{bmatrix}$ - output matrix, $\\dim C = 1 \\times n_\\theta$;\n",
    "- $D_s = \\begin{bmatrix} 0 & 0 & ... &0 \\end{bmatrix}$ - feedthrough (or feedforward matrix, $\\dim D = 1 \\times n_u$.\n",
    "\n",
    "The first equation, $ \\dot{\\theta}=A_s \\theta + B_s u $, is called *state* or *system* equation and the second equation, $ y = C_s \\theta + D_s u $, is called *observation* equation."
   ]
  },
  {
   "cell_type": "markdown",
   "id": "015f0b5b-0ff8-45f0-b9fb-ed76c31d1ff4",
   "metadata": {
    "tags": []
   },
   "source": [
    "The state matrix is $A_s = -C^{-1} A^T G A$."
   ]
  },
  {
   "cell_type": "code",
   "execution_count": 17,
   "id": "a6356bc1-0658-401e-a4db-5795c93ee248",
   "metadata": {
    "tags": []
   },
   "outputs": [
    {
     "data": {
      "text/html": [
       "<div>\n",
       "<style scoped>\n",
       "    .dataframe tbody tr th:only-of-type {\n",
       "        vertical-align: middle;\n",
       "    }\n",
       "\n",
       "    .dataframe tbody tr th {\n",
       "        vertical-align: top;\n",
       "    }\n",
       "\n",
       "    .dataframe thead th {\n",
       "        text-align: right;\n",
       "    }\n",
       "</style>\n",
       "<table border=\"1\" class=\"dataframe\">\n",
       "  <thead>\n",
       "    <tr style=\"text-align: right;\">\n",
       "      <th></th>\n",
       "      <th>θ0</th>\n",
       "      <th>θ1</th>\n",
       "      <th>θ2</th>\n",
       "      <th>θ3</th>\n",
       "      <th>θ4</th>\n",
       "      <th>θ5</th>\n",
       "      <th>θ6</th>\n",
       "    </tr>\n",
       "  </thead>\n",
       "  <tbody>\n",
       "    <tr>\n",
       "      <th>θ0</th>\n",
       "      <td>-3.6e-04</td>\n",
       "      <td>2.8e-04</td>\n",
       "      <td>0.0e+00</td>\n",
       "      <td>0.0e+00</td>\n",
       "      <td>0.0e+00</td>\n",
       "      <td>0.0e+00</td>\n",
       "      <td>0.0e+00</td>\n",
       "    </tr>\n",
       "    <tr>\n",
       "      <th>θ1</th>\n",
       "      <td>2.8e-04</td>\n",
       "      <td>-5.5e-04</td>\n",
       "      <td>2.8e-04</td>\n",
       "      <td>0.0e+00</td>\n",
       "      <td>0.0e+00</td>\n",
       "      <td>0.0e+00</td>\n",
       "      <td>0.0e+00</td>\n",
       "    </tr>\n",
       "    <tr>\n",
       "      <th>θ2</th>\n",
       "      <td>0.0e+00</td>\n",
       "      <td>2.8e-04</td>\n",
       "      <td>-5.5e-04</td>\n",
       "      <td>2.8e-04</td>\n",
       "      <td>0.0e+00</td>\n",
       "      <td>0.0e+00</td>\n",
       "      <td>0.0e+00</td>\n",
       "    </tr>\n",
       "    <tr>\n",
       "      <th>θ3</th>\n",
       "      <td>0.0e+00</td>\n",
       "      <td>0.0e+00</td>\n",
       "      <td>2.8e-04</td>\n",
       "      <td>-3.0e-04</td>\n",
       "      <td>1.9e-05</td>\n",
       "      <td>0.0e+00</td>\n",
       "      <td>0.0e+00</td>\n",
       "    </tr>\n",
       "    <tr>\n",
       "      <th>θ4</th>\n",
       "      <td>0.0e+00</td>\n",
       "      <td>0.0e+00</td>\n",
       "      <td>0.0e+00</td>\n",
       "      <td>2.5e-03</td>\n",
       "      <td>-3.8e-03</td>\n",
       "      <td>1.3e-03</td>\n",
       "      <td>0.0e+00</td>\n",
       "    </tr>\n",
       "    <tr>\n",
       "      <th>θ5</th>\n",
       "      <td>0.0e+00</td>\n",
       "      <td>0.0e+00</td>\n",
       "      <td>0.0e+00</td>\n",
       "      <td>0.0e+00</td>\n",
       "      <td>1.3e-03</td>\n",
       "      <td>-3.0e-03</td>\n",
       "      <td>1.7e-03</td>\n",
       "    </tr>\n",
       "    <tr>\n",
       "      <th>θ6</th>\n",
       "      <td>0.0e+00</td>\n",
       "      <td>0.0e+00</td>\n",
       "      <td>0.0e+00</td>\n",
       "      <td>0.0e+00</td>\n",
       "      <td>0.0e+00</td>\n",
       "      <td>3.7e-04</td>\n",
       "      <td>-3.7e-04</td>\n",
       "    </tr>\n",
       "  </tbody>\n",
       "</table>\n",
       "</div>"
      ],
      "text/plain": [
       "         θ0       θ1       θ2       θ3       θ4       θ5       θ6\n",
       "θ0 -3.6e-04  2.8e-04  0.0e+00  0.0e+00  0.0e+00  0.0e+00  0.0e+00\n",
       "θ1  2.8e-04 -5.5e-04  2.8e-04  0.0e+00  0.0e+00  0.0e+00  0.0e+00\n",
       "θ2  0.0e+00  2.8e-04 -5.5e-04  2.8e-04  0.0e+00  0.0e+00  0.0e+00\n",
       "θ3  0.0e+00  0.0e+00  2.8e-04 -3.0e-04  1.9e-05  0.0e+00  0.0e+00\n",
       "θ4  0.0e+00  0.0e+00  0.0e+00  2.5e-03 -3.8e-03  1.3e-03  0.0e+00\n",
       "θ5  0.0e+00  0.0e+00  0.0e+00  0.0e+00  1.3e-03 -3.0e-03  1.7e-03\n",
       "θ6  0.0e+00  0.0e+00  0.0e+00  0.0e+00  0.0e+00  3.7e-04 -3.7e-04"
      ]
     },
     "execution_count": 17,
     "metadata": {},
     "output_type": "execute_result"
    }
   ],
   "source": [
    "# State matrix\n",
    "As = -np.linalg.inv(C) @ A.T @ G @ A\n",
    "pd.set_option('precision', 1)\n",
    "pd.DataFrame(As, index=θ, columns=θ)"
   ]
  },
  {
   "cell_type": "markdown",
   "id": "1a5dc77c-73b3-40d5-9ce7-ab435daf6e70",
   "metadata": {
    "tags": []
   },
   "source": [
    "The input matrix is\n",
    "$B_s = C^{-1}\\begin{bmatrix}\n",
    "A^T G & I\n",
    "\\end{bmatrix}$."
   ]
  },
  {
   "cell_type": "code",
   "execution_count": 18,
   "id": "3209c96b-2b15-40ee-b88d-9ef2f999b3ed",
   "metadata": {},
   "outputs": [
    {
     "data": {
      "text/html": [
       "<div>\n",
       "<style scoped>\n",
       "    .dataframe tbody tr th:only-of-type {\n",
       "        vertical-align: middle;\n",
       "    }\n",
       "\n",
       "    .dataframe tbody tr th {\n",
       "        vertical-align: top;\n",
       "    }\n",
       "\n",
       "    .dataframe thead th {\n",
       "        text-align: right;\n",
       "    }\n",
       "</style>\n",
       "<table border=\"1\" class=\"dataframe\">\n",
       "  <thead>\n",
       "    <tr style=\"text-align: right;\">\n",
       "      <th></th>\n",
       "      <th>q0</th>\n",
       "      <th>q1</th>\n",
       "      <th>q2</th>\n",
       "      <th>q3</th>\n",
       "      <th>q4</th>\n",
       "      <th>q5</th>\n",
       "      <th>q6</th>\n",
       "      <th>θ0</th>\n",
       "      <th>θ1</th>\n",
       "      <th>θ2</th>\n",
       "      <th>θ3</th>\n",
       "      <th>θ4</th>\n",
       "      <th>θ5</th>\n",
       "      <th>θ6</th>\n",
       "    </tr>\n",
       "  </thead>\n",
       "  <tbody>\n",
       "    <tr>\n",
       "      <th>θ0</th>\n",
       "      <td>8.38e-05</td>\n",
       "      <td>-2.77e-04</td>\n",
       "      <td>0.00e+00</td>\n",
       "      <td>0.00e+00</td>\n",
       "      <td>0.00e+00</td>\n",
       "      <td>0.00e+00</td>\n",
       "      <td>0.00e+00</td>\n",
       "      <td>1.10e-06</td>\n",
       "      <td>0.00e+00</td>\n",
       "      <td>0.00e+00</td>\n",
       "      <td>0.00e+00</td>\n",
       "      <td>0.00e+00</td>\n",
       "      <td>0.00e+00</td>\n",
       "      <td>0.00e+00</td>\n",
       "    </tr>\n",
       "    <tr>\n",
       "      <th>θ1</th>\n",
       "      <td>0.00e+00</td>\n",
       "      <td>2.77e-04</td>\n",
       "      <td>-2.77e-04</td>\n",
       "      <td>0.00e+00</td>\n",
       "      <td>0.00e+00</td>\n",
       "      <td>0.00e+00</td>\n",
       "      <td>0.00e+00</td>\n",
       "      <td>0.00e+00</td>\n",
       "      <td>1.10e-06</td>\n",
       "      <td>0.00e+00</td>\n",
       "      <td>0.00e+00</td>\n",
       "      <td>0.00e+00</td>\n",
       "      <td>0.00e+00</td>\n",
       "      <td>0.00e+00</td>\n",
       "    </tr>\n",
       "    <tr>\n",
       "      <th>θ2</th>\n",
       "      <td>0.00e+00</td>\n",
       "      <td>0.00e+00</td>\n",
       "      <td>2.77e-04</td>\n",
       "      <td>-2.77e-04</td>\n",
       "      <td>0.00e+00</td>\n",
       "      <td>0.00e+00</td>\n",
       "      <td>0.00e+00</td>\n",
       "      <td>0.00e+00</td>\n",
       "      <td>0.00e+00</td>\n",
       "      <td>1.10e-06</td>\n",
       "      <td>0.00e+00</td>\n",
       "      <td>0.00e+00</td>\n",
       "      <td>0.00e+00</td>\n",
       "      <td>0.00e+00</td>\n",
       "    </tr>\n",
       "    <tr>\n",
       "      <th>θ3</th>\n",
       "      <td>0.00e+00</td>\n",
       "      <td>0.00e+00</td>\n",
       "      <td>0.00e+00</td>\n",
       "      <td>2.77e-04</td>\n",
       "      <td>-1.91e-05</td>\n",
       "      <td>0.00e+00</td>\n",
       "      <td>0.00e+00</td>\n",
       "      <td>0.00e+00</td>\n",
       "      <td>0.00e+00</td>\n",
       "      <td>0.00e+00</td>\n",
       "      <td>1.10e-06</td>\n",
       "      <td>0.00e+00</td>\n",
       "      <td>0.00e+00</td>\n",
       "      <td>0.00e+00</td>\n",
       "    </tr>\n",
       "    <tr>\n",
       "      <th>θ4</th>\n",
       "      <td>0.00e+00</td>\n",
       "      <td>0.00e+00</td>\n",
       "      <td>0.00e+00</td>\n",
       "      <td>0.00e+00</td>\n",
       "      <td>2.49e-03</td>\n",
       "      <td>-1.29e-03</td>\n",
       "      <td>0.00e+00</td>\n",
       "      <td>0.00e+00</td>\n",
       "      <td>0.00e+00</td>\n",
       "      <td>0.00e+00</td>\n",
       "      <td>0.00e+00</td>\n",
       "      <td>1.43e-04</td>\n",
       "      <td>0.00e+00</td>\n",
       "      <td>0.00e+00</td>\n",
       "    </tr>\n",
       "    <tr>\n",
       "      <th>θ5</th>\n",
       "      <td>0.00e+00</td>\n",
       "      <td>0.00e+00</td>\n",
       "      <td>0.00e+00</td>\n",
       "      <td>0.00e+00</td>\n",
       "      <td>0.00e+00</td>\n",
       "      <td>1.29e-03</td>\n",
       "      <td>-1.72e-03</td>\n",
       "      <td>0.00e+00</td>\n",
       "      <td>0.00e+00</td>\n",
       "      <td>0.00e+00</td>\n",
       "      <td>0.00e+00</td>\n",
       "      <td>0.00e+00</td>\n",
       "      <td>1.43e-04</td>\n",
       "      <td>0.00e+00</td>\n",
       "    </tr>\n",
       "    <tr>\n",
       "      <th>θ6</th>\n",
       "      <td>0.00e+00</td>\n",
       "      <td>0.00e+00</td>\n",
       "      <td>0.00e+00</td>\n",
       "      <td>0.00e+00</td>\n",
       "      <td>0.00e+00</td>\n",
       "      <td>0.00e+00</td>\n",
       "      <td>3.70e-04</td>\n",
       "      <td>0.00e+00</td>\n",
       "      <td>0.00e+00</td>\n",
       "      <td>0.00e+00</td>\n",
       "      <td>0.00e+00</td>\n",
       "      <td>0.00e+00</td>\n",
       "      <td>0.00e+00</td>\n",
       "      <td>3.09e-05</td>\n",
       "    </tr>\n",
       "  </tbody>\n",
       "</table>\n",
       "</div>"
      ],
      "text/plain": [
       "          q0        q1        q2        q3        q4        q5        q6  \\\n",
       "θ0  8.38e-05 -2.77e-04  0.00e+00  0.00e+00  0.00e+00  0.00e+00  0.00e+00   \n",
       "θ1  0.00e+00  2.77e-04 -2.77e-04  0.00e+00  0.00e+00  0.00e+00  0.00e+00   \n",
       "θ2  0.00e+00  0.00e+00  2.77e-04 -2.77e-04  0.00e+00  0.00e+00  0.00e+00   \n",
       "θ3  0.00e+00  0.00e+00  0.00e+00  2.77e-04 -1.91e-05  0.00e+00  0.00e+00   \n",
       "θ4  0.00e+00  0.00e+00  0.00e+00  0.00e+00  2.49e-03 -1.29e-03  0.00e+00   \n",
       "θ5  0.00e+00  0.00e+00  0.00e+00  0.00e+00  0.00e+00  1.29e-03 -1.72e-03   \n",
       "θ6  0.00e+00  0.00e+00  0.00e+00  0.00e+00  0.00e+00  0.00e+00  3.70e-04   \n",
       "\n",
       "          θ0        θ1        θ2        θ3        θ4        θ5        θ6  \n",
       "θ0  1.10e-06  0.00e+00  0.00e+00  0.00e+00  0.00e+00  0.00e+00  0.00e+00  \n",
       "θ1  0.00e+00  1.10e-06  0.00e+00  0.00e+00  0.00e+00  0.00e+00  0.00e+00  \n",
       "θ2  0.00e+00  0.00e+00  1.10e-06  0.00e+00  0.00e+00  0.00e+00  0.00e+00  \n",
       "θ3  0.00e+00  0.00e+00  0.00e+00  1.10e-06  0.00e+00  0.00e+00  0.00e+00  \n",
       "θ4  0.00e+00  0.00e+00  0.00e+00  0.00e+00  1.43e-04  0.00e+00  0.00e+00  \n",
       "θ5  0.00e+00  0.00e+00  0.00e+00  0.00e+00  0.00e+00  1.43e-04  0.00e+00  \n",
       "θ6  0.00e+00  0.00e+00  0.00e+00  0.00e+00  0.00e+00  0.00e+00  3.09e-05  "
      ]
     },
     "execution_count": 18,
     "metadata": {},
     "output_type": "execute_result"
    }
   ],
   "source": [
    "# Input matrix\n",
    "Bs = np.linalg.inv(C) @ np.block([A.T @ G, np.eye(no_θ)])\n",
    "pd.set_option('precision', 2)\n",
    "pd.DataFrame(Bs, index=θ, columns=q + θ)"
   ]
  },
  {
   "cell_type": "markdown",
   "id": "21300bdb-5397-4da3-b897-2d14e010e1d6",
   "metadata": {
    "tags": []
   },
   "source": [
    "The input vector is formed by stacking the vector of temperature sources $b$ and the vector of flow sources $f$:\n",
    "\n",
    "$$u = \\begin{bmatrix} b \\\\ f\\end{bmatrix}$$\n",
    "\n",
    "However, many sources in the model are zero. For our example, there are only two sources: $T_o$ and $\\dot{Q}_h$. Therefore,\n",
    "\n",
    "$$b = \\begin{bmatrix}\n",
    "T_o\\\\ \n",
    "0\\\\ \n",
    "...\\\\ \n",
    "0\n",
    "\\end{bmatrix}$$\n",
    "\n",
    "and\n",
    "\n",
    "$$f = \\begin{bmatrix}\n",
    "0\\\\ \n",
    "0\\\\ \n",
    "...\\\\ \n",
    "\\dot{Q}_h\n",
    "\\end{bmatrix}$$\n",
    "\n",
    "Since the sources that are always zero have no influence on the outputs, they can be eliminated from the input vector, which becomes:\n",
    "\n",
    "$$u = \\begin{bmatrix} T_o \\\\ \\dot{Q}_h\\end{bmatrix}$$\n",
    "\n",
    "that is, only the columns that correspond to existing sources, i.e., the 1st and the last columns, are kept in matrix $B_s$."
   ]
  },
  {
   "cell_type": "code",
   "execution_count": 19,
   "id": "f6dd7129-672e-4239-82ed-7a557c0916a1",
   "metadata": {
    "tags": []
   },
   "outputs": [
    {
     "data": {
      "text/html": [
       "<div>\n",
       "<style scoped>\n",
       "    .dataframe tbody tr th:only-of-type {\n",
       "        vertical-align: middle;\n",
       "    }\n",
       "\n",
       "    .dataframe tbody tr th {\n",
       "        vertical-align: top;\n",
       "    }\n",
       "\n",
       "    .dataframe thead th {\n",
       "        text-align: right;\n",
       "    }\n",
       "</style>\n",
       "<table border=\"1\" class=\"dataframe\">\n",
       "  <thead>\n",
       "    <tr style=\"text-align: right;\">\n",
       "      <th></th>\n",
       "      <th>To</th>\n",
       "      <th>Qh</th>\n",
       "    </tr>\n",
       "  </thead>\n",
       "  <tbody>\n",
       "    <tr>\n",
       "      <th>0</th>\n",
       "      <td>8.38e-05</td>\n",
       "      <td>0.00e+00</td>\n",
       "    </tr>\n",
       "    <tr>\n",
       "      <th>1</th>\n",
       "      <td>0.00e+00</td>\n",
       "      <td>0.00e+00</td>\n",
       "    </tr>\n",
       "    <tr>\n",
       "      <th>2</th>\n",
       "      <td>0.00e+00</td>\n",
       "      <td>0.00e+00</td>\n",
       "    </tr>\n",
       "    <tr>\n",
       "      <th>3</th>\n",
       "      <td>0.00e+00</td>\n",
       "      <td>0.00e+00</td>\n",
       "    </tr>\n",
       "    <tr>\n",
       "      <th>4</th>\n",
       "      <td>0.00e+00</td>\n",
       "      <td>0.00e+00</td>\n",
       "    </tr>\n",
       "    <tr>\n",
       "      <th>5</th>\n",
       "      <td>0.00e+00</td>\n",
       "      <td>0.00e+00</td>\n",
       "    </tr>\n",
       "    <tr>\n",
       "      <th>6</th>\n",
       "      <td>0.00e+00</td>\n",
       "      <td>3.09e-05</td>\n",
       "    </tr>\n",
       "  </tbody>\n",
       "</table>\n",
       "</div>"
      ],
      "text/plain": [
       "         To        Qh\n",
       "0  8.38e-05  0.00e+00\n",
       "1  0.00e+00  0.00e+00\n",
       "2  0.00e+00  0.00e+00\n",
       "3  0.00e+00  0.00e+00\n",
       "4  0.00e+00  0.00e+00\n",
       "5  0.00e+00  0.00e+00\n",
       "6  0.00e+00  3.09e-05"
      ]
     },
     "execution_count": 19,
     "metadata": {},
     "output_type": "execute_result"
    }
   ],
   "source": [
    "# Select columns for which the input vector is not zero\n",
    "# 1st column for To and last column for Qh\n",
    "Bs = Bs[:, [0, -1]]\n",
    "pd.DataFrame(Bs, columns=['To', 'Qh'])"
   ]
  },
  {
   "cell_type": "markdown",
   "id": "5673cfbb-4f87-4649-a38c-151e6fec0efc",
   "metadata": {
    "tags": []
   },
   "source": [
    "The output matrix $C_s$ extracts the values of interest from the state vector (the vector of temperatures). In our case, the temperature of interest is the indoor temperature,\n",
    "\n",
    "$$T_o \\equiv  \\theta_6 = \\begin{bmatrix}\n",
    "0 & 0 & 0 & 0 & 0 & 0 & 1\n",
    "\\end{bmatrix}\n",
    "\\begin{bmatrix}\n",
    "\\theta_0\\\\ \n",
    "\\theta_1\\\\ \n",
    "\\theta_2\\\\ \n",
    "\\theta_3\\\\ \n",
    "\\theta_4\\\\ \n",
    "\\theta_5\\\\ \n",
    "\\theta_6\n",
    "\\end{bmatrix} = C_s \\theta$$\n",
    "\n",
    "which gives\n",
    "\n",
    "$$C_s = \\begin{bmatrix}\n",
    "0 & 0 & 0 & 0 & 0 & 0 & 1\n",
    "\\end{bmatrix}$$"
   ]
  },
  {
   "cell_type": "code",
   "execution_count": 20,
   "id": "50b2af3c-cc3d-4bd5-973e-f3d28b6c6829",
   "metadata": {},
   "outputs": [],
   "source": [
    "# Output matrix\n",
    "Cs = np.zeros((1, no_θ))\n",
    "# output: last temperature node\n",
    "Cs[:, -1] = 1"
   ]
  },
  {
   "cell_type": "markdown",
   "id": "2c89f7bd-c9cb-467d-9b6b-eff6a50f49c2",
   "metadata": {
    "tags": []
   },
   "source": [
    "The feedthrough matrix $D_s$ has one row (the number of outputs) and two columns, the number of inputs in vector $u$, which is the same as the number of columns of matrix $B_s$. In this case, $D_s$ is composed entirely of zeros."
   ]
  },
  {
   "cell_type": "code",
   "execution_count": 21,
   "id": "bed9883f-94da-435e-93ec-fc5230603cae",
   "metadata": {},
   "outputs": [],
   "source": [
    "# Feedthrough (or feedforward) matrix\n",
    "Ds = np.zeros(Bs.shape[1])"
   ]
  },
  {
   "cell_type": "markdown",
   "id": "ac4cf6ec-7887-4636-848a-f246a3e81f35",
   "metadata": {
    "tags": []
   },
   "source": [
    "## Eigenvalue analysis\n",
    "\n",
    "### Time constants\n",
    "\n",
    "The [stability condition for explicit Euler method](https://en.m.wikipedia.org/wiki/Euler_method#Numerical_stability) requires that all eigenvalues $\\lambda _i \\in \\mathbb{Z}$ of the state matrix $A_s$ satisfy the condition\n",
    "\n",
    "$$ \\left | 1 + \\lambda _i \\Delta t \\right | \\leq 1, \\forall i $$\n",
    "\n",
    "If all eigenvalues of state matrix $A_s$ are real, as is the case for thermal networks, then the above condition becomes:\n",
    "\n",
    "$$ -2 \\leq \\lambda _i\\Delta t\\leq 0, ∀ i.$$\n",
    "\n",
    "Since the eigenvalues $\\lambda_i$ are related to the time constants $T_i$,\n",
    "\n",
    "$$ \\lambda _i = - \\frac{1}{T_i},$$\n",
    "\n",
    "it results that the condition for stability is \n",
    "\n",
    "$$ 0 \\leq \\Delta t \\leq \\min (-2 / \\lambda_i) = 2 \\min (T_i).$$"
   ]
  },
  {
   "cell_type": "code",
   "execution_count": 22,
   "id": "5946e145-25e6-44f6-8779-0197f8a79ac8",
   "metadata": {
    "tags": []
   },
   "outputs": [
    {
     "name": "stdout",
     "output_type": "stream",
     "text": [
      "Time constants: \n",
      " [  208.1   441.   1051.   1731.8 62794.2  4925.9  9141.6] s \n",
      "\n",
      "2 x Time constants: \n",
      " [   416.1    881.9   2101.9   3463.6 125588.4   9851.9  18283.1] s \n",
      "\n",
      "Max time step Δt = 416.11 s\n"
     ]
    }
   ],
   "source": [
    "λ = np.linalg.eig(As)[0]    # minimum eigenvalue of matrix A\n",
    "max_Δt = min(-2 / λ)\n",
    "\n",
    "np.set_printoptions(precision=1)\n",
    "print('Time constants: \\n', -1 / λ, 's \\n')\n",
    "print('2 x Time constants: \\n', -2 / λ, 's \\n')\n",
    "print(f'Max time step Δt = {max_Δt:.2f} s')"
   ]
  },
  {
   "cell_type": "markdown",
   "id": "ce6aacd0-a76e-4f81-b4f3-6ffc2a36226b",
   "metadata": {},
   "source": [
    "### Time step\n",
    "\n",
    "We choose a time step a multiple of 60 s which is smaller than the maximum admited for stability."
   ]
  },
  {
   "cell_type": "code",
   "execution_count": 23,
   "id": "778057b4-8cee-4951-8857-5c6c943d8cf4",
   "metadata": {},
   "outputs": [
    {
     "name": "stdout",
     "output_type": "stream",
     "text": [
      "Δt = 360.0 s\n"
     ]
    }
   ],
   "source": [
    "# time step\n",
    "Δt = np.floor(max_Δt / 60) * 60   # s\n",
    "print(f'Δt = {Δt} s')"
   ]
  },
  {
   "cell_type": "markdown",
   "id": "04944474-81b5-4bf9-b3b8-bb106be8ee57",
   "metadata": {},
   "source": [
    "### Settling time\n",
    "The settling time is about four times the largest time constant."
   ]
  },
  {
   "cell_type": "code",
   "execution_count": 24,
   "id": "7bcf63a1-4831-4ea0-8074-ec2dcfe43243",
   "metadata": {},
   "outputs": [
    {
     "name": "stdout",
     "output_type": "stream",
     "text": [
      "Settling time: 251176.86 s = 69.77 h\n"
     ]
    }
   ],
   "source": [
    "# settling time\n",
    "t_settle = 4 * max(-1 / λ)\n",
    "print(f'Settling time: {t_settle:.2f} s = {t_settle / 3600:.2f} h')"
   ]
  },
  {
   "cell_type": "markdown",
   "id": "9607c44f-3d74-433e-94af-4cfd94009793",
   "metadata": {
    "tags": []
   },
   "source": [
    "## Simulation\n",
    "\n",
    "We will study the dynamic response of the model to: \n",
    "- a step variation of a source (outdoor temperature $T_o$ or indoor flow $\\dot{Q}_h$);\n",
    "- variation of outdoor temperature given by weather data\n",
    "\n",
    "by using explicit and implicit Euler methods for time integration."
   ]
  },
  {
   "cell_type": "markdown",
   "id": "004b7645-e93f-4d7a-b3be-eda0726b08fe",
   "metadata": {
    "tags": []
   },
   "source": [
    "### Step response\n",
    "\n",
    "#### Outdoor temperature\n",
    "\n",
    "The [step response](https://en.m.wikipedia.org/wiki/Step_response) is the time evolution of the output(s) when the input is a [step function](https://en.m.wikipedia.org/wiki/Heaviside_step_function). Usually, the zero initial conditions (i.e. the system is at rest and there is no accumulations of energy in the capacities) are considered.\n"
   ]
  },
  {
   "cell_type": "markdown",
   "id": "0a5aaf06-f1af-4ed2-88b7-a9beaf6326a5",
   "metadata": {
    "tags": []
   },
   "source": [
    "The number of time steps depends on the settling time and the time step."
   ]
  },
  {
   "cell_type": "code",
   "execution_count": 25,
   "id": "a8a81faa-b36f-442e-bb1d-c27c58ccfef8",
   "metadata": {
    "tags": []
   },
   "outputs": [
    {
     "data": {
      "text/html": [
       "<div>\n",
       "<style scoped>\n",
       "    .dataframe tbody tr th:only-of-type {\n",
       "        vertical-align: middle;\n",
       "    }\n",
       "\n",
       "    .dataframe tbody tr th {\n",
       "        vertical-align: top;\n",
       "    }\n",
       "\n",
       "    .dataframe thead th {\n",
       "        text-align: right;\n",
       "    }\n",
       "</style>\n",
       "<table border=\"1\" class=\"dataframe\">\n",
       "  <thead>\n",
       "    <tr style=\"text-align: right;\">\n",
       "      <th></th>\n",
       "      <th>time</th>\n",
       "    </tr>\n",
       "  </thead>\n",
       "  <tbody>\n",
       "    <tr>\n",
       "      <th>0</th>\n",
       "      <td>0.0</td>\n",
       "    </tr>\n",
       "    <tr>\n",
       "      <th>1</th>\n",
       "      <td>360.0</td>\n",
       "    </tr>\n",
       "    <tr>\n",
       "      <th>2</th>\n",
       "      <td>720.0</td>\n",
       "    </tr>\n",
       "    <tr>\n",
       "      <th>3</th>\n",
       "      <td>1080.0</td>\n",
       "    </tr>\n",
       "    <tr>\n",
       "      <th>4</th>\n",
       "      <td>1440.0</td>\n",
       "    </tr>\n",
       "    <tr>\n",
       "      <th>...</th>\n",
       "      <td>...</td>\n",
       "    </tr>\n",
       "    <tr>\n",
       "      <th>693</th>\n",
       "      <td>249480.0</td>\n",
       "    </tr>\n",
       "    <tr>\n",
       "      <th>694</th>\n",
       "      <td>249840.0</td>\n",
       "    </tr>\n",
       "    <tr>\n",
       "      <th>695</th>\n",
       "      <td>250200.0</td>\n",
       "    </tr>\n",
       "    <tr>\n",
       "      <th>696</th>\n",
       "      <td>250560.0</td>\n",
       "    </tr>\n",
       "    <tr>\n",
       "      <th>697</th>\n",
       "      <td>250920.0</td>\n",
       "    </tr>\n",
       "  </tbody>\n",
       "</table>\n",
       "<p>698 rows × 1 columns</p>\n",
       "</div>"
      ],
      "text/plain": [
       "         time\n",
       "0         0.0\n",
       "1       360.0\n",
       "2       720.0\n",
       "3      1080.0\n",
       "4      1440.0\n",
       "..        ...\n",
       "693  249480.0\n",
       "694  249840.0\n",
       "695  250200.0\n",
       "696  250560.0\n",
       "697  250920.0\n",
       "\n",
       "[698 rows x 1 columns]"
      ]
     },
     "execution_count": 25,
     "metadata": {},
     "output_type": "execute_result"
    }
   ],
   "source": [
    "# number of time steps\n",
    "n = int(np.ceil(t_settle / Δt))\n",
    "# time vector\n",
    "t = np.arange(0, n * Δt, Δt)\n",
    "pd.DataFrame(t, columns=['time'])"
   ]
  },
  {
   "cell_type": "markdown",
   "id": "21f5c5f7-9c6c-4922-9002-59c9220add47",
   "metadata": {},
   "source": [
    "Let's assume that the outdoor temperature $T_o$ has a step variation of 1°C (the indoor heat flow is zero, $\\dot{Q}_h = 0$).\n",
    "\n",
    "The input vector is formed by the vector of outdoor temperature and the vector of indoor heat-flow rate."
   ]
  },
  {
   "cell_type": "code",
   "execution_count": 26,
   "id": "8beaea55-da77-4700-813e-90e7f6e2b8c8",
   "metadata": {},
   "outputs": [
    {
     "data": {
      "text/html": [
       "<div>\n",
       "<style scoped>\n",
       "    .dataframe tbody tr th:only-of-type {\n",
       "        vertical-align: middle;\n",
       "    }\n",
       "\n",
       "    .dataframe tbody tr th {\n",
       "        vertical-align: top;\n",
       "    }\n",
       "\n",
       "    .dataframe thead th {\n",
       "        text-align: right;\n",
       "    }\n",
       "</style>\n",
       "<table border=\"1\" class=\"dataframe\">\n",
       "  <thead>\n",
       "    <tr style=\"text-align: right;\">\n",
       "      <th></th>\n",
       "      <th>0</th>\n",
       "      <th>1</th>\n",
       "      <th>2</th>\n",
       "      <th>3</th>\n",
       "      <th>4</th>\n",
       "      <th>5</th>\n",
       "      <th>6</th>\n",
       "      <th>7</th>\n",
       "      <th>8</th>\n",
       "      <th>9</th>\n",
       "      <th>...</th>\n",
       "      <th>688</th>\n",
       "      <th>689</th>\n",
       "      <th>690</th>\n",
       "      <th>691</th>\n",
       "      <th>692</th>\n",
       "      <th>693</th>\n",
       "      <th>694</th>\n",
       "      <th>695</th>\n",
       "      <th>696</th>\n",
       "      <th>697</th>\n",
       "    </tr>\n",
       "  </thead>\n",
       "  <tbody>\n",
       "    <tr>\n",
       "      <th>0</th>\n",
       "      <td>1.0</td>\n",
       "      <td>1.0</td>\n",
       "      <td>1.0</td>\n",
       "      <td>1.0</td>\n",
       "      <td>1.0</td>\n",
       "      <td>1.0</td>\n",
       "      <td>1.0</td>\n",
       "      <td>1.0</td>\n",
       "      <td>1.0</td>\n",
       "      <td>1.0</td>\n",
       "      <td>...</td>\n",
       "      <td>1.0</td>\n",
       "      <td>1.0</td>\n",
       "      <td>1.0</td>\n",
       "      <td>1.0</td>\n",
       "      <td>1.0</td>\n",
       "      <td>1.0</td>\n",
       "      <td>1.0</td>\n",
       "      <td>1.0</td>\n",
       "      <td>1.0</td>\n",
       "      <td>1.0</td>\n",
       "    </tr>\n",
       "    <tr>\n",
       "      <th>1</th>\n",
       "      <td>0.0</td>\n",
       "      <td>0.0</td>\n",
       "      <td>0.0</td>\n",
       "      <td>0.0</td>\n",
       "      <td>0.0</td>\n",
       "      <td>0.0</td>\n",
       "      <td>0.0</td>\n",
       "      <td>0.0</td>\n",
       "      <td>0.0</td>\n",
       "      <td>0.0</td>\n",
       "      <td>...</td>\n",
       "      <td>0.0</td>\n",
       "      <td>0.0</td>\n",
       "      <td>0.0</td>\n",
       "      <td>0.0</td>\n",
       "      <td>0.0</td>\n",
       "      <td>0.0</td>\n",
       "      <td>0.0</td>\n",
       "      <td>0.0</td>\n",
       "      <td>0.0</td>\n",
       "      <td>0.0</td>\n",
       "    </tr>\n",
       "  </tbody>\n",
       "</table>\n",
       "<p>2 rows × 698 columns</p>\n",
       "</div>"
      ],
      "text/plain": [
       "   0    1    2    3    4    5    6    7    8    9    ...  688  689  690  691  \\\n",
       "0  1.0  1.0  1.0  1.0  1.0  1.0  1.0  1.0  1.0  1.0  ...  1.0  1.0  1.0  1.0   \n",
       "1  0.0  0.0  0.0  0.0  0.0  0.0  0.0  0.0  0.0  0.0  ...  0.0  0.0  0.0  0.0   \n",
       "\n",
       "   692  693  694  695  696  697  \n",
       "0  1.0  1.0  1.0  1.0  1.0  1.0  \n",
       "1  0.0  0.0  0.0  0.0  0.0  0.0  \n",
       "\n",
       "[2 rows x 698 columns]"
      ]
     },
     "execution_count": 26,
     "metadata": {},
     "output_type": "execute_result"
    }
   ],
   "source": [
    "u = np.block([[np.ones([1, n])],    # To = [1, 1, ... , 1]\n",
    "              [np.zeros([1, n])]])  # Qh = [0, 0, ... , 0]\n",
    "pd.DataFrame(u)"
   ]
  },
  {
   "cell_type": "markdown",
   "id": "22aa2c9c-6d2a-4275-a7da-328a73678d47",
   "metadata": {},
   "source": [
    "Let's assume zero initial conditions for the temperature vector (i.e., all temperatures and their derivatives are zero) for explicit and implicit Euler integration methods."
   ]
  },
  {
   "cell_type": "code",
   "execution_count": 27,
   "id": "45d89d6a-7246-4cae-b2ee-47cac89128f1",
   "metadata": {},
   "outputs": [],
   "source": [
    "# initial values for temperatures obtained by explicit and implicit Euler\n",
    "θ_exp = np.zeros([no_θ, t.shape[0]])\n",
    "θ_imp = np.zeros([no_θ, t.shape[0]])"
   ]
  },
  {
   "cell_type": "markdown",
   "id": "c9b1dddb-7ab4-4a06-a3dc-c7af53e6f00f",
   "metadata": {
    "tags": []
   },
   "source": [
    "The formula for [Euler](https://en.m.wikipedia.org/wiki/Euler_method) forward (or explicit) integration is:\n",
    "\n",
    "$$ \\theta_{k+1} = (I + \\Delta t A_s) \\theta _k + \\Delta t B_s u_k $$\n",
    "\n",
    "For Euler backward (or implicit) integration it is:\n",
    "\n",
    "$$\\theta_{k+1} = (I - \\Delta t A_s)^{-1} ( \\theta _k + \\Delta t B_s u_k )$$"
   ]
  },
  {
   "cell_type": "code",
   "execution_count": 28,
   "id": "02a1d979-9d72-4f1a-922f-d69e7710874b",
   "metadata": {},
   "outputs": [],
   "source": [
    "# time integration: Euler explicit & implicit\n",
    "for k in range(t.shape[0] - 1):\n",
    "    θ_exp[:, k + 1] = (np.eye(no_θ) + Δt * As) @\\\n",
    "        θ_exp[:, k] + Δt * Bs @ u[:, k]\n",
    "    θ_imp[:, k + 1] = np.linalg.inv(np.eye(no_θ) - Δt * As) @\\\n",
    "        (θ_imp[:, k] + Δt * Bs @ u[:, k])"
   ]
  },
  {
   "cell_type": "code",
   "execution_count": 29,
   "id": "fafd87a2-0fbf-448a-890e-fb764d98cef0",
   "metadata": {},
   "outputs": [
    {
     "data": {
      "image/png": "[encoded data removed]",
      "text/plain": [
       "<Figure size 432x288 with 1 Axes>"
      ]
     },
     "metadata": {
      "needs_background": "light"
     },
     "output_type": "display_data"
    }
   ],
   "source": [
    "# plot results\n",
    "fig, ax = plt.subplots()\n",
    "ax.plot(t / 3600, θ_exp[-1, :], t / 3600, θ_imp[-1, :])\n",
    "ax.set(xlabel='Time, $t$ / [h]',\n",
    "       ylabel='Air temperature, $θ$ / [°C]',\n",
    "       title='Step input: $T_o$')\n",
    "ax.legend(['Euler explicit', 'Euler implicit'])\n",
    "plt.show()"
   ]
  },
  {
   "cell_type": "markdown",
   "id": "ba736672-9e92-4fed-9b4d-b0bb439b6062",
   "metadata": {
    "tags": []
   },
   "source": [
    "> Figure 3. Step response to outdoor temperature $T_o$ obtained by explicit and implicit Euler integration of the state-space model. For small time steps, the two solutions are practically identical."
   ]
  },
  {
   "cell_type": "markdown",
   "id": "ab0db10a-5856-499d-a091-fc7a5e241be1",
   "metadata": {
    "tags": []
   },
   "source": [
    "#### Indoor heat flow rate\n",
    "\n",
    "Let's consider that the indoor heat flow rate $\\dot{Q}_h$ has a step variation of 1 W (the outdoor temperature is zero, $T_o = 0$)."
   ]
  },
  {
   "cell_type": "code",
   "execution_count": 30,
   "id": "ccdb13ba-33af-48d2-8d23-c41811bf4262",
   "metadata": {},
   "outputs": [
    {
     "data": {
      "text/html": [
       "<div>\n",
       "<style scoped>\n",
       "    .dataframe tbody tr th:only-of-type {\n",
       "        vertical-align: middle;\n",
       "    }\n",
       "\n",
       "    .dataframe tbody tr th {\n",
       "        vertical-align: top;\n",
       "    }\n",
       "\n",
       "    .dataframe thead th {\n",
       "        text-align: right;\n",
       "    }\n",
       "</style>\n",
       "<table border=\"1\" class=\"dataframe\">\n",
       "  <thead>\n",
       "    <tr style=\"text-align: right;\">\n",
       "      <th></th>\n",
       "      <th>0</th>\n",
       "      <th>1</th>\n",
       "      <th>2</th>\n",
       "      <th>3</th>\n",
       "      <th>4</th>\n",
       "      <th>5</th>\n",
       "      <th>6</th>\n",
       "      <th>7</th>\n",
       "      <th>8</th>\n",
       "      <th>9</th>\n",
       "      <th>...</th>\n",
       "      <th>688</th>\n",
       "      <th>689</th>\n",
       "      <th>690</th>\n",
       "      <th>691</th>\n",
       "      <th>692</th>\n",
       "      <th>693</th>\n",
       "      <th>694</th>\n",
       "      <th>695</th>\n",
       "      <th>696</th>\n",
       "      <th>697</th>\n",
       "    </tr>\n",
       "  </thead>\n",
       "  <tbody>\n",
       "    <tr>\n",
       "      <th>0</th>\n",
       "      <td>0.0</td>\n",
       "      <td>0.0</td>\n",
       "      <td>0.0</td>\n",
       "      <td>0.0</td>\n",
       "      <td>0.0</td>\n",
       "      <td>0.0</td>\n",
       "      <td>0.0</td>\n",
       "      <td>0.0</td>\n",
       "      <td>0.0</td>\n",
       "      <td>0.0</td>\n",
       "      <td>...</td>\n",
       "      <td>0.0</td>\n",
       "      <td>0.0</td>\n",
       "      <td>0.0</td>\n",
       "      <td>0.0</td>\n",
       "      <td>0.0</td>\n",
       "      <td>0.0</td>\n",
       "      <td>0.0</td>\n",
       "      <td>0.0</td>\n",
       "      <td>0.0</td>\n",
       "      <td>0.0</td>\n",
       "    </tr>\n",
       "    <tr>\n",
       "      <th>1</th>\n",
       "      <td>1.0</td>\n",
       "      <td>1.0</td>\n",
       "      <td>1.0</td>\n",
       "      <td>1.0</td>\n",
       "      <td>1.0</td>\n",
       "      <td>1.0</td>\n",
       "      <td>1.0</td>\n",
       "      <td>1.0</td>\n",
       "      <td>1.0</td>\n",
       "      <td>1.0</td>\n",
       "      <td>...</td>\n",
       "      <td>1.0</td>\n",
       "      <td>1.0</td>\n",
       "      <td>1.0</td>\n",
       "      <td>1.0</td>\n",
       "      <td>1.0</td>\n",
       "      <td>1.0</td>\n",
       "      <td>1.0</td>\n",
       "      <td>1.0</td>\n",
       "      <td>1.0</td>\n",
       "      <td>1.0</td>\n",
       "    </tr>\n",
       "  </tbody>\n",
       "</table>\n",
       "<p>2 rows × 698 columns</p>\n",
       "</div>"
      ],
      "text/plain": [
       "   0    1    2    3    4    5    6    7    8    9    ...  688  689  690  691  \\\n",
       "0  0.0  0.0  0.0  0.0  0.0  0.0  0.0  0.0  0.0  0.0  ...  0.0  0.0  0.0  0.0   \n",
       "1  1.0  1.0  1.0  1.0  1.0  1.0  1.0  1.0  1.0  1.0  ...  1.0  1.0  1.0  1.0   \n",
       "\n",
       "   692  693  694  695  696  697  \n",
       "0  0.0  0.0  0.0  0.0  0.0  0.0  \n",
       "1  1.0  1.0  1.0  1.0  1.0  1.0  \n",
       "\n",
       "[2 rows x 698 columns]"
      ]
     },
     "execution_count": 30,
     "metadata": {},
     "output_type": "execute_result"
    }
   ],
   "source": [
    "u = np.block([[np.zeros([1, n])],   # To = [0, 0, ... , 0]\n",
    "              [np.ones([1, n])]])   # Qh = [1, 1, ... , 1]\n",
    "pd.DataFrame(u)"
   ]
  },
  {
   "cell_type": "markdown",
   "id": "231e50c0-a0dc-473d-8524-b07af73e55a9",
   "metadata": {},
   "source": [
    "We initialize again to zero the temperature vector for explicit and implicit Euler."
   ]
  },
  {
   "cell_type": "code",
   "execution_count": 31,
   "id": "a634b12f-c35b-4dfe-bedd-5abbe8f77bb2",
   "metadata": {},
   "outputs": [],
   "source": [
    "θ_exp = np.zeros([no_θ, t.shape[0]])\n",
    "θ_imp = np.zeros([no_θ, t.shape[0]])"
   ]
  },
  {
   "cell_type": "markdown",
   "id": "fb201c0d-5f4e-47b9-b486-65ff911d327e",
   "metadata": {
    "tags": []
   },
   "source": [
    "The formula for Euler forward (or explicit) integration is\n",
    "\n",
    "$$ \\theta_{k+1} = (I + \\Delta t A_s) \\theta _k + \\Delta t B_s u_k $$\n",
    "\n",
    "and for Euler backward (or implicit) integration it is\n",
    "\n",
    "$$\\theta_{k+1} = (I - \\Delta t A_s)^{-1} ( \\theta _k + \\Delta t B_s u_k )$$"
   ]
  },
  {
   "cell_type": "code",
   "execution_count": 32,
   "id": "de5bd0bd-1623-402f-9d99-d458f804ec10",
   "metadata": {},
   "outputs": [],
   "source": [
    "for k in range(t.shape[0] - 1):\n",
    "    θ_exp[:, k + 1] = (np.eye(no_θ) + Δt * As) @\\\n",
    "        θ_exp[:, k] + Δt * Bs @ u[:, k]\n",
    "    θ_imp[:, k + 1] = np.linalg.inv(np.eye(no_θ) - Δt * As) @\\\n",
    "        (θ_imp[:, k] + Δt * Bs @ u[:, k])"
   ]
  },
  {
   "cell_type": "code",
   "execution_count": 33,
   "id": "b39e3552-b359-4ed4-b55a-7071d6adeb5b",
   "metadata": {},
   "outputs": [
    {
     "data": {
      "image/png": "[encoded data removed]",
      "text/plain": [
       "<Figure size 432x288 with 1 Axes>"
      ]
     },
     "metadata": {
      "needs_background": "light"
     },
     "output_type": "display_data"
    }
   ],
   "source": [
    "fig, ax = plt.subplots()\n",
    "ax.plot(t / 3600, θ_exp[-1, :], t / 3600, θ_imp[-1, :])\n",
    "ax.set(xlabel='Time, $t$ / [h]',\n",
    "       ylabel='Air temperature, $θ$ / [°C]',\n",
    "       title='Step input: $Q_h$')\n",
    "ax.legend(['Explicit', 'Implicit'])\n",
    "plt.show()"
   ]
  },
  {
   "cell_type": "markdown",
   "id": "b1e749af-0093-41f2-be11-5f79eaf0207e",
   "metadata": {
    "tags": []
   },
   "source": [
    "> Figure 4. Step response to indoor heat flow rate $\\dot{Q}_h$ obtained by explicit and implicit Euler integration of the state-space model."
   ]
  },
  {
   "cell_type": "markdown",
   "id": "43472649-b64d-4165-8269-aeb752898315",
   "metadata": {
    "tags": []
   },
   "source": [
    "### Simulation with outdoor temperature from weather data"
   ]
  },
  {
   "cell_type": "markdown",
   "id": "c2d6c4c1-6454-4bdf-94a7-c96335596e57",
   "metadata": {
    "tags": []
   },
   "source": [
    "#### Input data set\n",
    "##### Outdoor temperature\n",
    "We want the weather data for Lyon from `start_date`to `end_date`. "
   ]
  },
  {
   "cell_type": "code",
   "execution_count": 34,
   "id": "e93f760c-381f-4729-99e9-b209cee7ea98",
   "metadata": {
    "tags": []
   },
   "outputs": [],
   "source": [
    "start_date = '2000-04-10'\n",
    "end_date = '2000-05-15'\n",
    "filename = '../weather_data/FRA_Lyon.074810_IWEC.epw'"
   ]
  },
  {
   "cell_type": "markdown",
   "id": "42e3bb53-5406-4c21-a06f-e021fe7429cd",
   "metadata": {},
   "source": [
    "From the weather data, only the air temperature is kept. "
   ]
  },
  {
   "cell_type": "code",
   "execution_count": 35,
   "id": "460b93f7-256c-4339-befd-43944e5bd496",
   "metadata": {
    "tags": []
   },
   "outputs": [],
   "source": [
    "[data, meta] = dm4bem.read_epw(filename, coerce_year=None)\n",
    "# weather = data[[\"temp_air\", \"dir_n_rad\", \"dif_h_rad\"]]\n",
    "weather = data[[\"temp_air\"]]\n",
    "del data"
   ]
  },
  {
   "cell_type": "markdown",
   "id": "a71d288a-a902-417f-9dbd-e6486fd53f11",
   "metadata": {},
   "source": [
    "In the weather data file, each month is taken from another year. We will replace the years with only one value, e.g. 2000, then keep only the values between `start_date` and `end_date`."
   ]
  },
  {
   "cell_type": "code",
   "execution_count": 36,
   "id": "eac78fba-d23d-4b02-a0d0-85f452cc0e58",
   "metadata": {
    "tags": []
   },
   "outputs": [
    {
     "data": {
      "text/html": [
       "<div>\n",
       "<style scoped>\n",
       "    .dataframe tbody tr th:only-of-type {\n",
       "        vertical-align: middle;\n",
       "    }\n",
       "\n",
       "    .dataframe tbody tr th {\n",
       "        vertical-align: top;\n",
       "    }\n",
       "\n",
       "    .dataframe thead th {\n",
       "        text-align: right;\n",
       "    }\n",
       "</style>\n",
       "<table border=\"1\" class=\"dataframe\">\n",
       "  <thead>\n",
       "    <tr style=\"text-align: right;\">\n",
       "      <th></th>\n",
       "      <th>temp_air</th>\n",
       "    </tr>\n",
       "  </thead>\n",
       "  <tbody>\n",
       "    <tr>\n",
       "      <th>2000-04-10 00:00:00+01:00</th>\n",
       "      <td>5.1</td>\n",
       "    </tr>\n",
       "    <tr>\n",
       "      <th>2000-04-10 01:00:00+01:00</th>\n",
       "      <td>4.5</td>\n",
       "    </tr>\n",
       "    <tr>\n",
       "      <th>2000-04-10 02:00:00+01:00</th>\n",
       "      <td>3.8</td>\n",
       "    </tr>\n",
       "    <tr>\n",
       "      <th>2000-04-10 03:00:00+01:00</th>\n",
       "      <td>3.2</td>\n",
       "    </tr>\n",
       "    <tr>\n",
       "      <th>2000-04-10 04:00:00+01:00</th>\n",
       "      <td>3.1</td>\n",
       "    </tr>\n",
       "    <tr>\n",
       "      <th>...</th>\n",
       "      <td>...</td>\n",
       "    </tr>\n",
       "    <tr>\n",
       "      <th>2000-05-15 19:00:00+01:00</th>\n",
       "      <td>14.0</td>\n",
       "    </tr>\n",
       "    <tr>\n",
       "      <th>2000-05-15 20:00:00+01:00</th>\n",
       "      <td>14.0</td>\n",
       "    </tr>\n",
       "    <tr>\n",
       "      <th>2000-05-15 21:00:00+01:00</th>\n",
       "      <td>12.6</td>\n",
       "    </tr>\n",
       "    <tr>\n",
       "      <th>2000-05-15 22:00:00+01:00</th>\n",
       "      <td>12.0</td>\n",
       "    </tr>\n",
       "    <tr>\n",
       "      <th>2000-05-15 23:00:00+01:00</th>\n",
       "      <td>12.0</td>\n",
       "    </tr>\n",
       "  </tbody>\n",
       "</table>\n",
       "<p>864 rows × 1 columns</p>\n",
       "</div>"
      ],
      "text/plain": [
       "                           temp_air\n",
       "2000-04-10 00:00:00+01:00       5.1\n",
       "2000-04-10 01:00:00+01:00       4.5\n",
       "2000-04-10 02:00:00+01:00       3.8\n",
       "2000-04-10 03:00:00+01:00       3.2\n",
       "2000-04-10 04:00:00+01:00       3.1\n",
       "...                             ...\n",
       "2000-05-15 19:00:00+01:00      14.0\n",
       "2000-05-15 20:00:00+01:00      14.0\n",
       "2000-05-15 21:00:00+01:00      12.6\n",
       "2000-05-15 22:00:00+01:00      12.0\n",
       "2000-05-15 23:00:00+01:00      12.0\n",
       "\n",
       "[864 rows x 1 columns]"
      ]
     },
     "execution_count": 36,
     "metadata": {},
     "output_type": "execute_result"
    }
   ],
   "source": [
    "weather.index = weather.index.map(lambda t: t.replace(year=2000))\n",
    "weather = weather.loc[start_date:end_date]\n",
    "pd.DataFrame(weather)"
   ]
  },
  {
   "cell_type": "code",
   "execution_count": 37,
   "id": "a9bf28f6-ba5e-409d-a11d-13febf5905a5",
   "metadata": {},
   "outputs": [
    {
     "data": {
      "text/html": [
       "<div>\n",
       "<style scoped>\n",
       "    .dataframe tbody tr th:only-of-type {\n",
       "        vertical-align: middle;\n",
       "    }\n",
       "\n",
       "    .dataframe tbody tr th {\n",
       "        vertical-align: top;\n",
       "    }\n",
       "\n",
       "    .dataframe thead th {\n",
       "        text-align: right;\n",
       "    }\n",
       "</style>\n",
       "<table border=\"1\" class=\"dataframe\">\n",
       "  <thead>\n",
       "    <tr style=\"text-align: right;\">\n",
       "      <th></th>\n",
       "      <th>0</th>\n",
       "    </tr>\n",
       "  </thead>\n",
       "  <tbody>\n",
       "    <tr>\n",
       "      <th>0</th>\n",
       "      <td>0</td>\n",
       "    </tr>\n",
       "    <tr>\n",
       "      <th>1</th>\n",
       "      <td>3600</td>\n",
       "    </tr>\n",
       "    <tr>\n",
       "      <th>2</th>\n",
       "      <td>7200</td>\n",
       "    </tr>\n",
       "    <tr>\n",
       "      <th>3</th>\n",
       "      <td>10800</td>\n",
       "    </tr>\n",
       "    <tr>\n",
       "      <th>4</th>\n",
       "      <td>14400</td>\n",
       "    </tr>\n",
       "    <tr>\n",
       "      <th>...</th>\n",
       "      <td>...</td>\n",
       "    </tr>\n",
       "    <tr>\n",
       "      <th>859</th>\n",
       "      <td>3092400</td>\n",
       "    </tr>\n",
       "    <tr>\n",
       "      <th>860</th>\n",
       "      <td>3096000</td>\n",
       "    </tr>\n",
       "    <tr>\n",
       "      <th>861</th>\n",
       "      <td>3099600</td>\n",
       "    </tr>\n",
       "    <tr>\n",
       "      <th>862</th>\n",
       "      <td>3103200</td>\n",
       "    </tr>\n",
       "    <tr>\n",
       "      <th>863</th>\n",
       "      <td>3106800</td>\n",
       "    </tr>\n",
       "  </tbody>\n",
       "</table>\n",
       "<p>864 rows × 1 columns</p>\n",
       "</div>"
      ],
      "text/plain": [
       "           0\n",
       "0          0\n",
       "1       3600\n",
       "2       7200\n",
       "3      10800\n",
       "4      14400\n",
       "..       ...\n",
       "859  3092400\n",
       "860  3096000\n",
       "861  3099600\n",
       "862  3103200\n",
       "863  3106800\n",
       "\n",
       "[864 rows x 1 columns]"
      ]
     },
     "execution_count": 37,
     "metadata": {},
     "output_type": "execute_result"
    }
   ],
   "source": [
    "# time vector for weather data at 1 h time step\n",
    "tw = np.arange(0, 3600 * weather.shape[0], 3600)\n",
    "pd.DataFrame(tw)"
   ]
  },
  {
   "cell_type": "markdown",
   "id": "4ec3e289-46c2-472a-9850-67be3c25a4fd",
   "metadata": {
    "tags": []
   },
   "source": [
    "##### Resampled outdoor temperature\n",
    "The time vector for simulation is at time step $\\Delta t$."
   ]
  },
  {
   "cell_type": "code",
   "execution_count": 38,
   "id": "cbb1d6d8-7425-474d-99c2-797519ed8579",
   "metadata": {
    "tags": []
   },
   "outputs": [],
   "source": [
    "# time vector for simulation\n",
    "t = np.arange(0, 3600 * weather.shape[0], Δt)"
   ]
  },
  {
   "cell_type": "markdown",
   "id": "3bdfc80d-267c-4180-9a57-b05f1f99fbc3",
   "metadata": {
    "tags": []
   },
   "source": [
    "The outdoor temperature $T_o$ (which is at a time step of $1 \\, \\mathrm{hour} = 3600 \\, \\mathrm{s}$) needs to be re-sampled at a time step equal to $\\Delta t$."
   ]
  },
  {
   "cell_type": "code",
   "execution_count": 39,
   "id": "79ebcaff-6a67-44ef-919d-84179cdd7f03",
   "metadata": {},
   "outputs": [
    {
     "data": {
      "text/html": [
       "<div>\n",
       "<style scoped>\n",
       "    .dataframe tbody tr th:only-of-type {\n",
       "        vertical-align: middle;\n",
       "    }\n",
       "\n",
       "    .dataframe tbody tr th {\n",
       "        vertical-align: top;\n",
       "    }\n",
       "\n",
       "    .dataframe thead th {\n",
       "        text-align: right;\n",
       "    }\n",
       "</style>\n",
       "<table border=\"1\" class=\"dataframe\">\n",
       "  <thead>\n",
       "    <tr style=\"text-align: right;\">\n",
       "      <th></th>\n",
       "      <th>θ °C</th>\n",
       "    </tr>\n",
       "  </thead>\n",
       "  <tbody>\n",
       "    <tr>\n",
       "      <th>0.00e+00</th>\n",
       "      <td>5.10</td>\n",
       "    </tr>\n",
       "    <tr>\n",
       "      <th>3.60e+02</th>\n",
       "      <td>5.04</td>\n",
       "    </tr>\n",
       "    <tr>\n",
       "      <th>7.20e+02</th>\n",
       "      <td>4.98</td>\n",
       "    </tr>\n",
       "    <tr>\n",
       "      <th>1.08e+03</th>\n",
       "      <td>4.92</td>\n",
       "    </tr>\n",
       "    <tr>\n",
       "      <th>1.44e+03</th>\n",
       "      <td>4.86</td>\n",
       "    </tr>\n",
       "    <tr>\n",
       "      <th>...</th>\n",
       "      <td>...</td>\n",
       "    </tr>\n",
       "    <tr>\n",
       "      <th>3.11e+06</th>\n",
       "      <td>12.00</td>\n",
       "    </tr>\n",
       "    <tr>\n",
       "      <th>3.11e+06</th>\n",
       "      <td>12.00</td>\n",
       "    </tr>\n",
       "    <tr>\n",
       "      <th>3.11e+06</th>\n",
       "      <td>12.00</td>\n",
       "    </tr>\n",
       "    <tr>\n",
       "      <th>3.11e+06</th>\n",
       "      <td>12.00</td>\n",
       "    </tr>\n",
       "    <tr>\n",
       "      <th>3.11e+06</th>\n",
       "      <td>12.00</td>\n",
       "    </tr>\n",
       "  </tbody>\n",
       "</table>\n",
       "<p>8640 rows × 1 columns</p>\n",
       "</div>"
      ],
      "text/plain": [
       "           θ °C\n",
       "0.00e+00   5.10\n",
       "3.60e+02   5.04\n",
       "7.20e+02   4.98\n",
       "1.08e+03   4.92\n",
       "1.44e+03   4.86\n",
       "...         ...\n",
       "3.11e+06  12.00\n",
       "3.11e+06  12.00\n",
       "3.11e+06  12.00\n",
       "3.11e+06  12.00\n",
       "3.11e+06  12.00\n",
       "\n",
       "[8640 rows x 1 columns]"
      ]
     },
     "execution_count": 39,
     "metadata": {},
     "output_type": "execute_result"
    }
   ],
   "source": [
    "# resample outdoor temperature To at timestep Δt\n",
    "To = np.interp(t, tw, weather['temp_air'])\n",
    "pd.DataFrame(To, index=t, columns=['θ °C'])"
   ]
  },
  {
   "cell_type": "markdown",
   "id": "c4186a1d-a8c8-44c6-a8af-d44df4d61246",
   "metadata": {},
   "source": [
    "##### Indoor heat flow rate\n",
    "\n",
    "Let's consider that the indoor heat flow $\\dot{Q}_h$ is zero."
   ]
  },
  {
   "cell_type": "code",
   "execution_count": 40,
   "id": "74d0667c-3ccf-41d5-848e-d3459a3eb342",
   "metadata": {},
   "outputs": [],
   "source": [
    "Qh = np.zeros(To.shape[0])"
   ]
  },
  {
   "cell_type": "markdown",
   "id": "55dad0f4-91b2-47cd-99fc-c514403ab019",
   "metadata": {
    "tags": []
   },
   "source": [
    "#### Input vector\n",
    "The input vector $u$ is formed as a block vector from outdoor temperature $T_o$ and indoor heat flow $\\dot{Q}_h$:\n",
    "\n",
    "$$\n",
    "u =\\begin{bmatrix}\n",
    "T_o\\\\ \n",
    "\\dot Q_h\n",
    "\\end{bmatrix}\n",
    "$$"
   ]
  },
  {
   "cell_type": "code",
   "execution_count": 41,
   "id": "e58752a7-c128-468f-9095-d8005c691131",
   "metadata": {},
   "outputs": [
    {
     "data": {
      "text/html": [
       "<div>\n",
       "<style scoped>\n",
       "    .dataframe tbody tr th:only-of-type {\n",
       "        vertical-align: middle;\n",
       "    }\n",
       "\n",
       "    .dataframe tbody tr th {\n",
       "        vertical-align: top;\n",
       "    }\n",
       "\n",
       "    .dataframe thead th {\n",
       "        text-align: right;\n",
       "    }\n",
       "</style>\n",
       "<table border=\"1\" class=\"dataframe\">\n",
       "  <thead>\n",
       "    <tr style=\"text-align: right;\">\n",
       "      <th></th>\n",
       "      <th>0</th>\n",
       "      <th>1</th>\n",
       "      <th>2</th>\n",
       "      <th>3</th>\n",
       "      <th>4</th>\n",
       "      <th>5</th>\n",
       "      <th>6</th>\n",
       "      <th>7</th>\n",
       "      <th>8</th>\n",
       "      <th>9</th>\n",
       "      <th>...</th>\n",
       "      <th>8630</th>\n",
       "      <th>8631</th>\n",
       "      <th>8632</th>\n",
       "      <th>8633</th>\n",
       "      <th>8634</th>\n",
       "      <th>8635</th>\n",
       "      <th>8636</th>\n",
       "      <th>8637</th>\n",
       "      <th>8638</th>\n",
       "      <th>8639</th>\n",
       "    </tr>\n",
       "  </thead>\n",
       "  <tbody>\n",
       "    <tr>\n",
       "      <th>To</th>\n",
       "      <td>5.1</td>\n",
       "      <td>5.04</td>\n",
       "      <td>4.98</td>\n",
       "      <td>4.92</td>\n",
       "      <td>4.86</td>\n",
       "      <td>4.8</td>\n",
       "      <td>4.74</td>\n",
       "      <td>4.68</td>\n",
       "      <td>4.62</td>\n",
       "      <td>4.56</td>\n",
       "      <td>...</td>\n",
       "      <td>12.0</td>\n",
       "      <td>12.0</td>\n",
       "      <td>12.0</td>\n",
       "      <td>12.0</td>\n",
       "      <td>12.0</td>\n",
       "      <td>12.0</td>\n",
       "      <td>12.0</td>\n",
       "      <td>12.0</td>\n",
       "      <td>12.0</td>\n",
       "      <td>12.0</td>\n",
       "    </tr>\n",
       "    <tr>\n",
       "      <th>Qh</th>\n",
       "      <td>0.0</td>\n",
       "      <td>0.00</td>\n",
       "      <td>0.00</td>\n",
       "      <td>0.00</td>\n",
       "      <td>0.00</td>\n",
       "      <td>0.0</td>\n",
       "      <td>0.00</td>\n",
       "      <td>0.00</td>\n",
       "      <td>0.00</td>\n",
       "      <td>0.00</td>\n",
       "      <td>...</td>\n",
       "      <td>0.0</td>\n",
       "      <td>0.0</td>\n",
       "      <td>0.0</td>\n",
       "      <td>0.0</td>\n",
       "      <td>0.0</td>\n",
       "      <td>0.0</td>\n",
       "      <td>0.0</td>\n",
       "      <td>0.0</td>\n",
       "      <td>0.0</td>\n",
       "      <td>0.0</td>\n",
       "    </tr>\n",
       "  </tbody>\n",
       "</table>\n",
       "<p>2 rows × 8640 columns</p>\n",
       "</div>"
      ],
      "text/plain": [
       "    0     1     2     3     4     5     6     7     8     9     ...  8630  \\\n",
       "To   5.1  5.04  4.98  4.92  4.86   4.8  4.74  4.68  4.62  4.56  ...  12.0   \n",
       "Qh   0.0  0.00  0.00  0.00  0.00   0.0  0.00  0.00  0.00  0.00  ...   0.0   \n",
       "\n",
       "    8631  8632  8633  8634  8635  8636  8637  8638  8639  \n",
       "To  12.0  12.0  12.0  12.0  12.0  12.0  12.0  12.0  12.0  \n",
       "Qh   0.0   0.0   0.0   0.0   0.0   0.0   0.0   0.0   0.0  \n",
       "\n",
       "[2 rows x 8640 columns]"
      ]
     },
     "execution_count": 41,
     "metadata": {},
     "output_type": "execute_result"
    }
   ],
   "source": [
    "# input vector [To, Qh]\n",
    "u = np.block([[To], [Qh]])\n",
    "pd.DataFrame(u, index=['To', 'Qh'])"
   ]
  },
  {
   "cell_type": "markdown",
   "id": "6709c8f4-b0f3-4d05-bf05-402588fc4e91",
   "metadata": {
    "tags": []
   },
   "source": [
    "#### Time integration\n",
    "The responses are obtained by initializing the temperature vectors for explicit and implicit Euler and by integrating in time."
   ]
  },
  {
   "cell_type": "code",
   "execution_count": 42,
   "id": "537a9217-949e-411c-b6c6-79a6f0029680",
   "metadata": {},
   "outputs": [],
   "source": [
    "θ0 = 15     # °C, initial values for temperatures\n",
    "θ_exp = θ0 * np.ones([no_θ, t.shape[0]])\n",
    "θ_imp = θ0 * np.ones([no_θ, t.shape[0]])\n",
    "for k in range(u.shape[1] - 1):\n",
    "    θ_exp[:, k + 1] = (np.eye(no_θ) + Δt * As) @\\\n",
    "        θ_exp[:, k] + Δt * Bs @ u[:, k]\n",
    "    θ_imp[:, k + 1] = np.linalg.inv(np.eye(no_θ) - Δt * As) @\\\n",
    "        (θ_imp[:, k] + Δt * Bs @ u[:, k])"
   ]
  },
  {
   "cell_type": "markdown",
   "id": "c10c044b-c1b6-47f7-a3ca-c868d81960ba",
   "metadata": {},
   "source": [
    "#### Plots of results"
   ]
  },
  {
   "cell_type": "code",
   "execution_count": 43,
   "id": "325d6b49-685e-46c9-a663-3f53d0abd23d",
   "metadata": {},
   "outputs": [
    {
     "data": {
      "image/png": "[encoded data removed]",
      "text/plain": [
       "<Figure size 432x288 with 1 Axes>"
      ]
     },
     "metadata": {
      "needs_background": "light"
     },
     "output_type": "display_data"
    }
   ],
   "source": [
    "fig, ax = plt.subplots()\n",
    "ax.plot(t / 3600 / 24, To, label='Outdoor temperature')\n",
    "ax.plot(t / 3600 / 24, θ_exp[-1, :], label='Indoor temperature')\n",
    "ax.set(xlabel='Time, $t$ / [day]',\n",
    "       ylabel='Air temperature, $θ$ / [°C]',\n",
    "       title='Explicit Euler')\n",
    "ax.legend()\n",
    "plt.show()"
   ]
  },
  {
   "cell_type": "markdown",
   "id": "06f71a32-c758-405b-8062-a4358c957ba4",
   "metadata": {},
   "source": [
    "> Figure 5. Simulation of wall response to the variation of the outdoor temperature obtained with Euler **explicit** method for integration in time."
   ]
  },
  {
   "cell_type": "code",
   "execution_count": 44,
   "id": "4b737753-1900-4c53-b307-07da0361d5ee",
   "metadata": {},
   "outputs": [
    {
     "data": {
      "image/png": "[encoded data removed]",
      "text/plain": [
       "<Figure size 432x288 with 1 Axes>"
      ]
     },
     "metadata": {
      "needs_background": "light"
     },
     "output_type": "display_data"
    }
   ],
   "source": [
    "fig, ax = plt.subplots()\n",
    "ax.plot(t / 3600 / 24, To, label='Outdoor temperature')\n",
    "ax.plot(t / 3600 / 24, θ_imp[-1, :], label='Indoor temperature')\n",
    "ax.set(xlabel='Time $t$ / [day]',\n",
    "       ylabel='Air temperature, $θ$ / [°C]',\n",
    "       title='Implicit Euler')\n",
    "ax.legend()\n",
    "plt.show()"
   ]
  },
  {
   "cell_type": "markdown",
   "id": "1d785a7a-a339-457e-bd4a-d44e6b2bf8e9",
   "metadata": {},
   "source": [
    "> Figure 6. Simulation of wall response to the variation of the outdoor temperature obtained with Euler **implicit** method for integration in time."
   ]
  },
  {
   "cell_type": "markdown",
   "id": "b4075e33-f12a-4de7-a24f-f89df2af70f3",
   "metadata": {},
   "source": [
    "### Simulation by using Pandas\n",
    "\n",
    "Let's consider the same code as in the previous sections, with the difference that Pandas are used for plotting the results of the simulations."
   ]
  },
  {
   "cell_type": "code",
   "execution_count": null,
   "id": "e86e74c2-1e48-481b-b917-b519a167f663",
   "metadata": {},
   "outputs": [],
   "source": [
    "# Simulation with outdoor temperature from weather data with Pandas\n",
    "# -----------------------------------------------------------------\n",
    "start_date = '2000-04-10'\n",
    "end_date = '2000-05-15'\n",
    "\n",
    "# read data and keep air temperature\n",
    "filename = '../weather_data/FRA_Lyon.074810_IWEC.epw'\n",
    "[data, meta] = dm4bem.read_epw(filename, coerce_year=None)\n",
    "weather = data[[\"temp_air\"]].copy()\n",
    "del data\n",
    "\n",
    "# replace years with year 2000 and select time interval\n",
    "weather.index = weather.index.map(lambda t: t.replace(year=2000))\n",
    "weather = weather.loc[start_date:end_date]\n",
    "\n",
    "# resample weather data\n",
    "data = weather['temp_air']\n",
    "data = data.resample(str(Δt) + 'S').interpolate(method='linear')\n",
    "data = data.rename('To').to_frame()\n",
    "\n",
    "# indoor auxiliary heat\n",
    "data['Qa'] = 0 * np.ones(data.shape[0])\n",
    "\n",
    "# input vector\n",
    "u = data[['To', 'Qa']]\n",
    "\n",
    "# initial conditions\n",
    "θ_exp = θ0 * np.ones([As.shape[0], u.shape[0]])\n",
    "θ_imp = θ0 * np.ones([As.shape[0], u.shape[0]])\n",
    "\n",
    "# time integration: Euler explicit & implicit\n",
    "n_states = As.shape[0]\n",
    "I = np.eye(n_states)\n",
    "\n",
    "for k in range(u.shape[0] - 1):\n",
    "    θ_exp[:, k + 1] = (I + Δt * As) @ θ_exp[:, k]\\\n",
    "        + Δt * Bs @ u.iloc[k, :]\n",
    "    θ_imp[:, k + 1] = np.linalg.inv(I - Δt * As) @\\\n",
    "        (θ_imp[:, k] + Δt * Bs @ u.iloc[k, :])\n",
    "\n",
    "data['θi_exp'] = θ_exp[-1, :]\n",
    "data['θi_imp'] = θ_imp[-1, :]\n",
    "\n",
    "ax = data[['To', 'θi_exp']].plot()\n",
    "ax.legend(['Outdoor temperature', 'Indoor temperature'])\n",
    "ax.set(xlabel='Time',\n",
    "       ylabel='Air temperature, $θ$ / [°C]',\n",
    "       title='Explicit Euler')\n",
    "plt.show()"
   ]
  },
  {
   "cell_type": "markdown",
   "id": "e6ee5618-d909-4cb4-904c-182e5245fe2c",
   "metadata": {},
   "source": [
    "> Figure 7. Simulation of wall response to the variation of the outdoor temperature obtained with Euler **explicit** method for integration in time."
   ]
  },
  {
   "cell_type": "code",
   "execution_count": null,
   "id": "3090cd6f-bd93-40eb-9f62-b2baef8c085b",
   "metadata": {},
   "outputs": [],
   "source": [
    "ax = data[['To', 'θi_imp']].plot()\n",
    "ax.legend(['Outdoor temperature', 'Indoor temperature'])\n",
    "ax.set(xlabel='Time',\n",
    "       ylabel='Air temperature, $θ$ / [°C]',\n",
    "       title='Implicit Euler')\n",
    "plt.show()"
   ]
  },
  {
   "cell_type": "markdown",
   "id": "b793f148-dd06-42c9-937d-b92c4a8d7ee3",
   "metadata": {},
   "source": [
    "> Figure 8. Simulation of wall response to the variation of the outdoor temperature obtained with Euler **implicit** method for integration in time."
   ]
  },
  {
   "cell_type": "markdown",
   "id": "e6276fa9-5935-405d-ab0f-461628ed5b5c",
   "metadata": {},
   "source": [
    "## Discussion\n",
    "\n",
    "- Change the time step to do it slightly larger than the maximum time step. Compare the results obtained with Euler explicit and Euler implicit methods.\n",
    "- Interchnage the materials  of the layers so that layer 1 to be insulation and layer 2 to be concrete. Discuss the step responses and the simulation for weather. Give arguments for the advantages and the disadvantages of indoor and outdoor insulation. Explain the difference in the maximum time step for numerical integration."
   ]
  },
  {
   "cell_type": "markdown",
   "id": "352c7f79-4e5f-4d20-ba5a-a5bb80681fcc",
   "metadata": {
    "tags": []
   },
   "source": [
    "## References\n",
    "\n",
    "1. [Ghiaus, C. (2013)](https://doi.org/10.1016/j.energy.2012.10.024). Causality issue in the heat balance method for calculating the design heating and cooling loads, *Energy* 50: 292-301, [HAL 03605823](https://hal.archives-ouvertes.fr/hal-03605823/document)\n",
    "\n",
    "2. [C. Ghiaus (2021)](https://doi.org/10.1007/978-3-030-76477-7_5). Dynamic Models for Energy Control of Smart Homes, in *S. Ploix M. Amayri, N. Bouguila (eds.) Towards Energy Smart Homes*, Online ISBN: 978-3-030-76477-7, Print ISBN: 978-3-030-76476-0, Springer, pp. 163-198 [HAL 03578578](https://hal.archives-ouvertes.fr/hal-03578578/document)"
   ]
  },
  {
   "cell_type": "code",
   "execution_count": null,
   "id": "f661fdd9-ce93-4371-8e4d-05cfb148947b",
   "metadata": {},
   "outputs": [],
   "source": []
  }
 ],
 "metadata": {
  "kernelspec": {
   "display_name": "Python 3 (ipykernel)",
   "language": "python",
   "name": "python3"
  },
  "language_info": {
   "codemirror_mode": {
    "name": "ipython",
    "version": 3
   },
   "file_extension": ".py",
   "mimetype": "text/x-python",
   "name": "python",
   "nbconvert_exporter": "python",
   "pygments_lexer": "ipython3",
   "version": "3.9.7"
  },
  "toc-autonumbering": true,
  "toc-showcode": false
 },
 "nbformat": 4,
 "nbformat_minor": 5
}

{
 "cells": [
  {
   "cell_type": "markdown",
   "id": "4169d08a-2779-4f97-bc8e-9d80bfc5d18e",
   "metadata": {},
   "source": [
    "# Theory in a nutshell\n",
    "\n",
    "This chapter presents the theory used in this book. It starts with the basic principles of modeling heat transfer in buildings by using thermal networks, continues with the matrix representation of thermal networks as a system of differential-algebraic equations and ends with obtaining the state-space representation.  "
   ]
  },
  {
   "cell_type": "code",
   "execution_count": null,
   "id": "0253d3ba-23d4-4a5f-af27-761e287d2f9c",
   "metadata": {},
   "outputs": [],
   "source": []
  }
 ],
 "metadata": {
  "kernelspec": {
   "display_name": "Python 3 (ipykernel)",
   "language": "python",
   "name": "python3"
  },
  "language_info": {
   "codemirror_mode": {
    "name": "ipython",
    "version": 3
   },
   "file_extension": ".py",
   "mimetype": "text/x-python",
   "name": "python",
   "nbconvert_exporter": "python",
   "pygments_lexer": "ipython3",
   "version": "3.9.7"
  }
 },
 "nbformat": 4,
 "nbformat_minor": 5
}

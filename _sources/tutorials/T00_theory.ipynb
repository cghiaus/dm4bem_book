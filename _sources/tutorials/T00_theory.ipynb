{
 "cells": [
  {
   "cell_type": "markdown",
   "id": "4169d08a-2779-4f97-bc8e-9d80bfc5d18e",
   "metadata": {},
   "source": [
    "# Theory in a nutshell\n",
    "\n",
    "This chapter presents the theory used in this book. It starts with the basic principles of modeling heat transfer in buildings by using thermal networks, continues with the matrix representation of thermal networks as a system of differential-algebraic equations and ends with obtaining the state-space representation.\n",
    "\n",
    "## Physical and computational causality\n",
    "[Physical causality](https://en.m.wikipedia.org/wiki/Causality_(physics)) is a fundamental principle in physics that states that any modification of a physical variable is caused by other variable or variables (see _Physical\n",
    "causality_ in Figure 1). The dependent variables (or the effects) are the outputs and the independent variables (or the causes) are the inputs of the physical system ([Ghiaus 2022](https://doi.org/10.1080/19401493.2021.1995498)). In a dynamic system, the cause always preceeds the effect ([Ghiaus 2014](https://doi.org/10.1016/j.energy.2014.07.021)).\n",
    "\n",
    "_Computational causality_ is the input-output relationship in a computer-implemented [algorithm](https://en.m.wikipedia.org/wiki/Algorithm) (or comutational model).\n",
    "\n",
    "![Type_problem](../figures/A00_Type_problem.svg)\n",
    "> Figure 1. Direct and inverse problems. Green represents what is known and red what is unknown, i.e., the inputs and the outputs of the computational model, respectively.\n",
    "\n",
    "## Direct and inverse problems\n",
    "\n",
    "The _direct problem_ is when the set of inputs of the computational model is a subset of the inputs of the physical model and the set of outputs of the computational model is a subset of the outputs of the physical model (see Direct problem in Figure 1). For a direct problem, the model (i.e., its structure and parameters) and the inputs are known; the problem is to find the outputs of the physical model. In the case of a direct problem, the information flows (from inputs to outputs) are the same for the physical system and for the computational model. Direct problems are called analysis in the case of electrical, hydraulic, or thermal circuits. The term simulation is also often used. The advantage of direct problems is that, in the context of deterministic classical physics, they are [well posed](https://en.m.wikipedia.org/wiki/Well-posed_problem) (the problem has a solution and the solution is unique). \n",
    "\n",
    "The [inverse problems](https://en.m.wikipedia.org/wiki/Inverse_problem) are of two types: _control_ and _model identification_ (see _Inverse problem_ in Figure 1). The _control_ problem consists in finding an input of the physical system that produces a desired output when its model is known (see _Control problem_ in Figure 1). For simple cases, the problem can be solved by inversing the direct problem. Usually, and especially for dynamic models, the inversion is not possible. Therefore, the problem is stated as a control loop for which a set of direct problems is solved ([Ghiaus 2013](https://doi.org/10.1016/j.energy.2012.10.024)).\n",
    "\n",
    "In [model identification](https://en.m.wikipedia.org/wiki/System_identification), the problem is to find the model of the physical system when its inputs and outputs are given. Usually, the problem is treated as [parameter identification](https://en.m.wikipedia.org/wiki/Estimation_theory) by imposing the structure of the model and solving an optimisation problem in which the arguments are the parameters and the cost function depends on the type of problem (see _Parameter identification or optimization problem_ in Figure 1).\n",
    "\n",
    "## Physical laws in transport phenomena\n",
    "\n",
    "In engineering, physics, and chemistry, [transport phenomena](https://en.m.wikipedia.org/wiki/Transport_phenomena) concerns the interchange of mass, energy, charge, momentum, and angular momentum between systems. Although it draws insights from various disciplines, such as continuum mechanics and thermodynamics, it tranport phenomena share common principles and mathematical frameworks. \n",
    "\n",
    "### Conservation laws\n",
    "\n",
    "In physics, a [conservation law](https://en.m.wikipedia.org/wiki/Conservation_law) asserts that a specific measurable attribute of an isolated physical system, $E$, remains constant as the system progresses through time. Usually, the flow-rate of the conservative variable is used. For example, in heat transfer, the flow-rate is conserved:\n",
    "\n",
    "$$\\sum q_i = 0$$\n",
    "\n",
    "Fundamental conservation laws encompass the preservation of mass-energy, linear momentum, angular momentum, and electric charge.\n",
    "\n",
    "### Constitutive laws\n",
    "\n",
    "In physics and engineering, a [constitutive law](https://en.wikipedia.org/wiki/Constitutive_equation) establishes a relation between two or more physical quantities which is specific to a material, substance, or field. It models the material's or substance's response to external stimuli, typically in the form of applied fields or forces.\n",
    "\n",
    "Constitutive equations vary in their nature; some are purely phenomenological, while others are derived from fundamental principles. A prevalent form of constitutive equation often expresses a simple proportionality utilizing a parameter that represents a material property, such as thermal or electrical conductivity or a spring constant. For example, in heat transfer, the relation between flow-rate, $q$, and temperature difference, $\\Delta \\theta$, is:\n",
    "\n",
    "$$q_i = G_i \\Delta \\theta_i$$\n",
    "\n",
    "where $G_i$ is the thermal conductance.\n",
    "\n",
    "Constitutive relations may also be adjusted to incorporate the material's rate of response and its nonlinear behavior.\n",
    "\n",
    "### Linear algebra\n",
    "\n",
    "Models of the transport phenomena can be obtained as systems of [linear equations](https://en.m.wikipedia.org/wiki/Linear_equation) by combining the conservation laws with constitutive laws. Direct and inverse models by using [linear algebra](https://en.m.wikipedia.org/wiki/Linear_algebra) for environmental [heat transfer](https://en.m.wikipedia.org/wiki/Heat_transfer) is the subject of this book.\n",
    "\n",
    "\n",
    "## References\n",
    "\n",
    "1. [Ghiaus, C. (2013)](https://doi.org/10.1016/j.energy.2012.10.024). Causality issue in the heat balance method for calculating the design heating and cooling loads, *Energy* 50: 292-301, (open access preprint [hal-03605823](https://hal.archives-ouvertes.fr/hal-03605823/document))\n",
    "\n",
    "2. [Ghiaus, C. (2014)](https://doi.org/10.1016/j.energy.2014.07.021). Linear algebra solution to psychometric analysis of air-conditioning systems. _Energy_, 74, 555-566. (open access preprint [hal-01289400](https://hal.science/hal-01289400))\n",
    "\n",
    "3. [Ghiaus, C. (2021)](https://doi.org/10.5281/zenodo.5236450). PsychrAn_cool: Psychrometric analysis of cooling systems as a control problem. _Zenodo_.\n",
    "\n",
    "4. [Ghiaus, C. (2022)](https://doi.org/10.1080/19401493.2021.1995498). Computational psychrometric analysis as a control problem: case of cooling and dehumidification systems. _Journal of Building Performance Simulation_, 15(1), 21-38. (open access preprint [hal-03484064](https://hal.archives-ouvertes.fr/hal-03484064/document))"
   ]
  },
  {
   "cell_type": "code",
   "execution_count": null,
   "id": "0253d3ba-23d4-4a5f-af27-761e287d2f9c",
   "metadata": {},
   "outputs": [],
   "source": []
  }
 ],
 "metadata": {
  "kernelspec": {
   "display_name": "Python 3 (ipykernel)",
   "language": "python",
   "name": "python3"
  },
  "language_info": {
   "codemirror_mode": {
    "name": "ipython",
    "version": 3
   },
   "file_extension": ".py",
   "mimetype": "text/x-python",
   "name": "python",
   "nbconvert_exporter": "python",
   "pygments_lexer": "ipython3",
   "version": "3.11.7"
  }
 },
 "nbformat": 4,
 "nbformat_minor": 5
}

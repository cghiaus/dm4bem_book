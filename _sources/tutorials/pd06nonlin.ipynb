{
 "cells": [
  {
   "cell_type": "markdown",
   "id": "00b5f64a-68aa-4e0e-afe8-c13c64b2025b",
   "metadata": {},
   "source": [
    "# Nonlinear controller\n",
    "\n",
    "[![Binder](https://static.mybinder.org/badge_logo.svg)](https://mybinder.org/v2/gh/cghiaus/dm4bem_book/HEAD?labpath=%2Ftutorials%2Fpd06nonlin.ipynb)\n",
    "\n",
    "This notebook shows how to change the control input during the numerical integration in order to implement complex control algorithms in the numerical integration loop. The procedure presented in [Inputs and simulation](pd05simulation.ipynb) is used with the difference that nonlinear control algorithms are implemented in the time-integration loop."
   ]
  },
  {
   "cell_type": "code",
   "execution_count": 1,
   "id": "8a01ef86-5432-4c2a-9190-97c111f66f8b",
   "metadata": {},
   "outputs": [],
   "source": [
    "import numpy as np\n",
    "import pandas as pd\n",
    "import matplotlib.pyplot as plt\n",
    "import dm4bem"
   ]
  },
  {
   "cell_type": "code",
   "execution_count": 2,
   "id": "37d96475-efde-4d9e-a8d8-07d816fb5305",
   "metadata": {},
   "outputs": [],
   "source": [
    "def control_for(controller, period, dt=30, nonlinear_controller=True):\n",
    "    # Obtain state-space representation\n",
    "    # =================================\n",
    "    # Disassembled thermal circuits\n",
    "    folder_path = './pd/bldg'\n",
    "    TCd = dm4bem.bldg2TCd(folder_path,\n",
    "                          TC_auto_number=True)\n",
    "\n",
    "    # Assembled thermal circuit\n",
    "    ass_lists = pd.read_csv(folder_path + '/assembly_lists.csv')\n",
    "    ass_matrix = dm4bem.assemble_lists2matrix(ass_lists)\n",
    "    TC = dm4bem.assemble_TCd_matrix(TCd, ass_matrix)\n",
    "\n",
    "    # TC['G']['c3_q0'] = 1e3  # Kp, controler gain\n",
    "    # TC['C']['c2_θ0'] = 0    # indoor air heat capacity\n",
    "    # TC['C']['c1_θ0'] = 0    # glass (window) heat capacit\n",
    "\n",
    "    # State-space\n",
    "    [As, Bs, Cs, Ds, us] = dm4bem.tc2ss(TC)\n",
    "\n",
    "    # Eigenvaleus analysis\n",
    "    # ====================\n",
    "    λ = np.linalg.eig(As)[0]    # eigenvalues of matrix As\n",
    "\n",
    "    dt_max = 2 * min(-1. / λ)    # max time step for Euler explicit stability\n",
    "    dt_max = dm4bem.round_time(dt_max)\n",
    "    # dm4bem.print_rounded_time('dt_max', dt)\n",
    "\n",
    "    # Simulation with weather data\n",
    "    # ============================\n",
    "    # Start / end time\n",
    "    start_date = period[0]\n",
    "    end_date = period[1]\n",
    "\n",
    "    start_date = '2000-' + start_date\n",
    "    end_date = '2000-' + end_date\n",
    "\n",
    "    # Weather\n",
    "    filename = '../weather_data/FRA_Lyon.074810_IWEC.epw'\n",
    "    [data, meta] = dm4bem.read_epw(filename, coerce_year=None)\n",
    "    weather = data[[\"temp_air\", \"dir_n_rad\", \"dif_h_rad\"]]\n",
    "    del data\n",
    "    weather.index = weather.index.map(lambda t: t.replace(year=2000))\n",
    "    weather = weather.loc[start_date:end_date]\n",
    "\n",
    "    # Temperature sources\n",
    "    To = weather['temp_air']\n",
    "\n",
    "    Ti_day, Ti_night = 20, 16\n",
    "    Ti_sp = pd.Series(20, index=To.index)\n",
    "    Ti_sp = pd.Series(\n",
    "        [Ti_day if 6 <= hour <= 22 else Ti_night for hour in To.index.hour],\n",
    "        index=To.index)\n",
    "\n",
    "    # Flow-rate sources\n",
    "    # total solar irradiance\n",
    "    wall_out = pd.read_csv('pd/bldg/walls_out.csv')\n",
    "    w0 = wall_out[wall_out['ID'] == 'w0']\n",
    "\n",
    "    surface_orientation = {'slope': w0['β'].values[0],\n",
    "                           'azimuth': w0['γ'].values[0],\n",
    "                           'latitude': 45}\n",
    "\n",
    "    rad_surf = dm4bem.sol_rad_tilt_surf(\n",
    "        weather, surface_orientation, w0['albedo'].values[0])\n",
    "\n",
    "    Etot = rad_surf.sum(axis=1)\n",
    "\n",
    "    # Window glass properties\n",
    "    α_gSW = 0.38    # short wave absortivity: reflective blue glass\n",
    "    τ_gSW = 0.30    # short wave transmitance: reflective blue glass\n",
    "    S_g = 9         # m2, surface area of glass\n",
    "\n",
    "    # Flow-rate sources\n",
    "    # solar radiation\n",
    "    Φo = w0['α1'].values[0] * w0['Area'].values[0] * Etot\n",
    "    Φi = τ_gSW * w0['α0'].values[0] * S_g * Etot\n",
    "    Φa = α_gSW * S_g * Etot\n",
    "\n",
    "    # auxiliary (internal) sources\n",
    "    Qa = pd.Series(0, index=To.index)\n",
    "\n",
    "    # Input data set\n",
    "    input_data_set = pd.DataFrame({'To': To, 'Ti_sp': Ti_sp,\n",
    "                                   'Φo': Φo, 'Φi': Φi, 'Qa': Qa, 'Φa': Φa,\n",
    "                                   'Etot': Etot})\n",
    "\n",
    "    # Time integration\n",
    "    # ----------------\n",
    "    # Resample hourly data to time step dt\n",
    "    input_data_set = input_data_set.resample(\n",
    "        str(dt) + 'S').interpolate(method='linear')\n",
    "\n",
    "    # Get input from input_data_set\n",
    "    u = dm4bem.inputs_in_time(us, input_data_set)\n",
    "\n",
    "    # initial conditions\n",
    "    θ0 = 20                     # initial temperatures\n",
    "    θ_exp = pd.DataFrame(index=u.index)\n",
    "    θ_exp[As.columns] = θ0      # Fill θ with initial valeus θ0\n",
    "\n",
    "    # time integration\n",
    "    I = np.eye(As.shape[0])     # identity matrix\n",
    "\n",
    "    for k in range(1, u.shape[0] - 1):\n",
    "        if nonlinear_controller:\n",
    "            exec(controller)\n",
    "\n",
    "        θ_exp.iloc[k + 1] = (I + dt * As)\\\n",
    "            @ θ_exp.iloc[k] + dt * Bs @ u.iloc[k]\n",
    "\n",
    "    # outputs\n",
    "    y = (Cs @ θ_exp.T + Ds @  u.T).T\n",
    "\n",
    "    Kp = TC['G']['c3_q0']     # W/K, controller gain\n",
    "    S = 3 * 3                 # m², surface area of the toy house\n",
    "\n",
    "    # q_HVAC / [W/m²]\n",
    "    if nonlinear_controller:\n",
    "        q_HVAC = u['c2_θ0']\n",
    "    else:\n",
    "        q_HVAC = Kp * (u['c3_q0'] - y['c2_θ0']) / S  # W/m²\n",
    "\n",
    "    # plot\n",
    "    data = pd.DataFrame({'To': input_data_set['To'],\n",
    "                         'θi': y['c2_θ0'],\n",
    "                         'Etot': input_data_set['Etot'],\n",
    "                         'q_HVAC': q_HVAC})\n",
    "\n",
    "    fig, axs = plt.subplots(2, 1, sharex=True)\n",
    "    data[['To', 'θi']].plot(ax=axs[0],\n",
    "                            xticks=[],\n",
    "                            ylabel='Temperature, $θ$ / [°C]')\n",
    "    axs[0].legend(['$θ_{outdoor}$', '$θ_{indoor}$'],\n",
    "                  loc='upper right')\n",
    "    axs[0].grid(True)\n",
    "\n",
    "    data[['Etot', 'q_HVAC']].plot(ax=axs[1],\n",
    "                                  ylabel='Heat rate, $q$ / [W / m²]')\n",
    "    axs[1].set(xlabel='Time')\n",
    "    axs[1].legend(['$E_{total}$', '$q_{HVAC}$'],\n",
    "                  loc='upper right')\n",
    "    axs[1].grid(True)\n",
    "    plt.show()"
   ]
  },
  {
   "cell_type": "markdown",
   "id": "e995b166-8369-4e9d-94c4-b92ef58cded1",
   "metadata": {},
   "source": [
    "## Free-running\n",
    "\n",
    "![assambled_TC](./pd/bldg/ass_TC.svg)\n",
    "> Figure 1. Assembled circuit."
   ]
  },
  {
   "cell_type": "markdown",
   "id": "64068226-1cab-4421-8315-6d38d9928316",
   "metadata": {},
   "source": [
    "In this example, we will consider that the controller is not modeled by the conductance $G_0$ and the temperature source $T_{i,sp}$ of circuit `TC3:c3` but, instead, by the heatflow rate $\\dot{Q}_a$, which is added to the indoor air in node $\\theta_0$ of circuit `TC2:c2`  (Figure 1). Therefore, in `TC3:c3` the conductance $G_0 \\rightarrow 0$ and the input\n",
    "\n",
    "$$\\dot{Q}_a \\equiv u_{c2\\_θ0} = K_p (T_{i,sp} - \\theta_{c2\\_θ0})$$\n",
    "\n",
    "where:\n",
    "- $\\dot{Q}_a$ - auxiliary heat in node `θ0` of circuit `c2`, W;\n",
    "- $u_{c2\\_θ0}$ - input of type flow rate source in node `θ0` of circuit `c2`, W;\n",
    "- $K_p$ - static gain of the proportional controller, W/°C;\n",
    "- $T_{i,sp}$ - indoor temperature setpoint, °C;\n",
    "- $\\theta_{c2\\_θ0}$ - indoor temperature, which is the temperature node `θ0` of circuit `c2`, °C.\n",
    "\n",
    "The model can be simulated in free-runinng when there is no nonlinear controller (i.e., $\\dot{Q}_a = 0$)."
   ]
  },
  {
   "cell_type": "code",
   "execution_count": 3,
   "id": "e52d6cd4-0e25-404b-ae7b-bb6468403de8",
   "metadata": {},
   "outputs": [],
   "source": [
    "start_date = '02-01 12:00:00'\n",
    "end_date = '02-03 18:00:00'\n",
    "period = [start_date, end_date]"
   ]
  },
  {
   "cell_type": "code",
   "execution_count": 4,
   "id": "a7798910-9286-45cb-81ec-2155163e572c",
   "metadata": {},
   "outputs": [
    {
     "data": {
      "image/png": "[encoded data removed]",
      "text/plain": [
       "<Figure size 432x288 with 2 Axes>"
      ]
     },
     "metadata": {
      "needs_background": "light"
     },
     "output_type": "display_data"
    }
   ],
   "source": [
    "control_for(\"free running\", period, dt=30,\n",
    "            nonlinear_controller=False)"
   ]
  },
  {
   "cell_type": "markdown",
   "id": "2f6d69d6-2a9d-4d68-83fb-3a3b3db73635",
   "metadata": {},
   "source": [
    "> Figure 2. Free-running (i.e., no controller)."
   ]
  },
  {
   "cell_type": "code",
   "execution_count": null,
   "id": "3dda38f0-36cb-4a24-99ce-c3bfeb9a417d",
   "metadata": {},
   "outputs": [],
   "source": []
  }
 ],
 "metadata": {
  "kernelspec": {
   "display_name": "Python 3 (ipykernel)",
   "language": "python",
   "name": "python3"
  },
  "language_info": {
   "codemirror_mode": {
    "name": "ipython",
    "version": 3
   },
   "file_extension": ".py",
   "mimetype": "text/x-python",
   "name": "python",
   "nbconvert_exporter": "python",
   "pygments_lexer": "ipython3",
   "version": "3.9.7"
  }
 },
 "nbformat": 4,
 "nbformat_minor": 5
}

{
 "cells": [
  {
   "cell_type": "markdown",
   "id": "00b5f64a-68aa-4e0e-afe8-c13c64b2025b",
   "metadata": {},
   "source": [
    "# Nonlinear controller in integration loop"
   ]
  },
  {
   "cell_type": "code",
   "execution_count": null,
   "id": "8a01ef86-5432-4c2a-9190-97c111f66f8b",
   "metadata": {},
   "outputs": [],
   "source": []
  }
 ],
 "metadata": {
  "kernelspec": {
   "display_name": "Python 3 (ipykernel)",
   "language": "python",
   "name": "python3"
  },
  "language_info": {
   "codemirror_mode": {
    "name": "ipython",
    "version": 3
   },
   "file_extension": ".py",
   "mimetype": "text/x-python",
   "name": "python",
   "nbconvert_exporter": "python",
   "pygments_lexer": "ipython3",
   "version": "3.9.7"
  }
 },
 "nbformat": 4,
 "nbformat_minor": 5
}

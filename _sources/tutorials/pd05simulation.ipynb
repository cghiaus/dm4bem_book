{
 "cells": [
  {
   "cell_type": "markdown",
   "id": "c2edd2df-8144-4d8c-8ff5-816b6b5ace01",
   "metadata": {
    "tags": []
   },
   "source": [
    "# Inputs and simulation\n",
    "\n",
    "[![Binder](https://static.mybinder.org/badge_logo.svg)](https://mybinder.org/v2/gh/cghiaus/dm4bem_book/main?labpath=%2Ftutorials%2Fpd05simulation.ipynb)\n",
    "\n",
    "This notebook shows a complete example of simulation for a toy model obtained by assembling. It covers (Figure 1):\n",
    "\n",
    "- modeling: \n",
    "     - obtain dissasembled thermal circuit from files describing the walls and the thermal circuits (function `bldg2TCd()`);\n",
    "     - assemble the thermal circuits (functions `assemble_TCd_matrix()` and `assemble_lists2matrix()`);\n",
    "     - convert thermal circuit into state-space representation from thermal circuit (function `tc2ss()`).\n",
    "\n",
    "\n",
    "- input data set:\n",
    "    - get weather data: outdoor temperature, and direct and diffuse solar radiation (functions `read_epw()`) and calculate solar radiation on tilted surfaces (function `sol_rad_tilt_surf()`);\n",
    "    - define the other inputs, such as indoor temperature set points, auxiliary flow-rates;\n",
    "\n",
    "\n",
    "- simulation:\n",
    "    - prepare the inputs from input description of the state-space  ($u_s$) and the _input data set_ (function `inputs_in_time()`);\n",
    "    - integrate the state-space model in time by using Euler explicit and implicit methods.\n",
    "\n",
    "![work_flow](./pd/bldg/work_flow.svg)\n",
    "\n",
    "> Figure 1. Work flow for building simulation by using `dm4bem` module. The `dm4bem` functions are in bold letters."
   ]
  },
  {
   "cell_type": "code",
   "execution_count": 1,
   "id": "2e98a935-1ae9-43b3-ae9c-fd0ebd8a8b94",
   "metadata": {},
   "outputs": [],
   "source": [
    "import numpy as np\n",
    "import pandas as pd\n",
    "import matplotlib.pyplot as plt\n",
    "import dm4bem"
   ]
  },
  {
   "cell_type": "markdown",
   "id": "ca4b9d26-f049-4fb9-9677-0a38f273a8f4",
   "metadata": {},
   "source": [
    "## Assembling and converting the thermal circuits to state-space\n",
    "Consider the disassembled thermal circuits shown in Figure 1 that we want to assemble as shown in Figure 2 and then obtain the state-space representation.\n",
    "\n",
    "![disassambled_TC](./pd/bldg/ass_TCd.svg)\n",
    "> Figure 1. Four disassembled thermal circuits: wall_out, TC0, TC1, TC2, TC3.\n",
    "\n",
    "![disassambled_TC](./pd/bldg/ass_TC.svg)\n",
    "> Figure 2. The assembling of the four circuits from Figure 1.\n",
    "\n",
    "The thermal circuits are described in a folder. The steps to obtain a state-space model from thermal circuits are:\n",
    "1. Obtain the disassambled set of thermal circuits from data given in a folder.\n",
    "2. Assemble the set of thermal circuits.\n",
    "3. Transform the thermal circuit into state-space representation."
   ]
  },
  {
   "cell_type": "code",
   "execution_count": 2,
   "id": "927d2c8d-d565-4bc1-aa48-93cd1fbf4068",
   "metadata": {},
   "outputs": [],
   "source": [
    "# Obtain state-space representation\n",
    "# =================================\n",
    "# Disassembled thermal circuits\n",
    "folder_path = \"pd/bldg\"\n",
    "TCd = dm4bem.bldg2TCd(folder_path,\n",
    "                      TC_auto_number=True)\n",
    "\n",
    "# Assembled thermal circuit\n",
    "ass_lists = pd.read_csv(folder_path + '/assembly_lists.csv')\n",
    "ass_matrix = dm4bem.assemble_lists2matrix(ass_lists)\n",
    "TC = dm4bem.assemble_TCd_matrix(TCd, ass_matrix)"
   ]
  },
  {
   "cell_type": "markdown",
   "id": "053759ba-742d-4d02-8bb7-cbd49e331e3c",
   "metadata": {},
   "source": [
    "We can change the values of the conductances and the capacities from the thermal circuit."
   ]
  },
  {
   "cell_type": "code",
   "execution_count": 3,
   "id": "344ac43a-f6a8-4a84-a46c-d51f05887306",
   "metadata": {},
   "outputs": [],
   "source": [
    "TC['G']['c3_q0'] = 1e3  # Kp, controler gain\n",
    "# TC['C']['c2_θ0'] = 0    # indoor air heat capacity\n",
    "# TC['C']['c1_θ0'] = 0    # glass (window) heat capacity"
   ]
  },
  {
   "cell_type": "markdown",
   "id": "b6166040-ac00-49ba-b98e-f4c5c36f391b",
   "metadata": {},
   "source": [
    "The state-space representation is obtained from the thermal circuit."
   ]
  },
  {
   "cell_type": "code",
   "execution_count": 4,
   "id": "276bb97e-b429-4969-8aba-c9ced19b2903",
   "metadata": {},
   "outputs": [],
   "source": [
    "# State-space\n",
    "[As, Bs, Cs, Ds, us] = dm4bem.tc2ss(TC)"
   ]
  },
  {
   "cell_type": "markdown",
   "id": "b432e1de-b9a7-49c7-8292-2a28421e0547",
   "metadata": {},
   "source": [
    "## Eigenvalues, time step and settling time\n",
    "\n",
    "The eigenvalues analysis of the state matrix yields:\n",
    "\n",
    "- maximum __time step__ for Euler explicit method: $\\Delta t_{max} = 2·\\mathrm{min} (-1 / \\lambda_i)$, where $\\lambda$ is the vector of eigenvalues of the state matrix $A_s$ and $T_i = -1 / \\lambda_i$ are the time constants;\n",
    "- minimum __settling time__: $t_{settle} = 4 \\ \\mathrm{max} (-1 / \\lambda_i$). "
   ]
  },
  {
   "cell_type": "code",
   "execution_count": 5,
   "id": "8ae51e93-e44d-40a0-ad44-4aea836f407b",
   "metadata": {
    "tags": []
   },
   "outputs": [],
   "source": [
    "λ = np.linalg.eig(As)[0]    # eigenvalues of matrix As"
   ]
  },
  {
   "cell_type": "code",
   "execution_count": 6,
   "id": "3881d0c4-77b5-4c86-aa1e-870d49e24ccf",
   "metadata": {
    "tags": []
   },
   "outputs": [
    {
     "name": "stdout",
     "output_type": "stream",
     "text": [
      "dt = 50 s\n"
     ]
    }
   ],
   "source": [
    "dt_max = 2 * min(-1. / λ)    # max time step for Euler explicit stability\n",
    "dt = dm4bem.round_time(dt_max)\n",
    "dm4bem.print_rounded_time('dt', dt)"
   ]
  },
  {
   "cell_type": "code",
   "execution_count": 7,
   "id": "bae4d196-a806-4d86-8c64-ac292803e4bd",
   "metadata": {
    "tags": []
   },
   "outputs": [
    {
     "name": "stdout",
     "output_type": "stream",
     "text": [
      "duration = 176400 s = 49.0 h\n"
     ]
    }
   ],
   "source": [
    "t_settle = 4 * max(-1. / λ)\n",
    "# duration: next multiple of 3600 s that is larger than t_settle\n",
    "duration = np.ceil(t_settle / 3600) * 3600\n",
    "dm4bem.print_rounded_time('duration', duration)"
   ]
  },
  {
   "cell_type": "markdown",
   "id": "8b8687e7-41a5-4b22-950e-e9b643cfee22",
   "metadata": {
    "tags": []
   },
   "source": [
    "## Input data set for step response\n",
    "\n",
    "The [step response](https://en.m.wikipedia.org/wiki/Step_response) consists of the time response of the system when one or more inputs change instantaneously at time $t = 0$. The inputs of the system are the temperature ($T_o$, $T_{i,sp}$) and flow-rate sources ($\\Phi_o$, $\\Phi_i$, $\\Phi_a$, $\\dot{Q}_a$).\n",
    "\n",
    "The input vector in time, $u$, is a DataFrame with time as index (note that the year is __2000__ by convention); its columns are the values of the inputs arranged in the order given by the vector $u_s$ (from the state-space representation). The transformation from input data set to the input vector is done by the function `inputs_in_time()` from `dm4bem` module."
   ]
  },
  {
   "cell_type": "code",
   "execution_count": 8,
   "id": "66d3bf52-ed99-4410-8709-e04915e10f9c",
   "metadata": {},
   "outputs": [],
   "source": [
    "# Create input_data_set\n",
    "# ---------------------\n",
    "# time vector\n",
    "n = int(np.floor(duration / dt))    # number of time steps\n",
    "\n",
    "# Create a DateTimeIndex starting at \"00:00:00\" with a time step of dt\n",
    "time = pd.date_range(start=\"2000-01-01 00:00:00\",\n",
    "                     periods=n, freq=f\"{int(dt)}S\")\n",
    "\n",
    "To = 10 * np.ones(n)\n",
    "Ti_sp = 20 * np.ones(n)\n",
    "Φa = 0 * np.ones(n)\n",
    "Qa = Φo = Φi = Φa\n",
    "\n",
    "data = {'To': To, 'Ti_sp': Ti_sp, 'Qa': Qa, 'Φo': Φo, 'Φi': Φi, 'Φa': Φa}\n",
    "input_data_set = pd.DataFrame(data, index=time)\n",
    "\n",
    "# Get input u from input_data_set\n",
    "u = dm4bem.inputs_in_time(us, input_data_set)"
   ]
  },
  {
   "cell_type": "markdown",
   "id": "d4f972f0-57f1-44e9-919a-c2e2927ff9ab",
   "metadata": {},
   "source": [
    "## Simulation"
   ]
  },
  {
   "cell_type": "markdown",
   "id": "f0ecb60f-c5dd-4969-aa60-08342e247765",
   "metadata": {},
   "source": [
    "### Step response"
   ]
  },
  {
   "cell_type": "markdown",
   "id": "e1f8054e-2f1f-40e2-8fc8-0cd474dcdcb5",
   "metadata": {},
   "source": [
    "#### Initial conditions"
   ]
  },
  {
   "cell_type": "code",
   "execution_count": 9,
   "id": "c144c7f9-d8ff-4cb4-ab88-31f968c9b85b",
   "metadata": {},
   "outputs": [],
   "source": [
    "# Initial conditions\n",
    "θ0 = 0                      # initial temperatures\n",
    "θ_exp = pd.DataFrame(index=u.index)\n",
    "θ_exp[As.columns] = θ0      # Fill θ with initial valeus θ0\n",
    "θ_imp = θ_exp"
   ]
  },
  {
   "cell_type": "markdown",
   "id": "3d311895-ab92-497a-b1dc-db71d2d7a5f6",
   "metadata": {
    "tags": []
   },
   "source": [
    "#### Time integration\n",
    "\n",
    "The formula for [Euler](https://en.m.wikipedia.org/wiki/Euler_method)  integration is:\n",
    "\n",
    "$$ \\theta_{k+1} = (I + \\Delta t A_s) \\theta _k + \\Delta t B_s u_k $$\n",
    "\n",
    "for forward (or explicit) and:\n",
    "\n",
    "$$\\theta_{k+1} = (I - \\Delta t A_s)^{-1} ( \\theta _k + \\Delta t B_s u_k )$$\n",
    "\n",
    "for backward (or implicit) integration."
   ]
  },
  {
   "cell_type": "code",
   "execution_count": 10,
   "id": "a5664eb3-207f-4c1c-bca8-a9f2f7ccd80f",
   "metadata": {},
   "outputs": [],
   "source": [
    "I = np.eye(As.shape[0])     # identity matrix\n",
    "\n",
    "for k in range(n - 1):\n",
    "    θ_exp.iloc[k + 1] = (I + dt * As)\\\n",
    "        @ θ_exp.iloc[k] + dt * Bs @ u.iloc[k]\n",
    "    θ_imp.iloc[k + 1] = np.linalg.inv(I - dt * As)\\\n",
    "        @ (θ_imp.iloc[k] + dt * Bs @ u.iloc[k])"
   ]
  },
  {
   "cell_type": "markdown",
   "id": "c364336a-6701-4aa2-bb48-d29c53170ec8",
   "metadata": {},
   "source": [
    "#### Output values\n",
    "\n",
    "Once the state variables, i.e. the temperatures in nodes that have capacities $\\theta_C$, are found, the temperatures in the other nodes are:\n",
    "\n",
    "$$y = C_s \\theta + D_s u$$"
   ]
  },
  {
   "cell_type": "code",
   "execution_count": 11,
   "id": "f494b136-76c0-4170-9c0e-7ef2350b26c5",
   "metadata": {},
   "outputs": [
    {
     "data": {
      "image/png": "[encoded data removed]",
      "text/plain": [
       "<Figure size 432x288 with 1 Axes>"
      ]
     },
     "metadata": {
      "needs_background": "light"
     },
     "output_type": "display_data"
    }
   ],
   "source": [
    "# outputs\n",
    "y_exp = (Cs @ θ_exp.T + Ds @  u.T).T\n",
    "y_imp = (Cs @ θ_imp.T + Ds @  u.T).T\n",
    "\n",
    "# plot results\n",
    "y = pd.concat([y_exp, y_imp], axis=1, keys=['Explicit', 'Implicit'])\n",
    "# Flatten the two-level column labels into a single level\n",
    "y.columns = y.columns.get_level_values(0)\n",
    "y.plot();"
   ]
  },
  {
   "cell_type": "markdown",
   "id": "51391a2f-14fd-43dd-bb8a-4dfcb97cb908",
   "metadata": {},
   "source": [
    "> Figure 3. Step response by using Euler explicit and Euler implicit integration methods."
   ]
  },
  {
   "cell_type": "markdown",
   "id": "797385e7-f264-4172-b9d4-beeee135107e",
   "metadata": {},
   "source": [
    "### Simulation with weather data"
   ]
  },
  {
   "cell_type": "markdown",
   "id": "018a992b-72ac-472c-9992-526391bf5418",
   "metadata": {},
   "source": [
    "#### Start and end time\n",
    "The simulation will be done from `start_date` to `end_date` indicated in the format `MM-DD HH:MM:SS` (month, day, hour:minute:second)."
   ]
  },
  {
   "cell_type": "code",
   "execution_count": 12,
   "id": "727f06ce-96b4-4b1c-9836-067c7ae4e31e",
   "metadata": {},
   "outputs": [],
   "source": [
    "start_date = '02-01 12:00:00'\n",
    "end_date = '02-07 18:00:00'"
   ]
  },
  {
   "cell_type": "markdown",
   "id": "1fb16322-38f6-4b4f-9bd4-ff75e6901251",
   "metadata": {},
   "source": [
    "The weather data are for a year. The choice of `2000` for the year is arbitrary; it used in order to respect the format `YYYY-MM-DD HH:MM:SS`."
   ]
  },
  {
   "cell_type": "code",
   "execution_count": 13,
   "id": "974ad9ad-e9f8-4376-8fdd-fcee7168cf27",
   "metadata": {},
   "outputs": [
    {
     "name": "stdout",
     "output_type": "stream",
     "text": [
      "2000-02-01 12:00:00 \tstart date\n",
      "2000-02-07 18:00:00 \tend date\n"
     ]
    }
   ],
   "source": [
    "start_date = '2000-' + start_date\n",
    "end_date = '2000-' + end_date\n",
    "print(f'{start_date} \\tstart date')\n",
    "print(f'{end_date} \\tend date')"
   ]
  },
  {
   "cell_type": "markdown",
   "id": "e87b37f3-2cd0-49ba-ab98-8bb2641f0e3d",
   "metadata": {
    "tags": []
   },
   "source": [
    "#### Input data set\n",
    "##### Weather data\n",
    "Dynamic simulation needs [time series](https://en.m.wikipedia.org/wiki/Time_series) of weather data for air temperature, direct solar radiation on a normal surface and diffuse solar radiation on an horizontal surface (see the tutorial on [weather data and solar radiation](01WeatherData.ipynb))."
   ]
  },
  {
   "cell_type": "code",
   "execution_count": 14,
   "id": "233b9762-e971-4010-931e-ec5d61ce5585",
   "metadata": {},
   "outputs": [],
   "source": [
    "filename = '../weather_data/FRA_Lyon.074810_IWEC.epw'\n",
    "[data, meta] = dm4bem.read_epw(filename, coerce_year=None)\n",
    "weather = data[[\"temp_air\", \"dir_n_rad\", \"dif_h_rad\"]]\n",
    "del data"
   ]
  },
  {
   "cell_type": "markdown",
   "id": "d510d888-b208-45fe-ae28-079423b79caf",
   "metadata": {},
   "source": [
    "From the weather data, we select:\n",
    "- hourly outdoor air temperature, °C;\n",
    "- hourly solar [direct normal irradiance](https://en.m.wikipedia.org/wiki/Direct_insolation) (or beam radiation), W/m²;\n",
    "- hourly solar diffuse horizontal irradiance (or [diffuse sky radiation](https://en.wikipedia.org/wiki/Diffuse_sky_radiation)), W/m²,\n",
    "\n",
    "The yearly weather data set is from different years. By convenction, we set the year at `2000`. Then, we select the data from start date to end date and resample the weather data to the time step used in simulation."
   ]
  },
  {
   "cell_type": "code",
   "execution_count": 15,
   "id": "19e9dec1-c83f-4570-8975-27d327f0614b",
   "metadata": {},
   "outputs": [],
   "source": [
    "weather.index = weather.index.map(lambda t: t.replace(year=2000))\n",
    "weather = weather.loc[start_date:end_date]\n",
    "\n",
    "# weather = weather.resample(str(dt) + 'S').interpolate(method='linear')"
   ]
  },
  {
   "cell_type": "markdown",
   "id": "8441bc2c-83d8-44d5-a74d-83133d9e346b",
   "metadata": {},
   "source": [
    "##### Temperature sources\n",
    "\n",
    "The set of temperature sources contains:\n",
    "- $T_o$ - outdor temperature;\n",
    "- $T_{i, sp}$ - indoor temperature set-point."
   ]
  },
  {
   "cell_type": "code",
   "execution_count": 16,
   "id": "0a904524-30ed-4154-83d9-4cb72eae3f60",
   "metadata": {},
   "outputs": [],
   "source": [
    "# Temperature sources\n",
    "To = weather['temp_air']\n",
    "\n",
    "Ti_day, Ti_night = 20, 16\n",
    "Ti_sp = pd.Series(20, index=To.index)\n",
    "Ti_sp = pd.Series(\n",
    "    [Ti_day if 6 <= hour <= 22 else Ti_night for hour in To.index.hour],\n",
    "    index=To.index)"
   ]
  },
  {
   "cell_type": "markdown",
   "id": "4235ddca-96ec-450c-ad85-bc601c45f598",
   "metadata": {},
   "source": [
    "##### Flow-rate sources \n",
    "\n",
    "__Total solar irradiance on the outdoor wall__\n",
    "\n",
    "For the surface orientation of the outdoor wall, given by `slope`, `azimuth`and `latitude`, and the `albedo` of the surface in front of the wall, by using the weather data, we can calculate the direct, diffuse irradiance, and reflected irradiance solar [irradiance](https://en.m.wikipedia.org/wiki/Solar_irradiance), in W/m², on a tilted surface. The total irradiance, $E_{tot}$, is the sum of direct, diffuse and reflected irradiances."
   ]
  },
  {
   "cell_type": "code",
   "execution_count": 17,
   "id": "d5261d6b-ecdb-4bee-868e-64c15db43497",
   "metadata": {},
   "outputs": [],
   "source": [
    "# total solar irradiance\n",
    "wall_out = pd.read_csv('pd/bldg/walls_out.csv')\n",
    "w0 = wall_out[wall_out['ID'] == 'w0']\n",
    "\n",
    "surface_orientation = {'slope': w0['β'].values[0],\n",
    "                       'azimuth': w0['γ'].values[0],\n",
    "                       'latitude': 45}\n",
    "\n",
    "rad_surf = dm4bem.sol_rad_tilt_surf(\n",
    "    weather, surface_orientation, w0['albedo'].values[0])\n",
    "\n",
    "Etot = rad_surf.sum(axis=1)"
   ]
  },
  {
   "cell_type": "markdown",
   "id": "655d8d2c-0ab3-4d3f-9a00-e9430100350e",
   "metadata": {},
   "source": [
    "__Flow-rate sources__\n",
    "\n",
    "$\\Phi_o$: solar (i.e. short wave) radiation, in W, absorbed by the outdoor surface of the wall:\n",
    "\n",
    "$$\\Phi_o = \\alpha_{w,SW} S_w E_{tot}$$\n",
    "\n",
    "where:\n",
    "\n",
    "- $\\alpha_{w,SW}$ is the absortion coefficient of the outdoor surface of the wall in short wave, $0 \\leqslant \\alpha_{w,SW} \\leqslant 1$;\n",
    "- $S_w$ - surface area of the wall, m²;\n",
    "- $E_{tot}$ - total solar irradiation on the wall, W/m².\n",
    "\n",
    "$\\Phi_i$: short wave (i.e. solar) radiation, in W, absorbed by the indoor surfaces of the wall:\n",
    "\n",
    "$$\\Phi_i = \\tau_{g,SW}  \\alpha_{w,SW} S_g E_{tot}$$\n",
    "\n",
    "where:\n",
    "- $\\tau_{g,SW}$ is the transmission coefficient of the window glass, $0 \\leqslant \\tau_{g,SW} \\leqslant 1$;\n",
    "- $\\alpha_{w,SW}$ - absortion coefficient of the indoor surface of the wall in short wave, $0 \\leqslant \\alpha_{w,SW} \\leqslant 1$;\n",
    "- $S_g$ - surface area of the window glass, m²;\n",
    "- $E_{tot}$ - total solar radiation intensity on the wall, W/m².\n",
    "\n",
    "$\\Phi_a$: short wave (i.e. solar) radiation, in W, absorbed by the window glass:\n",
    "\n",
    "$$\\Phi_a = \\alpha_{g,SW} S_g E_{tot}$$\n",
    "\n",
    "where:\n",
    "- $\\alpha_{g,SW}$ is the absortion coefficient of the glass window in short wave, $0 \\leqslant \\alpha_{w,SW} \\leqslant 1$;\n",
    "- $S_g$ - surface area of the glass window, m²;\n",
    "- $E_{tot}$ - total solar irradiation on the wall, W/m².\n",
    "\n",
    "$\\dot{Q}_a$: auxiliary heat flows (from occupants, electrical devices, etc.), in W."
   ]
  },
  {
   "cell_type": "code",
   "execution_count": 18,
   "id": "0bcde87b-9f86-417f-9b92-8e71ddbe7fb7",
   "metadata": {},
   "outputs": [],
   "source": [
    "# Window glass properties\n",
    "α_gSW = 0.38    # short wave absortivity: reflective blue glass\n",
    "τ_gSW = 0.30    # short wave transmitance: reflective blue glass\n",
    "S_g = 9         # m2, surface area of glass\n",
    "\n",
    "# Flow-rate sources\n",
    "# solar radiation\n",
    "Φo = w0['α1'].values[0] * w0['Area'].values[0] * Etot\n",
    "Φi = τ_gSW * w0['α0'].values[0] * S_g * Etot\n",
    "Φa = α_gSW * S_g * Etot\n",
    "\n",
    "# auxiliary (internal) sources\n",
    "Qa = pd.Series(0, index=To.index)"
   ]
  },
  {
   "cell_type": "markdown",
   "id": "eebb624c-f0da-473a-b0f8-b057471c4a4d",
   "metadata": {},
   "source": [
    "##### Input data set"
   ]
  },
  {
   "cell_type": "code",
   "execution_count": 19,
   "id": "1159477f-c738-4808-8129-d69ab85744e5",
   "metadata": {},
   "outputs": [],
   "source": [
    "# Input data set\n",
    "input_data_set = pd.DataFrame({'To': To, 'Ti_sp': Ti_sp,\n",
    "                               'Φo': Φo, 'Φi': Φi, 'Qa': Qa, 'Φa': Φa,\n",
    "                               'Etot': Etot})"
   ]
  },
  {
   "cell_type": "markdown",
   "id": "40bd2042-3edd-4b4a-8942-2505edcfe1d6",
   "metadata": {},
   "source": [
    "#### Time integration"
   ]
  },
  {
   "cell_type": "markdown",
   "id": "24209eef-8d8c-4093-b834-8f0f47a9c651",
   "metadata": {},
   "source": [
    "##### Input vector\n",
    "\n",
    "Time integration requires the input vector $u$ which is obtained from the _input data set_ (i.e., sources), arranged according to the order given by $u_s$ from the state-space representation."
   ]
  },
  {
   "cell_type": "code",
   "execution_count": 20,
   "id": "41f9aabb-3870-42eb-8eda-91ab846363d7",
   "metadata": {
    "tags": []
   },
   "outputs": [],
   "source": [
    "# Resample hourly data to time step dt\n",
    "input_data_set = input_data_set.resample(\n",
    "    str(dt) + 'S').interpolate(method='linear')\n",
    "\n",
    "# Get input from input_data_set\n",
    "u = dm4bem.inputs_in_time(us, input_data_set)"
   ]
  },
  {
   "cell_type": "markdown",
   "id": "5ee247a9-e3c0-4d8d-a822-05ed6f449856",
   "metadata": {},
   "source": [
    "##### Initial conditions"
   ]
  },
  {
   "cell_type": "code",
   "execution_count": 21,
   "id": "0d3d3a19-35fa-431a-ab00-0f3e93e38b2f",
   "metadata": {},
   "outputs": [],
   "source": [
    "# initial conditions\n",
    "θ0 = 20                      # initial temperatures\n",
    "θ_exp = pd.DataFrame(index=u.index)\n",
    "θ_exp[As.columns] = θ0      # Fill θ with initial valeus θ0"
   ]
  },
  {
   "cell_type": "markdown",
   "id": "e1178279-4b23-40d6-966f-d96a5980a7a4",
   "metadata": {},
   "source": [
    "##### Numerical integration\n",
    "[Explicit Euler](https://en.m.wikipedia.org/wiki/Numerical_methods_for_ordinary_differential_equations#Euler_method) integration in time,\n",
    "\n",
    "$$ \\theta_{s,k+1} = (I + \\Delta t A) \\theta_{s,k} + \\Delta t B u_k $$\n",
    "\n",
    "where $k = 0, ... , n - 1$,"
   ]
  },
  {
   "cell_type": "code",
   "execution_count": 22,
   "id": "4e0263c2-906f-44fa-b2d1-2e8782eb8421",
   "metadata": {},
   "outputs": [],
   "source": [
    "# time integration\n",
    "I = np.eye(As.shape[0])     # identity matrix\n",
    "\n",
    "for k in range(u.shape[0] - 1):\n",
    "    θ_exp.iloc[k + 1] = (I + dt * As)\\\n",
    "        @ θ_exp.iloc[k] + dt * Bs @ u.iloc[k]"
   ]
  },
  {
   "cell_type": "markdown",
   "id": "bae0a0af-72fe-437d-ac26-1066b41e0769",
   "metadata": {},
   "source": [
    "started from innitial conditions, yields the time variation of state variable $\\theta$, from which we obtain the variation of the output (i.e. indoor temperature):\n",
    "\n",
    "$$y = C_s \\theta_s + D_s u$$\n",
    "\n",
    "and the variation of the heat flow of the HVAC system:\n",
    "\n",
    "$$q_{HVAC} = K_p (T_{i,sp} - \\theta_i) = K_p (T_{i,sp} - y)$$\n",
    "\n",
    "where $K_p$ is the gain of the P-controller and $T_{i,sp}$ is the HVAC-setpoint for the indoor temperature."
   ]
  },
  {
   "cell_type": "code",
   "execution_count": 28,
   "id": "79767dd7-8ef1-4be0-8920-abf25f03d261",
   "metadata": {},
   "outputs": [],
   "source": [
    "# outputs\n",
    "y = (Cs @ θ_exp.T + Ds @  u.T).T\n",
    "\n",
    "Kp = TC['G']['c3_q0']     # W/K, controller gain\n",
    "S = 3 * 3                 # m², surface area of the toy house\n",
    "q_HVAC = Kp * (u['c3_q0'] - y['c2_θ0']) / S  # W/m²"
   ]
  },
  {
   "cell_type": "code",
   "execution_count": 29,
   "id": "91f2c0d1-e1d7-496e-9f8c-ca95976eeca9",
   "metadata": {},
   "outputs": [],
   "source": [
    "data = pd.DataFrame({'To': input_data_set['To'],\n",
    "                     'θi': y['c2_θ0'],\n",
    "                     'Etot': input_data_set['Etot'],\n",
    "                     'q_HVAC': q_HVAC})"
   ]
  },
  {
   "cell_type": "code",
   "execution_count": 30,
   "id": "8332a22e-0191-4609-b962-a9e7b735f0c1",
   "metadata": {},
   "outputs": [
    {
     "data": {
      "image/png": "[encoded data removed]",
      "text/plain": [
       "<Figure size 432x288 with 2 Axes>"
      ]
     },
     "metadata": {
      "needs_background": "light"
     },
     "output_type": "display_data"
    }
   ],
   "source": [
    "fig, axs = plt.subplots(2, 1)\n",
    "data[['To', 'θi']].plot(ax=axs[0],\n",
    "                        xticks=[],\n",
    "                        ylabel='Temperature, $θ$ / °C')\n",
    "axs[0].legend(['$θ_{outdoor}$', '$θ_{indoor}$'],\n",
    "              loc='upper right')\n",
    "\n",
    "data[['Etot', 'q_HVAC']].plot(ax=axs[1],\n",
    "                              ylabel='Heat rate, $q$ / (W / m²)')\n",
    "axs[1].set(xlabel='Time')\n",
    "axs[1].legend(['$Φ_{total}$', '$q_{HVAC}$'],\n",
    "              loc='upper right')\n",
    "plt.show()"
   ]
  },
  {
   "cell_type": "markdown",
   "id": "1ea2fc64-7236-4ace-ad76-4f65dd4125f1",
   "metadata": {},
   "source": [
    "> Figure 4. Simulation in free-running with weather data using Euler explicit method of integration. a) Indoor and outdoor temperatures. b) Solar and HVAC heat flow rates."
   ]
  },
  {
   "cell_type": "markdown",
   "id": "0df34999-8c2c-4954-bb5c-1e257547c5c8",
   "metadata": {},
   "source": [
    "## Discussion\n",
    "\n",
    "__Simulation in free-floating or with controller__\n",
    "\n",
    "After the assebling of the thermal circuit with the function `dm4bem.assemble_TCd_matrix`, change the gain of the P-controller by setting the value of `TC['G']['c3_q0']`:\n",
    "- $K_p = 0$: no controller (i.e., free-floating);\n",
    "- $K_p = 10^3$: good balance between precision and time-step;\n",
    "- $K_p = 10^2$: the time step is larger by the precision is low;\n",
    "- $K_p = 10^4$: the precision is good but the time step is very small.\n",
    "\n",
    "Interchange the materials  of the layers of the wall. Discuss the step responses and the simuation for weather. Give arguments for the advantages and the disadvanted of indoor and outdoor insulation.\n",
    "\n",
    "The time step depends on:\n",
    "\n",
    "- P-controller gain `Kp`:\n",
    "    - if $K_p \\rightarrow \\infty$, then the controller is perfect and the time step needs to be small;\n",
    "    - if $K_p \\rightarrow 0$, then, the controller is ineffective and the building is in free-running.\n",
    "- Capacities considered into the model:\n",
    "    - if the capacities of the air $C_a =$ `C['Air']` and of the glass $C_g =$ `C['Glass']` are considered, then the time step is small;\n",
    "    - if the capacities of the air and of the glass are zero, then the time step is large (and the order of the state-space model is reduced).\n",
    "\n",
    "The controller models an HVAC system able to heat (when $q_{HVAC} > 0$) and to cool (when $q_{HVAC} < 0$)."
   ]
  },
  {
   "cell_type": "markdown",
   "id": "2f072939-1d50-43a0-9565-0b0cef4ce50a",
   "metadata": {},
   "source": [
    "## References\n",
    "\n",
    "1. C. Ghiaus (2013) Causality issue in the heat balance method for calculating the design heating and cooling loads, *Energy* 50: 292-301, https://doi.org/10.1016/j.energy.2012.10.024, open access preprint: [HAL-03605823](https://hal.archives-ouvertes.fr/hal-03605823/document)\n",
    "\n",
    "2. C. Ghiaus (2021). Dynamic Models for Energy Control of Smart Homes, in *S. Ploix M. Amayri, N. Bouguila (eds.) Towards Energy Smart Homes*, Online ISBN: 978-3-030-76477-7, Print ISBN: 978-3-030-76476-0, Springer, pp. 163-198 (ref.)\n",
    "[DOI 10.1007/978-3-030-76477-7_5](https://doi.org/10.1007/978-3-030-76477-7_5), open access preprint: [HAL 03578578](https://hal.archives-ouvertes.fr/hal-03578578/document)\n",
    "\n",
    "3. J.A. Duffie, W. A. Beckman, N. Blair (2020) [Solar Engineering of Thermal Processes](https://www.eng.uc.edu/~beaucag/Classes/SolarPowerForAfrica/Solar%20Engineering%20of%20Thermal%20Processes,%20Photovoltaics%20and%20Wind.pdf), 5th ed. John Wiley & Sons, Inc. ISBN 9781119540281\n",
    "\n",
    "4. [Réglementation Thermique 2005. Méthode de calcul Th-CE.](https://pdfslide.fr/documents/rt2005-methode-de-calcul-th-ce.html) Annexe à l’arrêté du 19 juillet 2006\n",
    "\n",
    "5. H. Recknagel, E. Sprenger, E.-R. Schramek (2013) Génie climatique, 5e edition, Dunod, Paris. ISBN 978-2-10-070451-4\n",
    "\n",
    "6. J.R. Howell et al. (2021) Thermal Radiation Heat Transfer 7th edition, ISBN 978-0-367-34707-0, [A Catalogue of Configuration Factors](http://www.thermalradiation.net/indexCat.html)\n",
    "\n",
    "7. J. Widén, J. Munkhammar (2019) [Solar Radiation Theory](http://www.diva-portal.org/smash/get/diva2:1305017/FULLTEXT01.pdf), Uppsala University"
   ]
  },
  {
   "cell_type": "code",
   "execution_count": null,
   "id": "68818559-5022-4382-af82-b0c202020ea8",
   "metadata": {},
   "outputs": [],
   "source": []
  }
 ],
 "metadata": {
  "kernelspec": {
   "display_name": "Python 3 (ipykernel)",
   "language": "python",
   "name": "python3"
  },
  "language_info": {
   "codemirror_mode": {
    "name": "ipython",
    "version": 3
   },
   "file_extension": ".py",
   "mimetype": "text/x-python",
   "name": "python",
   "nbconvert_exporter": "python",
   "pygments_lexer": "ipython3",
   "version": "3.9.7"
  },
  "toc-autonumbering": true
 },
 "nbformat": 4,
 "nbformat_minor": 5
}

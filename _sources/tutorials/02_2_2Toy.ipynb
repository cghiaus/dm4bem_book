{
 "cells": [
  {
   "cell_type": "markdown",
   "id": "35a53b91-f1eb-4c06-983f-3aaa32ac5a87",
   "metadata": {
    "tags": []
   },
   "source": [
    "# Steady-state and step response\n",
    "\n",
    "[![Binder](https://mybinder.org/badge_logo.svg)](https://mybinder.org/v2/gh/cghiaus/dm4bem_book/HEAD?labpath=%2Ftutorials%2F02_2_2Toy.ipynb)\n",
    "\n",
    "[Steady-state](https://en.m.wikipedia.org/wiki/Steady_state) analysis focuses on the behavior of a system after transients have settled, specifically when the system reaches a stable equilibrium at a constant input.\n",
    "\n",
    "[Step response](https://en.m.wikipedia.org/wiki/Step_response) analyses system's dynamic response to a sudden change in input (i.e., to a step input). Step response is concerned with  transient behavior, such as how the system responds immediately after the input change and how it eventually settles into a new steady-state.\n",
    "\n",
    "**Objectives:**\n",
    "- Find the steady-state values for thermal circuit and state-space.\n",
    "- Estimate the time step and the setthing time from eigenvalue analysis.\n",
    "- Simulate the step response.\n",
    "- Compare the steady-state results with step response after settling time.\n",
    "\n",
    "![thermal_circuit](../figures/03_therm_circ.svg)\n",
    "> Figure 1. Thermal circuit for the cubic building."
   ]
  },
  {
   "cell_type": "code",
   "execution_count": 1,
   "id": "764b77e2-3f93-4484-9842-6b328305d517",
   "metadata": {},
   "outputs": [],
   "source": [
    "import numpy as np\n",
    "import pandas as pd\n",
    "import matplotlib.pyplot as plt\n",
    "\n",
    "import dm4bem"
   ]
  },
  {
   "cell_type": "markdown",
   "id": "55996710-77de-4f3d-a33a-1006e6911424",
   "metadata": {},
   "source": [
    "The following assumptions are done:\n",
    "- The indoor air temperature is controlled or not (i.e., the building is in free running).\n",
    "- The heat capacity of air and of glass is neglected or not.\n",
    "- The time step is calculated from the eigenvalues or it is imposed at a value designated as $\\Delta t$."
   ]
  },
  {
   "cell_type": "code",
   "execution_count": 2,
   "id": "6f842ded-7a14-4a9b-85a2-d4e815262048",
   "metadata": {},
   "outputs": [],
   "source": [
    "controller = False\n",
    "neglect_air_glass_capacity = False\n",
    "imposed_time_step = False\n",
    "Δt = 498    # s, imposed time step"
   ]
  },
  {
   "cell_type": "markdown",
   "id": "adbccd8a-d608-44ff-a796-e26d4432110f",
   "metadata": {},
   "source": [
    "The thermal circuit was described in the section on modelling (Figure 1). It is given by a _thermal circuit_ imported from the file [./toy_model/TC.csv](./toy_model/TC.csv). \n",
    "\n",
    "A thermal ciruit file contains the incidence matrix $A$, the diagonals of matrices $G$ and $C$, and the vectors $b$, $f$, and $y$ (see example below). If there is no value in a cell, it is considered `0`."
   ]
  },
  {
   "cell_type": "code",
   "execution_count": 3,
   "id": "68d9fdda-aa62-4e46-9bbb-10cf18766f4d",
   "metadata": {},
   "outputs": [
    {
     "name": "stdout",
     "output_type": "stream",
     "text": [
      "Matrices and vectors for thermal circuit from Figure 1\n"
     ]
    },
    {
     "data": {
      "text/html": [
       "<style type=\"text/css\">\n",
       "#T_bb216_row0_col9, #T_bb216_row0_col10, #T_bb216_row1_col9, #T_bb216_row1_col10, #T_bb216_row2_col9, #T_bb216_row2_col10, #T_bb216_row3_col9, #T_bb216_row3_col10, #T_bb216_row4_col9, #T_bb216_row4_col10, #T_bb216_row5_col9, #T_bb216_row5_col10, #T_bb216_row6_col9, #T_bb216_row6_col10, #T_bb216_row7_col9, #T_bb216_row7_col10, #T_bb216_row8_col9, #T_bb216_row8_col10, #T_bb216_row9_col9, #T_bb216_row9_col10, #T_bb216_row10_col9, #T_bb216_row10_col10, #T_bb216_row11_col9, #T_bb216_row11_col10, #T_bb216_row12_col0, #T_bb216_row12_col1, #T_bb216_row12_col2, #T_bb216_row12_col3, #T_bb216_row12_col4, #T_bb216_row12_col5, #T_bb216_row12_col6, #T_bb216_row12_col7, #T_bb216_row12_col8, #T_bb216_row12_col9, #T_bb216_row12_col10, #T_bb216_row13_col0, #T_bb216_row13_col1, #T_bb216_row13_col2, #T_bb216_row13_col3, #T_bb216_row13_col4, #T_bb216_row13_col5, #T_bb216_row13_col6, #T_bb216_row13_col7, #T_bb216_row13_col8, #T_bb216_row13_col9, #T_bb216_row13_col10, #T_bb216_row14_col0, #T_bb216_row14_col1, #T_bb216_row14_col2, #T_bb216_row14_col3, #T_bb216_row14_col4, #T_bb216_row14_col5, #T_bb216_row14_col6, #T_bb216_row14_col7, #T_bb216_row14_col8, #T_bb216_row14_col9, #T_bb216_row14_col10 {\n",
       "  background-color: yellow;\n",
       "}\n",
       "</style>\n",
       "<table id=\"T_bb216\">\n",
       "  <thead>\n",
       "    <tr>\n",
       "      <th class=\"blank level0\" >&nbsp;</th>\n",
       "      <th id=\"T_bb216_level0_col0\" class=\"col_heading level0 col0\" >A</th>\n",
       "      <th id=\"T_bb216_level0_col1\" class=\"col_heading level0 col1\" >θ0</th>\n",
       "      <th id=\"T_bb216_level0_col2\" class=\"col_heading level0 col2\" >θ1</th>\n",
       "      <th id=\"T_bb216_level0_col3\" class=\"col_heading level0 col3\" >θ2</th>\n",
       "      <th id=\"T_bb216_level0_col4\" class=\"col_heading level0 col4\" >θ3</th>\n",
       "      <th id=\"T_bb216_level0_col5\" class=\"col_heading level0 col5\" >θ4</th>\n",
       "      <th id=\"T_bb216_level0_col6\" class=\"col_heading level0 col6\" >θ5</th>\n",
       "      <th id=\"T_bb216_level0_col7\" class=\"col_heading level0 col7\" >θ6</th>\n",
       "      <th id=\"T_bb216_level0_col8\" class=\"col_heading level0 col8\" >θ7</th>\n",
       "      <th id=\"T_bb216_level0_col9\" class=\"col_heading level0 col9\" >G</th>\n",
       "      <th id=\"T_bb216_level0_col10\" class=\"col_heading level0 col10\" >b</th>\n",
       "    </tr>\n",
       "  </thead>\n",
       "  <tbody>\n",
       "    <tr>\n",
       "      <th id=\"T_bb216_level0_row0\" class=\"row_heading level0 row0\" >0</th>\n",
       "      <td id=\"T_bb216_row0_col0\" class=\"data row0 col0\" >q0</td>\n",
       "      <td id=\"T_bb216_row0_col1\" class=\"data row0 col1\" >1</td>\n",
       "      <td id=\"T_bb216_row0_col2\" class=\"data row0 col2\" >0.000000</td>\n",
       "      <td id=\"T_bb216_row0_col3\" class=\"data row0 col3\" >0</td>\n",
       "      <td id=\"T_bb216_row0_col4\" class=\"data row0 col4\" >0</td>\n",
       "      <td id=\"T_bb216_row0_col5\" class=\"data row0 col5\" >0</td>\n",
       "      <td id=\"T_bb216_row0_col6\" class=\"data row0 col6\" >0</td>\n",
       "      <td id=\"T_bb216_row0_col7\" class=\"data row0 col7\" >0</td>\n",
       "      <td id=\"T_bb216_row0_col8\" class=\"data row0 col8\" >0</td>\n",
       "      <td id=\"T_bb216_row0_col9\" class=\"data row0 col9\" >1125.000000</td>\n",
       "      <td id=\"T_bb216_row0_col10\" class=\"data row0 col10\" >To</td>\n",
       "    </tr>\n",
       "    <tr>\n",
       "      <th id=\"T_bb216_level0_row1\" class=\"row_heading level0 row1\" >1</th>\n",
       "      <td id=\"T_bb216_row1_col0\" class=\"data row1 col0\" >q1</td>\n",
       "      <td id=\"T_bb216_row1_col1\" class=\"data row1 col1\" >-1</td>\n",
       "      <td id=\"T_bb216_row1_col2\" class=\"data row1 col2\" >1.000000</td>\n",
       "      <td id=\"T_bb216_row1_col3\" class=\"data row1 col3\" >0</td>\n",
       "      <td id=\"T_bb216_row1_col4\" class=\"data row1 col4\" >0</td>\n",
       "      <td id=\"T_bb216_row1_col5\" class=\"data row1 col5\" >0</td>\n",
       "      <td id=\"T_bb216_row1_col6\" class=\"data row1 col6\" >0</td>\n",
       "      <td id=\"T_bb216_row1_col7\" class=\"data row1 col7\" >0</td>\n",
       "      <td id=\"T_bb216_row1_col8\" class=\"data row1 col8\" >0</td>\n",
       "      <td id=\"T_bb216_row1_col9\" class=\"data row1 col9\" >630.000000</td>\n",
       "      <td id=\"T_bb216_row1_col10\" class=\"data row1 col10\" >0</td>\n",
       "    </tr>\n",
       "    <tr>\n",
       "      <th id=\"T_bb216_level0_row2\" class=\"row_heading level0 row2\" >2</th>\n",
       "      <td id=\"T_bb216_row2_col0\" class=\"data row2 col0\" >q2</td>\n",
       "      <td id=\"T_bb216_row2_col1\" class=\"data row2 col1\" >0</td>\n",
       "      <td id=\"T_bb216_row2_col2\" class=\"data row2 col2\" >-1.000000</td>\n",
       "      <td id=\"T_bb216_row2_col3\" class=\"data row2 col3\" >1</td>\n",
       "      <td id=\"T_bb216_row2_col4\" class=\"data row2 col4\" >0</td>\n",
       "      <td id=\"T_bb216_row2_col5\" class=\"data row2 col5\" >0</td>\n",
       "      <td id=\"T_bb216_row2_col6\" class=\"data row2 col6\" >0</td>\n",
       "      <td id=\"T_bb216_row2_col7\" class=\"data row2 col7\" >0</td>\n",
       "      <td id=\"T_bb216_row2_col8\" class=\"data row2 col8\" >0</td>\n",
       "      <td id=\"T_bb216_row2_col9\" class=\"data row2 col9\" >630.000000</td>\n",
       "      <td id=\"T_bb216_row2_col10\" class=\"data row2 col10\" >0</td>\n",
       "    </tr>\n",
       "    <tr>\n",
       "      <th id=\"T_bb216_level0_row3\" class=\"row_heading level0 row3\" >3</th>\n",
       "      <td id=\"T_bb216_row3_col0\" class=\"data row3 col0\" >q3</td>\n",
       "      <td id=\"T_bb216_row3_col1\" class=\"data row3 col1\" >0</td>\n",
       "      <td id=\"T_bb216_row3_col2\" class=\"data row3 col2\" >0.000000</td>\n",
       "      <td id=\"T_bb216_row3_col3\" class=\"data row3 col3\" >-1</td>\n",
       "      <td id=\"T_bb216_row3_col4\" class=\"data row3 col4\" >1</td>\n",
       "      <td id=\"T_bb216_row3_col5\" class=\"data row3 col5\" >0</td>\n",
       "      <td id=\"T_bb216_row3_col6\" class=\"data row3 col6\" >0</td>\n",
       "      <td id=\"T_bb216_row3_col7\" class=\"data row3 col7\" >0</td>\n",
       "      <td id=\"T_bb216_row3_col8\" class=\"data row3 col8\" >0</td>\n",
       "      <td id=\"T_bb216_row3_col9\" class=\"data row3 col9\" >30.375000</td>\n",
       "      <td id=\"T_bb216_row3_col10\" class=\"data row3 col10\" >0</td>\n",
       "    </tr>\n",
       "    <tr>\n",
       "      <th id=\"T_bb216_level0_row4\" class=\"row_heading level0 row4\" >4</th>\n",
       "      <td id=\"T_bb216_row4_col0\" class=\"data row4 col0\" >q4</td>\n",
       "      <td id=\"T_bb216_row4_col1\" class=\"data row4 col1\" >0</td>\n",
       "      <td id=\"T_bb216_row4_col2\" class=\"data row4 col2\" >0.000000</td>\n",
       "      <td id=\"T_bb216_row4_col3\" class=\"data row4 col3\" >0</td>\n",
       "      <td id=\"T_bb216_row4_col4\" class=\"data row4 col4\" >-1</td>\n",
       "      <td id=\"T_bb216_row4_col5\" class=\"data row4 col5\" >1</td>\n",
       "      <td id=\"T_bb216_row4_col6\" class=\"data row4 col6\" >0</td>\n",
       "      <td id=\"T_bb216_row4_col7\" class=\"data row4 col7\" >0</td>\n",
       "      <td id=\"T_bb216_row4_col8\" class=\"data row4 col8\" >0</td>\n",
       "      <td id=\"T_bb216_row4_col9\" class=\"data row4 col9\" >30.375000</td>\n",
       "      <td id=\"T_bb216_row4_col10\" class=\"data row4 col10\" >0</td>\n",
       "    </tr>\n",
       "    <tr>\n",
       "      <th id=\"T_bb216_level0_row5\" class=\"row_heading level0 row5\" >5</th>\n",
       "      <td id=\"T_bb216_row5_col0\" class=\"data row5 col0\" >q5</td>\n",
       "      <td id=\"T_bb216_row5_col1\" class=\"data row5 col1\" >0</td>\n",
       "      <td id=\"T_bb216_row5_col2\" class=\"data row5 col2\" >0.000000</td>\n",
       "      <td id=\"T_bb216_row5_col3\" class=\"data row5 col3\" >0</td>\n",
       "      <td id=\"T_bb216_row5_col4\" class=\"data row5 col4\" >0</td>\n",
       "      <td id=\"T_bb216_row5_col5\" class=\"data row5 col5\" >-1</td>\n",
       "      <td id=\"T_bb216_row5_col6\" class=\"data row5 col6\" >1</td>\n",
       "      <td id=\"T_bb216_row5_col7\" class=\"data row5 col7\" >0</td>\n",
       "      <td id=\"T_bb216_row5_col8\" class=\"data row5 col8\" >0</td>\n",
       "      <td id=\"T_bb216_row5_col9\" class=\"data row5 col9\" >44.786824</td>\n",
       "      <td id=\"T_bb216_row5_col10\" class=\"data row5 col10\" >0</td>\n",
       "    </tr>\n",
       "    <tr>\n",
       "      <th id=\"T_bb216_level0_row6\" class=\"row_heading level0 row6\" >6</th>\n",
       "      <td id=\"T_bb216_row6_col0\" class=\"data row6 col0\" >q6</td>\n",
       "      <td id=\"T_bb216_row6_col1\" class=\"data row6 col1\" >0</td>\n",
       "      <td id=\"T_bb216_row6_col2\" class=\"data row6 col2\" >0.000000</td>\n",
       "      <td id=\"T_bb216_row6_col3\" class=\"data row6 col3\" >0</td>\n",
       "      <td id=\"T_bb216_row6_col4\" class=\"data row6 col4\" >0</td>\n",
       "      <td id=\"T_bb216_row6_col5\" class=\"data row6 col5\" >-1</td>\n",
       "      <td id=\"T_bb216_row6_col6\" class=\"data row6 col6\" >0</td>\n",
       "      <td id=\"T_bb216_row6_col7\" class=\"data row6 col7\" >1</td>\n",
       "      <td id=\"T_bb216_row6_col8\" class=\"data row6 col8\" >0</td>\n",
       "      <td id=\"T_bb216_row6_col9\" class=\"data row6 col9\" >360.000000</td>\n",
       "      <td id=\"T_bb216_row6_col10\" class=\"data row6 col10\" >0</td>\n",
       "    </tr>\n",
       "    <tr>\n",
       "      <th id=\"T_bb216_level0_row7\" class=\"row_heading level0 row7\" >7</th>\n",
       "      <td id=\"T_bb216_row7_col0\" class=\"data row7 col0\" >q7</td>\n",
       "      <td id=\"T_bb216_row7_col1\" class=\"data row7 col1\" >0</td>\n",
       "      <td id=\"T_bb216_row7_col2\" class=\"data row7 col2\" >0.000000</td>\n",
       "      <td id=\"T_bb216_row7_col3\" class=\"data row7 col3\" >0</td>\n",
       "      <td id=\"T_bb216_row7_col4\" class=\"data row7 col4\" >0</td>\n",
       "      <td id=\"T_bb216_row7_col5\" class=\"data row7 col5\" >0</td>\n",
       "      <td id=\"T_bb216_row7_col6\" class=\"data row7 col6\" >-1</td>\n",
       "      <td id=\"T_bb216_row7_col7\" class=\"data row7 col7\" >1</td>\n",
       "      <td id=\"T_bb216_row7_col8\" class=\"data row7 col8\" >0</td>\n",
       "      <td id=\"T_bb216_row7_col9\" class=\"data row7 col9\" >72.000000</td>\n",
       "      <td id=\"T_bb216_row7_col10\" class=\"data row7 col10\" >0</td>\n",
       "    </tr>\n",
       "    <tr>\n",
       "      <th id=\"T_bb216_level0_row8\" class=\"row_heading level0 row8\" >8</th>\n",
       "      <td id=\"T_bb216_row8_col0\" class=\"data row8 col0\" >q8</td>\n",
       "      <td id=\"T_bb216_row8_col1\" class=\"data row8 col1\" >0</td>\n",
       "      <td id=\"T_bb216_row8_col2\" class=\"data row8 col2\" >0.000000</td>\n",
       "      <td id=\"T_bb216_row8_col3\" class=\"data row8 col3\" >0</td>\n",
       "      <td id=\"T_bb216_row8_col4\" class=\"data row8 col4\" >0</td>\n",
       "      <td id=\"T_bb216_row8_col5\" class=\"data row8 col5\" >0</td>\n",
       "      <td id=\"T_bb216_row8_col6\" class=\"data row8 col6\" >0</td>\n",
       "      <td id=\"T_bb216_row8_col7\" class=\"data row8 col7\" >0</td>\n",
       "      <td id=\"T_bb216_row8_col8\" class=\"data row8 col8\" >1</td>\n",
       "      <td id=\"T_bb216_row8_col9\" class=\"data row8 col9\" >165.789474</td>\n",
       "      <td id=\"T_bb216_row8_col10\" class=\"data row8 col10\" >To</td>\n",
       "    </tr>\n",
       "    <tr>\n",
       "      <th id=\"T_bb216_level0_row9\" class=\"row_heading level0 row9\" >9</th>\n",
       "      <td id=\"T_bb216_row9_col0\" class=\"data row9 col0\" >q9</td>\n",
       "      <td id=\"T_bb216_row9_col1\" class=\"data row9 col1\" >0</td>\n",
       "      <td id=\"T_bb216_row9_col2\" class=\"data row9 col2\" >0.000000</td>\n",
       "      <td id=\"T_bb216_row9_col3\" class=\"data row9 col3\" >0</td>\n",
       "      <td id=\"T_bb216_row9_col4\" class=\"data row9 col4\" >0</td>\n",
       "      <td id=\"T_bb216_row9_col5\" class=\"data row9 col5\" >0</td>\n",
       "      <td id=\"T_bb216_row9_col6\" class=\"data row9 col6\" >1</td>\n",
       "      <td id=\"T_bb216_row9_col7\" class=\"data row9 col7\" >0</td>\n",
       "      <td id=\"T_bb216_row9_col8\" class=\"data row9 col8\" >-1</td>\n",
       "      <td id=\"T_bb216_row9_col9\" class=\"data row9 col9\" >630.000000</td>\n",
       "      <td id=\"T_bb216_row9_col10\" class=\"data row9 col10\" >0</td>\n",
       "    </tr>\n",
       "    <tr>\n",
       "      <th id=\"T_bb216_level0_row10\" class=\"row_heading level0 row10\" >10</th>\n",
       "      <td id=\"T_bb216_row10_col0\" class=\"data row10 col0\" >q10</td>\n",
       "      <td id=\"T_bb216_row10_col1\" class=\"data row10 col1\" >0</td>\n",
       "      <td id=\"T_bb216_row10_col2\" class=\"data row10 col2\" >0.000000</td>\n",
       "      <td id=\"T_bb216_row10_col3\" class=\"data row10 col3\" >0</td>\n",
       "      <td id=\"T_bb216_row10_col4\" class=\"data row10 col4\" >0</td>\n",
       "      <td id=\"T_bb216_row10_col5\" class=\"data row10 col5\" >0</td>\n",
       "      <td id=\"T_bb216_row10_col6\" class=\"data row10 col6\" >0</td>\n",
       "      <td id=\"T_bb216_row10_col7\" class=\"data row10 col7\" >1</td>\n",
       "      <td id=\"T_bb216_row10_col8\" class=\"data row10 col8\" >0</td>\n",
       "      <td id=\"T_bb216_row10_col9\" class=\"data row10 col9\" >9.000000</td>\n",
       "      <td id=\"T_bb216_row10_col10\" class=\"data row10 col10\" >To</td>\n",
       "    </tr>\n",
       "    <tr>\n",
       "      <th id=\"T_bb216_level0_row11\" class=\"row_heading level0 row11\" >11</th>\n",
       "      <td id=\"T_bb216_row11_col0\" class=\"data row11 col0\" >q11</td>\n",
       "      <td id=\"T_bb216_row11_col1\" class=\"data row11 col1\" >0</td>\n",
       "      <td id=\"T_bb216_row11_col2\" class=\"data row11 col2\" >0.000000</td>\n",
       "      <td id=\"T_bb216_row11_col3\" class=\"data row11 col3\" >0</td>\n",
       "      <td id=\"T_bb216_row11_col4\" class=\"data row11 col4\" >0</td>\n",
       "      <td id=\"T_bb216_row11_col5\" class=\"data row11 col5\" >0</td>\n",
       "      <td id=\"T_bb216_row11_col6\" class=\"data row11 col6\" >0</td>\n",
       "      <td id=\"T_bb216_row11_col7\" class=\"data row11 col7\" >1</td>\n",
       "      <td id=\"T_bb216_row11_col8\" class=\"data row11 col8\" >0</td>\n",
       "      <td id=\"T_bb216_row11_col9\" class=\"data row11 col9\" >0.000000</td>\n",
       "      <td id=\"T_bb216_row11_col10\" class=\"data row11 col10\" >Ti_sp</td>\n",
       "    </tr>\n",
       "    <tr>\n",
       "      <th id=\"T_bb216_level0_row12\" class=\"row_heading level0 row12\" >12</th>\n",
       "      <td id=\"T_bb216_row12_col0\" class=\"data row12 col0\" >C</td>\n",
       "      <td id=\"T_bb216_row12_col1\" class=\"data row12 col1\" >0</td>\n",
       "      <td id=\"T_bb216_row12_col2\" class=\"data row12 col2\" >18216000.000000</td>\n",
       "      <td id=\"T_bb216_row12_col3\" class=\"data row12 col3\" >0</td>\n",
       "      <td id=\"T_bb216_row12_col4\" class=\"data row12 col4\" >239580</td>\n",
       "      <td id=\"T_bb216_row12_col5\" class=\"data row12 col5\" >0</td>\n",
       "      <td id=\"T_bb216_row12_col6\" class=\"data row12 col6\" >0</td>\n",
       "      <td id=\"T_bb216_row12_col7\" class=\"data row12 col7\" >32400</td>\n",
       "      <td id=\"T_bb216_row12_col8\" class=\"data row12 col8\" >1.089E+06</td>\n",
       "      <td id=\"T_bb216_row12_col9\" class=\"data row12 col9\" >nan</td>\n",
       "      <td id=\"T_bb216_row12_col10\" class=\"data row12 col10\" >nan</td>\n",
       "    </tr>\n",
       "    <tr>\n",
       "      <th id=\"T_bb216_level0_row13\" class=\"row_heading level0 row13\" >13</th>\n",
       "      <td id=\"T_bb216_row13_col0\" class=\"data row13 col0\" >f</td>\n",
       "      <td id=\"T_bb216_row13_col1\" class=\"data row13 col1\" >Φo</td>\n",
       "      <td id=\"T_bb216_row13_col2\" class=\"data row13 col2\" >0.000000</td>\n",
       "      <td id=\"T_bb216_row13_col3\" class=\"data row13 col3\" >0</td>\n",
       "      <td id=\"T_bb216_row13_col4\" class=\"data row13 col4\" >0</td>\n",
       "      <td id=\"T_bb216_row13_col5\" class=\"data row13 col5\" >Φi</td>\n",
       "      <td id=\"T_bb216_row13_col6\" class=\"data row13 col6\" >0</td>\n",
       "      <td id=\"T_bb216_row13_col7\" class=\"data row13 col7\" >Qa</td>\n",
       "      <td id=\"T_bb216_row13_col8\" class=\"data row13 col8\" >Φa</td>\n",
       "      <td id=\"T_bb216_row13_col9\" class=\"data row13 col9\" >nan</td>\n",
       "      <td id=\"T_bb216_row13_col10\" class=\"data row13 col10\" >nan</td>\n",
       "    </tr>\n",
       "    <tr>\n",
       "      <th id=\"T_bb216_level0_row14\" class=\"row_heading level0 row14\" >14</th>\n",
       "      <td id=\"T_bb216_row14_col0\" class=\"data row14 col0\" >y</td>\n",
       "      <td id=\"T_bb216_row14_col1\" class=\"data row14 col1\" >0</td>\n",
       "      <td id=\"T_bb216_row14_col2\" class=\"data row14 col2\" >0.000000</td>\n",
       "      <td id=\"T_bb216_row14_col3\" class=\"data row14 col3\" >0</td>\n",
       "      <td id=\"T_bb216_row14_col4\" class=\"data row14 col4\" >0</td>\n",
       "      <td id=\"T_bb216_row14_col5\" class=\"data row14 col5\" >0</td>\n",
       "      <td id=\"T_bb216_row14_col6\" class=\"data row14 col6\" >0</td>\n",
       "      <td id=\"T_bb216_row14_col7\" class=\"data row14 col7\" >1</td>\n",
       "      <td id=\"T_bb216_row14_col8\" class=\"data row14 col8\" >0</td>\n",
       "      <td id=\"T_bb216_row14_col9\" class=\"data row14 col9\" >nan</td>\n",
       "      <td id=\"T_bb216_row14_col10\" class=\"data row14 col10\" >nan</td>\n",
       "    </tr>\n",
       "  </tbody>\n",
       "</table>\n"
      ],
      "text/plain": [
       "<pandas.io.formats.style.Styler at 0x153656ad0>"
      ]
     },
     "execution_count": 3,
     "metadata": {},
     "output_type": "execute_result"
    }
   ],
   "source": [
    "print('Matrices and vectors for thermal circuit from Figure 1') \n",
    "df = pd.read_csv('./toy_model/TC_0.csv')\n",
    "df.style.apply(lambda x: ['background-color: yellow'\n",
    "                          if x.name in df.index[-3:] or c in df.columns[-2:]\n",
    "                          else '' for c in df.columns], axis=1)"
   ]
  },
  {
   "cell_type": "markdown",
   "id": "0c51ac0b-bc04-4914-b090-31dec69a74c3",
   "metadata": {},
   "source": [
    "In the thermal circuit [./toy_model/TC.csv](./toy_model/TC.csv), the controller is _off_, i.e., the gain of the proportional controller is 0, $K_p = G_{11} = 0$; the building is in _free-floating_. The controller may be turned _on_ by setting $K_p = G_{11} \\rightarrow \\infty$."
   ]
  },
  {
   "cell_type": "code",
   "execution_count": 4,
   "id": "afe67ba5-5f98-4793-949a-63e9f4020726",
   "metadata": {
    "tags": []
   },
   "outputs": [],
   "source": [
    "# MODEL\n",
    "# =====\n",
    "# Thermal circuit\n",
    "TC = dm4bem.file2TC('./toy_model/TC.csv', name='', auto_number=False)\n",
    "\n",
    "# by default TC['G']['q11'] = 0, i.e. Kp -> 0, no controller (free-floating)\n",
    "if controller:\n",
    "    TC['G']['q11'] = 1e3        # Kp -> ∞, almost perfect controller\n",
    "\n",
    "if neglect_air_glass_capacity:\n",
    "    TC['C']['θ6'] = TC['C']['θ7'] = 0\n",
    "    # or\n",
    "    TC['C'].update({'θ6': 0, 'θ7': 0})"
   ]
  },
  {
   "cell_type": "markdown",
   "id": "e4524cc6-07cf-415c-b778-20ede67cdd9b",
   "metadata": {},
   "source": [
    "Thermal circuit is transformed in state-space representation."
   ]
  },
  {
   "cell_type": "code",
   "execution_count": 5,
   "id": "b9754e8c-721e-430d-b5b6-374598cc78a9",
   "metadata": {},
   "outputs": [],
   "source": [
    "# State-space\n",
    "[As, Bs, Cs, Ds, us] = dm4bem.tc2ss(TC)"
   ]
  },
  {
   "cell_type": "markdown",
   "id": "39c88179-2905-469d-b7f6-847006bdf671",
   "metadata": {
    "tags": []
   },
   "source": [
    "## Steady-state analysis\n",
    "[Steady-state](https://en.m.wikipedia.org/wiki/Steady_state) means that in the system of differential-algebraic equations (DAE):\n",
    "\n",
    "$$\\left\\{\\begin{array}{ll}\n",
    "C \\dot{\\theta} = -(A^T G A) \\theta + A^T G b + f\\\\ \n",
    "q = G (-A \\theta + b)\n",
    "\\end{array}\\right.$$\n",
    "\n",
    "or in the state-space representation,\n",
    "\n",
    "$$\\left\\{\\begin{array}{rr}\n",
    "\\dot{\\theta}_s=A_s \\theta_s + B_s u\\\\ \n",
    "y = C_s \\theta_s + D_s u\n",
    "\\end{array}\\right.$$\n",
    "\n",
    "the term $\\dot \\theta = 0$, i.e., the temperatures do not vary in time.\n",
    "\n",
    "In [steady-state](https://en.m.wikipedia.org/wiki/Steady_state), the model can be checked if it is incorrect. Let's consider that:\n",
    "- the controller is not active, $K_p \\rightarrow 0$,\n",
    "- the outdoor temperature is $T_o = 10 \\, \\mathrm{^\\circ C}$,\n",
    "- the indoor temperature setpoint is $T_{i,sp} = 20 \\, \\mathrm{^\\circ C}$,\n",
    "- all flow rate sources are zero."
   ]
  },
  {
   "cell_type": "code",
   "execution_count": 6,
   "id": "85631d1b-66cd-4df6-ac99-0b6cddc3cac2",
   "metadata": {},
   "outputs": [],
   "source": [
    "bss = np.zeros(12)        # temperature sources b for steady state\n",
    "bss[[0, 8, 10]] = 10      # outdoor temperature\n",
    "bss[[11]] = 20            # indoor set-point temperature\n",
    "\n",
    "fss = np.zeros(8)         # flow-rate sources f for steady state"
   ]
  },
  {
   "cell_type": "markdown",
   "id": "aaa04025-f87d-43d6-9ef6-2cddb1984b8a",
   "metadata": {
    "tags": []
   },
   "source": [
    "*Note*: Steady-state analysis is a test of [falsification (refutability)](https://en.m.wikipedia.org/wiki/Falsifiability) of the model, not a [verification and validation](https://en.m.wikipedia.org/wiki/Verification_and_validation). If the model does not pass the steady-state test, it means that it is wrong. If the model passes the steady-state test, it does not mean that it is correct. For this example, the values of the capacities in matrix $C$ or of the conductances in matrix $G$ can be wrong, even when the steady-state test is passed. "
   ]
  },
  {
   "cell_type": "markdown",
   "id": "d342c6f7-9b07-4e51-99bd-b0372e226b38",
   "metadata": {
    "tags": []
   },
   "source": [
    "### Steady-state from differential algebraic equations (DAE)\n",
    "\n",
    "The temperature values in [steady-state](https://en.m.wikipedia.org/wiki/Steady_state) are obtained from the system of DAE by considering that $C \\dot{\\theta} = 0$:\n",
    "\n",
    "$$\\theta_{ss} = (A^T G A)^{-1}(A^T G b + f)$$\n",
    "\n",
    "For the conditions mentioned above, in steady-state, all temperatures $\\theta_0 ... \\theta_7,$ including the indoor air temperature $\\theta_6,$ are equal to $T_o = 10 \\, \\mathrm{^\\circ C}$ (Figure 1)."
   ]
  },
  {
   "cell_type": "code",
   "execution_count": 7,
   "id": "8928e41b-0afc-467f-942b-869939ff828b",
   "metadata": {},
   "outputs": [
    {
     "name": "stdout",
     "output_type": "stream",
     "text": [
      "θss = [10. 10. 10. 10. 10. 10. 10. 10.] °C\n"
     ]
    }
   ],
   "source": [
    "A = TC['A']\n",
    "G = TC['G']\n",
    "diag_G = pd.DataFrame(np.diag(G), index=G.index, columns=G.index)\n",
    "\n",
    "θss = np.linalg.inv(A.T @ diag_G @ A) @ (A.T @ diag_G @ bss + fss)\n",
    "print(f'θss = {np.around(θss, 2)} °C')"
   ]
  },
  {
   "cell_type": "markdown",
   "id": "ace90f7f-df8d-4217-85c2-7f3d93f0fa3e",
   "metadata": {},
   "source": [
    "If the sum auxiliary heat sources in the room, $\\dot Q_a = f_6$, is not zero, the temperature in the room $\\theta_6$ has the highest value and the temperature of the outdoor surface of the wall $\\theta_0$ is almost equal to the outdoor temperature, $T_o = b_0$."
   ]
  },
  {
   "cell_type": "code",
   "execution_count": 8,
   "id": "8b9d04cc-07b3-44de-9d57-6d18c488ae0c",
   "metadata": {},
   "outputs": [
    {
     "name": "stdout",
     "output_type": "stream",
     "text": [
      "θssQ = [ 0.14  0.39  0.65  5.88 11.12  5.57 12.26  4.41] °C\n"
     ]
    }
   ],
   "source": [
    "bss = np.zeros(12)        # temperature sources b for steady state\n",
    "\n",
    "fss = np.zeros(8)         # flow-rate sources f for steady state\n",
    "fss[[6]] = 1000\n",
    "\n",
    "θssQ = np.linalg.inv(A.T @ diag_G @ A) @ (A.T @ diag_G @ bss + fss)\n",
    "print(f'θssQ = {np.around(θssQ, 2)} °C')"
   ]
  },
  {
   "cell_type": "markdown",
   "id": "eef1fe7c-a6c8-4e5c-91cb-a908aac9f122",
   "metadata": {
    "tags": []
   },
   "source": [
    "### Steady-state from state-space representation\n",
    "The input vector $u$ of the state-space representation is obtained by stacking the vectors $b_T$ and $f_Q$:\n",
    "\n",
    "$$u = \\begin{bmatrix} b_T \\\\ f_Q\\end{bmatrix}$$\n",
    "\n",
    "where:\n",
    "- $b_T$ is a vector of the nonzero elements of vector $b$ of temperature sources. For the circuit presented in Figure 1, $b_T = [T_o, T_o, T_o, T_{i,sp}]^T$ corresponding to branches 0, 8, 10 and 11, where:\n",
    "    - $T_o$ - outdoor temperature, °C;\n",
    "    - $T_{i,sp}$ - set-point temperaure for the indoor air, °C.\n",
    "- $f_Q$ - vector of nonzero elements of vector $f$ of flow sources. For the circuit presented in Figure 1, $f_Q = [\\Phi_o, \\Phi_i, \\dot{Q}_a, \\Phi_a]^T$, corresponding to nodes 0, 4, 6, and 7, where:\n",
    "    - $\\Phi_o$ - solar radiation absorbed by the outdoor surface of the wall, W;\n",
    "    - $\\Phi_i$ - solar radiation absorbed by the indoor surface of the wall, W;\n",
    "    - $\\dot{Q}_a$ - auxiliary heat gains (i.e., occupants, electrical devices, etc.), W;\n",
    "    - $\\Phi_a$ - solar radiation absorbed by the glass, W.\n",
    "\n",
    "*Note*: Zero in vectors $b$ and $f$ indicates that there is no source on the branch or in the node, respectively. However, a source can have the value zero."
   ]
  },
  {
   "cell_type": "code",
   "execution_count": 9,
   "id": "a5752ab5-b289-41f5-9268-4478190bdc3b",
   "metadata": {
    "tags": []
   },
   "outputs": [
    {
     "name": "stdout",
     "output_type": "stream",
     "text": [
      "uss = [10 10 10 20  0  0  0  0]\n"
     ]
    }
   ],
   "source": [
    "bT = np.array([10, 10, 10, 20])     # [To, To, To, Tisp]\n",
    "fQ = np.array([0, 0, 0, 0])         # [Φo, Φi, Qa, Φa]\n",
    "uss = np.hstack([bT, fQ])           # input vector for state space\n",
    "print(f'uss = {uss}')"
   ]
  },
  {
   "cell_type": "markdown",
   "id": "88e43402-4429-4c5d-a0cb-4a9753372394",
   "metadata": {
    "tags": []
   },
   "source": [
    "The steady-state value of the output of the state-space representation is obtained when $\\dot \\theta_{C} = 0$:\n",
    "\n",
    "$$y_{ss} = (-C_s A_s^{-1} B_s + D_s) u$$"
   ]
  },
  {
   "cell_type": "code",
   "execution_count": 10,
   "id": "06543d9d-44f5-41ba-8a42-21b9f2160977",
   "metadata": {},
   "outputs": [
    {
     "name": "stdout",
     "output_type": "stream",
     "text": [
      "yss = 10.00 °C\n"
     ]
    }
   ],
   "source": [
    "inv_As = pd.DataFrame(np.linalg.inv(As),\n",
    "                      columns=As.index, index=As.index)\n",
    "yss = (-Cs @ inv_As @ Bs + Ds) @ uss\n",
    "\n",
    "yss = float(yss.values[0])\n",
    "print(f'yss = {yss:.2f} °C')"
   ]
  },
  {
   "cell_type": "markdown",
   "id": "3df80dbd-51ed-4ad8-b876-c3f55e6448b3",
   "metadata": {},
   "source": [
    "The error between the steady-state values obtained from the system of DAE, $\\theta_6$, and the output of the state-space representation, $y_{ss}$, \n",
    "\n",
    "$$\\varepsilon = \\left | \\theta_6 - y_{ss} \\right |$$\n",
    "\n",
    "is practically zero; the slight difference is due to [numerical errors](https://en.m.wikipedia.org/wiki/Numerical_error)."
   ]
  },
  {
   "cell_type": "code",
   "execution_count": 11,
   "id": "774b0ca8-08cf-4f61-8735-e5d40718d6ca",
   "metadata": {},
   "outputs": [
    {
     "name": "stdout",
     "output_type": "stream",
     "text": [
      "Error between DAE and state-space: 8.88e-15 °C\n"
     ]
    }
   ],
   "source": [
    "print(f'Error between DAE and state-space: {abs(θss[6] - yss):.2e} °C')"
   ]
  },
  {
   "cell_type": "markdown",
   "id": "92614b66-cd57-44b5-94d6-1641f0b2a9c3",
   "metadata": {},
   "source": [
    "Likewise, the steady-state of the output of the state-space representation for input $\\dot Q_a$ is obtained from\n",
    "\n",
    "$$y_{ss} = (-C_s A_s^{-1} B_s + D_s) u$$"
   ]
  },
  {
   "cell_type": "code",
   "execution_count": 12,
   "id": "729cc0e7-818d-4033-818d-96715f8796ef",
   "metadata": {},
   "outputs": [
    {
     "name": "stdout",
     "output_type": "stream",
     "text": [
      "yssQ = 12.26 °C\n"
     ]
    }
   ],
   "source": [
    "bT = np.array([0, 0, 0, 0])         # [To, To, To, Tisp]\n",
    "fQ = np.array([0, 0, 1000, 0])      # [Φo, Φi, Qa, Φa]\n",
    "uss = np.hstack([bT, fQ])\n",
    "\n",
    "inv_As = pd.DataFrame(np.linalg.inv(As),\n",
    "                      columns=As.index, index=As.index)\n",
    "yssQ = (-Cs @ inv_As @ Bs + Ds) @ uss\n",
    "\n",
    "yssQ = float(yssQ.values[0])\n",
    "print(f'yssQ = {yssQ:.2f} °C')"
   ]
  },
  {
   "cell_type": "markdown",
   "id": "163c2431-a64b-4a90-9182-96d395a7fefb",
   "metadata": {},
   "source": [
    "The steady-state values obtained from DAE and state-space representation are pratically equal. "
   ]
  },
  {
   "cell_type": "code",
   "execution_count": 13,
   "id": "49b56eb6-b09c-4c49-8fdd-861b6bd27662",
   "metadata": {},
   "outputs": [
    {
     "name": "stdout",
     "output_type": "stream",
     "text": [
      "Error between DAE and state-space: 7.11e-15 °C\n"
     ]
    }
   ],
   "source": [
    "print(f'Error between DAE and state-space: {abs(θssQ[6] - yssQ):.2e} °C')"
   ]
  },
  {
   "cell_type": "markdown",
   "id": "747a5518-38c0-429a-9fbe-22154079afd1",
   "metadata": {
    "tags": []
   },
   "source": [
    "## Eigenvalues analysis\n",
    "\n",
    "Let's consider the eigenvalues $\\lambda$ of the state matrix $A_s$."
   ]
  },
  {
   "cell_type": "code",
   "execution_count": 14,
   "id": "4b3d65d2-56ad-4efb-887b-c0795efe12b5",
   "metadata": {},
   "outputs": [],
   "source": [
    "# Eigenvalues analysis\n",
    "λ = np.linalg.eig(As)[0]        # eigenvalues of matrix As"
   ]
  },
  {
   "cell_type": "markdown",
   "id": "9c0d162e-389e-4de3-b59f-76580adb72ea",
   "metadata": {
    "tags": []
   },
   "source": [
    "### Time step\n",
    "\n",
    "The condition for [numerical stability](https://en.m.wikipedia.org/wiki/Euler_method#Numerical_stability) of [Euler explicit integration](https://en.m.wikipedia.org/wiki/Numerical_methods_for_ordinary_differential_equations#Euler_method) method is\n",
    "\n",
    "$$\\left |  \\lambda_i \\Delta t + 1 \\right | < 1, \\forall \\lambda_i, $$\n",
    "\n",
    "i.e., in the [complex plane](https://en.m.wikipedia.org/wiki/Complex_plane), $\\lambda_i \\Delta t$ is inside a circle of radius 1 centered in $(-1 + 0j) \\in \\mathbb{C}$, where:\n",
    "- $\\lambda_i$ are the eigenvalues of matrix $A_s$,\n",
    "- $\\Delta t$ - time step,\n",
    "- $j = \\sqrt {-1}$ - [imaginary unit](https://en.m.wikipedia.org/wiki/Imaginary_unit).\n",
    "\n",
    "For real negative eigenvalues $\\left \\{ \\lambda_i \\in \\mathbb{R} \\;| \\; \\lambda_i <0  \\right \\}$, which is the case of thermal networks, the above condition becomes:\n",
    "\n",
    "$$- \\lambda_i \\Delta t - 1  < 1, \\forall \\lambda_i, $$\n",
    "\n",
    "or\n",
    "\n",
    "$$ 0 < \\Delta t < -\\frac{2}{\\min \\lambda_i} = \n",
    "2 \\min \\left ( -\\frac{1}{\\lambda_i}  \\right ) = \n",
    "2 \\min T_i$$\n",
    "\n",
    "where $T_i$ are the [time constants](https://en.m.wikipedia.org/wiki/Time_constant), $T_i = - 1 / \\lambda_i$. Let's chose a time step $dt$ smaller than $\\Delta t_{max} = 2 \\min (-1 / \\lambda_i) $, floor rounded to:\n",
    "- 1 s, 10 s,\n",
    "- 60 s (1 min), 300 s (5 min), 600 s (10 min), 1800 s (30 min),\n",
    "- 36000 s (1 h), 7200 s (2 h), 14400 s (4 h), 21600 s (6 h)."
   ]
  },
  {
   "cell_type": "code",
   "execution_count": 15,
   "id": "df463621-1d41-4c2b-bc4d-68199da29c47",
   "metadata": {},
   "outputs": [
    {
     "name": "stdout",
     "output_type": "stream",
     "text": [
      "Δtmax = 498 s = 8.3 min\n",
      "dt = 300 s = 5.0 min\n"
     ]
    }
   ],
   "source": [
    "# time step\n",
    "Δtmax = 2 * min(-1. / λ)    # max time step for stability of Euler explicit\n",
    "dm4bem.print_rounded_time('Δtmax', Δtmax)\n",
    "\n",
    "if imposed_time_step:\n",
    "    dt = Δt\n",
    "else:\n",
    "    dt = dm4bem.round_time(Δtmax)\n",
    "dm4bem.print_rounded_time('dt', dt)"
   ]
  },
  {
   "cell_type": "code",
   "execution_count": 16,
   "id": "d8b2e723-c306-4b10-85e2-09bc19e18d41",
   "metadata": {
    "tags": []
   },
   "outputs": [],
   "source": [
    "if dt < 10:\n",
    "    raise ValueError(\"Time step is too small. Stopping the script.\")"
   ]
  },
  {
   "cell_type": "markdown",
   "id": "0d83dfe8-fe63-42c9-b913-47b1019d1a00",
   "metadata": {},
   "source": [
    "### Settling time and duration\n",
    "The [settling time](https://en.m.wikipedia.org/wiki/Step_response) is roughly 4 times the largest time constant."
   ]
  },
  {
   "cell_type": "code",
   "execution_count": 17,
   "id": "89a7aa43-6fb4-46d8-bb9b-5fbd15a7102e",
   "metadata": {},
   "outputs": [
    {
     "name": "stdout",
     "output_type": "stream",
     "text": [
      "t_settle = 176132 s = 48.9 h\n"
     ]
    }
   ],
   "source": [
    "# settling time\n",
    "t_settle = 4 * max(-1 / λ)\n",
    "dm4bem.print_rounded_time('t_settle', t_settle)"
   ]
  },
  {
   "cell_type": "markdown",
   "id": "1a6e5158-dda8-4cee-b81f-9b48258bbae7",
   "metadata": {},
   "source": [
    "The duration of the simulation needs to be larger than the estimated [settling time](https://en.m.wikipedia.org/wiki/Settling_time). This requires a corresponding number of time steps in the time vector."
   ]
  },
  {
   "cell_type": "code",
   "execution_count": 18,
   "id": "6062f401-b335-460a-bbba-61ddeb700662",
   "metadata": {},
   "outputs": [
    {
     "name": "stdout",
     "output_type": "stream",
     "text": [
      "duration = 176400 s = 49.0 h\n"
     ]
    }
   ],
   "source": [
    "# duration: next multiple of 3600 s that is larger than t_settle\n",
    "duration = np.ceil(t_settle / 3600) * 3600\n",
    "dm4bem.print_rounded_time('duration', duration)"
   ]
  },
  {
   "cell_type": "markdown",
   "id": "1dac581d-272f-4cdd-8843-eeb44dd6a58d",
   "metadata": {
    "tags": []
   },
   "source": [
    "## Step response to outdoor temperature"
   ]
  },
  {
   "cell_type": "markdown",
   "id": "e1cf346d-6283-4095-aa29-6dc378f54eb6",
   "metadata": {
    "tags": []
   },
   "source": [
    "### Input vector\n",
    "In dynamic simulation, the inputs are [time series](https://en.m.wikipedia.org/wiki/Time_series), e.g., the oudoor temperature will have $n$ values $T_o = [T_{o(0)}, T_{o(1)}, ..., T_{o(n-1)}]$ at [discrete time](https://en.m.wikipedia.org/wiki/Discrete_time_and_continuous_time#Discrete_time) $t = [t_0, t_1, ... , t_{n-1}]$.\n",
    "\n",
    "The input vector $u$ of the state-space representation is obtained by stacking the vectors $b_T$ and $f_Q$ of the system of Differential Algebraic Equations:\n",
    "\n",
    "$$u = \\begin{bmatrix} b_T \\\\ f_Q\\end{bmatrix}$$\n",
    "\n",
    "where:\n",
    "- vector $b_T$ consists of the nonzero elements of vector $b$ of temperature sources; for the circuit presented in Figure 1, \n",
    "\n",
    "$$b = [\\begin{matrix}\n",
    "T_o &0  &0  &0  &0  &0  &0  &0  &T_o  &0  &T_o  &T_{i,sp} \n",
    "\\end{matrix}]^T$$\n",
    "\n",
    "and \n",
    "\n",
    "$$b_T = [T_o, T_o, T_o, T_{i,sp}]^T$$\n",
    "\n",
    "corresponding to branches 0, 8, 10 and 11; \n",
    "- vector $f_Q$ is the nonzero elements of vector $f$ of flow sources; for the circuit presented in Figure 1,\n",
    "\n",
    "$$f = [\\begin{matrix}\n",
    "\\Phi_o &0  &0  &0  &\\Phi_i  &0  &\\dot{Q_a} &\\Phi_a \n",
    "\\end{matrix}]^T$$\n",
    "\n",
    "and\n",
    "\n",
    "$$f_Q = [\\Phi_o, \\Phi_i, \\dot{Q}_a, \\Phi_a]^T$$\n",
    "\n",
    "corresponding to nodes 0, 4, 6, and 7.\n",
    "\n",
    "For the thermal circuit shown in Figure 1, the [time series](https://en.m.wikipedia.org/wiki/Time_series) of the input vector, $u = [u_0, u_1, ... , u_{n-1}]^T$, is:\n",
    "\n",
    "$$u = \n",
    "\\begin{bmatrix}\n",
    "T_o\\\\ \n",
    "T_o\\\\ \n",
    "T_o\\\\ \n",
    "T_{i,sp}\\\\ \n",
    "\\Phi_o\\\\ \n",
    "\\Phi_i\\\\ \n",
    "\\dot{Q}_a\\\\ \n",
    "\\Phi_a\n",
    "\\end{bmatrix}\n",
    "= \\begin{bmatrix}\n",
    "T_{o(0)} & T_{o(1)}& ... & T_{o(n-1)}\\\\ \n",
    "T_{o(0)} & T_{o(1)}& ... & T_{o(n-1)}\\ \\\\ \n",
    "T_{o(0)} & T_{o(1)}& ... & T_{o(n-1)}\\ \\\\ \n",
    "T_{i,sp(0)} & T_{i,sp(1)}& ... & T_{i,sp(n-1)}\\ \\\\ \n",
    "\\Phi_{o(0)} & \\Phi_{o(1)} & ... & \\Phi_{o(n-1)}\\\\\n",
    "\\Phi_{i(0)} & \\Phi_{i(1)} & ... & \\Phi_{i(n-1)}\\\\ \n",
    "\\dot{Q}_{a(0)} & \\dot{Q}_{a(1)} & ... & \\dot{Q}_{a(n-1)}\\\\ \n",
    "\\Phi_{a(0)} & \\Phi_{a(1)} & ... & \\Phi_{a(n-1)}\n",
    "\\end{bmatrix}$$\n",
    "\n",
    "where:\n",
    "- $T_o = [T_{o(0)}, T_{o(1)}, ..., T_{o(n-1)}]$ is the [time series](https://en.m.wikipedia.org/wiki/Time_series) of the oudoor temperature at [discrete time](https://en.m.wikipedia.org/wiki/Discrete_time_and_continuous_time#Discrete_time) $t = [t_0, t_1, ... , t_{n-1}]$.\n",
    "\n",
    "- $T_{i, sp} = [T_{{i, sp}(0)}, T_{{i, sp}(1)}, ..., T_{{i, sp}(n-1)}]$ is the [time series](https://en.m.wikipedia.org/wiki/Time_series) of the setpoint indoor temperature at [discrete time](https://en.m.wikipedia.org/wiki/Discrete_time_and_continuous_time#Discrete_time) $t = [t_0, t_1, ... , t_{n-1}]$.\n",
    "\n",
    "- $\\Phi_o = [\\Phi_{o(0)}, \\Phi_{o(1)}, ..., \\Phi_{o(n-1)}]$ is the [time series](https://en.m.wikipedia.org/wiki/Time_series) of the solar radiation absorbed by the outdoor surface of the wall at [discrete time](https://en.m.wikipedia.org/wiki/Discrete_time_and_continuous_time#Discrete_time) $t = [t_0, t_1, ... , t_{n-1}]$.\n",
    "\n",
    "- $\\Phi_i = [\\Phi_{i(0)}, \\Phi_{i(1)}, ..., \\Phi_{i(n-1)}]$ is the [time series](https://en.m.wikipedia.org/wiki/Time_series) of the solar radiation absorbed by the indoor surface of the wall at [discrete time](https://en.m.wikipedia.org/wiki/Discrete_time_and_continuous_time#Discrete_time) $t = [t_0, t_1, ... , t_{n-1}]$.\n",
    "\n",
    "- $\\dot{Q}_a = [\\dot{Q}_{a(0)}, \\dot{Q}_{a(1)}, ..., \\dot{Q}_{a(n-1)}]$ is the [time series](https://en.m.wikipedia.org/wiki/Time_series) of the auxiliary heat gains (i.e., occupants, electrical devices, etc.) at [discrete time](https://en.m.wikipedia.org/wiki/Discrete_time_and_continuous_time#Discrete_time) $t = [t_0, t_1, ... , t_{n-1}]$.\n",
    "\n",
    "- $\\Phi_a = [\\Phi_{a(0)}, \\Phi_{a(1)}, ..., \\Phi_{a(n-1)}]$ is the [time series](https://en.m.wikipedia.org/wiki/Time_series) of the solar radiation absorbed by the glass at [discrete time](https://en.m.wikipedia.org/wiki/Discrete_time_and_continuous_time#Discrete_time) $t = [t_0, t_1, ... , t_{n-1}]$.\n",
    "\n",
    "_Note_: In Pandas [time series](https://pandas.pydata.org/pandas-docs/version/0.9.1/timeseries.html), time is an index. Therefore, Pandas representation of vector of inputs $u$ in time is the transpose of the matrix presented above. \n",
    "\n",
    "Let's consider a [step response](https://en.m.wikipedia.org/wiki/Step_response) in the conditions used for steady-state analysis, i.e., $T_o = 10 \\, \\mathrm{^\\circ C}$, $T_{i,sp} = 20 \\, \\mathrm{^\\circ C}$, and all the flow sources zero (including the HVAC system)."
   ]
  },
  {
   "cell_type": "code",
   "execution_count": 19,
   "id": "3da47c23-3af1-4515-b919-2b394a655a2f",
   "metadata": {},
   "outputs": [],
   "source": [
    "# Create input_data_set\n",
    "# ---------------------\n",
    "# time vector\n",
    "n = int(np.floor(duration / dt))    # number of time steps\n",
    "\n",
    "# DateTimeIndex starting at \"00:00:00\" with a time step of dt\n",
    "time = pd.date_range(start=\"2000-01-01 00:00:00\",\n",
    "                           periods=n, freq=f\"{int(dt)}S\")\n",
    "\n",
    "To = 10 * np.ones(n)        # outdoor temperature\n",
    "Ti_sp = 20 * np.ones(n)     # indoor temperature set point\n",
    "Φa = 0 * np.ones(n)         # solar radiation absorbed by the glass\n",
    "Qa = Φo = Φi = Φa           # auxiliary heat sources and solar radiation\n",
    "\n",
    "data = {'To': To, 'Ti_sp': Ti_sp, 'Φo': Φo, 'Φi': Φi, 'Qa': Qa, 'Φa': Φa}\n",
    "input_data_set = pd.DataFrame(data, index=time)\n",
    "\n",
    "# inputs in time from input_data_set\n",
    "u = dm4bem.inputs_in_time(us, input_data_set)"
   ]
  },
  {
   "cell_type": "markdown",
   "id": "c26d5657-c137-46c9-93e2-6340e13f9d7d",
   "metadata": {
    "tags": []
   },
   "source": [
    "### Time integration"
   ]
  },
  {
   "cell_type": "markdown",
   "id": "c6b0cfa0-301c-4bdb-8f36-8fa6d2bebee3",
   "metadata": {
    "tags": []
   },
   "source": [
    "The state-space model\n",
    "\n",
    "$$\\left\\{\\begin{array}{rr}\n",
    "\\dot{\\theta}_C=A_s \\theta_C + B_s u\\\\ \n",
    "y = C_s \\theta_C + D_s u\n",
    "\\end{array}\\right.$$\n",
    "\n",
    "is integrated in time by using [Euler forward (or explicit) method](https://en.m.wikipedia.org/wiki/Numerical_methods_for_ordinary_differential_equations#Euler_method) for numerical integration:\n",
    "\n",
    "$$ \\theta_{s,k+1} = (I + \\Delta t A) \\theta_{s,k} + \\Delta t B u_k $$\n",
    "\n",
    "and [Euler backward (or implicit) method](https://en.m.wikipedia.org/wiki/Numerical_methods_for_ordinary_differential_equations#Backward_Euler_method) for numerical integration:\n",
    "\n",
    "$$\\theta_{s,k+1} = (I - \\Delta t A)^{-1} ( \\theta_{s,k} + \\Delta t B u_k )$$\n",
    "\n",
    "where $k = 0, ... , n - 1$."
   ]
  },
  {
   "cell_type": "code",
   "execution_count": 20,
   "id": "c6e318a6-782e-4976-8b9e-3f5bd0d01797",
   "metadata": {},
   "outputs": [],
   "source": [
    "# Initial conditions\n",
    "θ_exp = pd.DataFrame(index=u.index)     # empty df with index for explicit Euler\n",
    "θ_imp = pd.DataFrame(index=u.index)     # empty df with index for implicit Euler\n",
    "\n",
    "θ0 = 0.0                    # initial temperatures\n",
    "θ_exp[As.columns] = θ0      # fill θ for Euler explicit with initial values θ0\n",
    "θ_imp[As.columns] = θ0      # fill θ for Euler implicit with initial values θ0\n",
    "\n",
    "I = np.eye(As.shape[0])     # identity matrix\n",
    "for k in range(u.shape[0] - 1):\n",
    "    θ_exp.iloc[k + 1] = (I + dt * As)\\\n",
    "        @ θ_exp.iloc[k] + dt * Bs @ u.iloc[k]\n",
    "    θ_imp.iloc[k + 1] = np.linalg.inv(I - dt * As)\\\n",
    "        @ (θ_imp.iloc[k] + dt * Bs @ u.iloc[k])"
   ]
  },
  {
   "cell_type": "markdown",
   "id": "dc2b5250-4741-4dc7-9e48-f1961e6070b0",
   "metadata": {},
   "source": [
    "Then, we obtain the outputs\n",
    "\n",
    "$$ y = C_s \\theta_s + D_s u$$\n",
    "\n",
    "for explicit and for implicit Euler methods, respectively."
   ]
  },
  {
   "cell_type": "code",
   "execution_count": 21,
   "id": "696aa2ef-3242-4a7c-a50d-bbf694a15b28",
   "metadata": {},
   "outputs": [],
   "source": [
    "# outputs\n",
    "y_exp = (Cs @ θ_exp.T + Ds @  u.T).T\n",
    "y_imp = (Cs @ θ_imp.T + Ds @  u.T).T"
   ]
  },
  {
   "cell_type": "code",
   "execution_count": 22,
   "id": "049a8d85-8f52-40dc-8e90-41878ee10b4e",
   "metadata": {},
   "outputs": [
    {
     "ename": "NameError",
     "evalue": "name 'dtmax' is not defined",
     "output_type": "error",
     "traceback": [
      "\u001b[0;31m---------------------------------------------------------------------------\u001b[0m",
      "\u001b[0;31mNameError\u001b[0m                                 Traceback (most recent call last)",
      "Cell \u001b[0;32mIn[22], line 9\u001b[0m\n\u001b[1;32m      7\u001b[0m ax\u001b[38;5;241m.\u001b[39mset_xlabel(\u001b[38;5;124m'\u001b[39m\u001b[38;5;124mTime\u001b[39m\u001b[38;5;124m'\u001b[39m)\n\u001b[1;32m      8\u001b[0m ax\u001b[38;5;241m.\u001b[39mset_ylabel(\u001b[38;5;124m'\u001b[39m\u001b[38;5;124mIndoor temperature, $\u001b[39m\u001b[38;5;130;01m\\\\\u001b[39;00m\u001b[38;5;124mtheta_i$ / °C\u001b[39m\u001b[38;5;124m'\u001b[39m)\n\u001b[0;32m----> 9\u001b[0m ax\u001b[38;5;241m.\u001b[39mset_title(\u001b[38;5;124mf\u001b[39m\u001b[38;5;124m'\u001b[39m\u001b[38;5;124mTime step: $dt$ = \u001b[39m\u001b[38;5;132;01m{\u001b[39;00mdt\u001b[38;5;132;01m:\u001b[39;00m\u001b[38;5;124m.0f\u001b[39m\u001b[38;5;132;01m}\u001b[39;00m\u001b[38;5;124m s; $dt_\u001b[39m\u001b[38;5;130;01m{{\u001b[39;00m\u001b[38;5;124mmax\u001b[39m\u001b[38;5;130;01m}}\u001b[39;00m\u001b[38;5;124m$ = \u001b[39m\u001b[38;5;132;01m{\u001b[39;00mdtmax\u001b[38;5;132;01m:\u001b[39;00m\u001b[38;5;124m.0f\u001b[39m\u001b[38;5;132;01m}\u001b[39;00m\u001b[38;5;124m s\u001b[39m\u001b[38;5;124m'\u001b[39m)\n\u001b[1;32m     10\u001b[0m plt\u001b[38;5;241m.\u001b[39mshow()\n",
      "\u001b[0;31mNameError\u001b[0m: name 'dtmax' is not defined"
     ]
    },
    {
     "data": {
      "image/png": "[encoded data removed]",
      "text/plain": [
       "<Figure size 640x480 with 1 Axes>"
      ]
     },
     "metadata": {},
     "output_type": "display_data"
    }
   ],
   "source": [
    "# plot results\n",
    "y = pd.concat([y_exp, y_imp], axis=1, keys=['Explicit', 'Implicit'])\n",
    "# Flatten the two-level column labels into a single level\n",
    "y.columns = y.columns.get_level_values(0)\n",
    "\n",
    "ax = y.plot()\n",
    "ax.set_xlabel('Time')\n",
    "ax.set_ylabel('Indoor temperature, $\\\\theta_i$ / °C')\n",
    "ax.set_title(f'Time step: $dt$ = {dt:.0f} s; $dt_{{max}}$ = {dtmax:.0f} s')\n",
    "plt.show()"
   ]
  },
  {
   "cell_type": "markdown",
   "id": "3dde9c4b-5343-4e4e-baf3-f8a20355f61e",
   "metadata": {
    "tags": []
   },
   "source": [
    "> Figure 2. Step response to outdoor temperature $T_o$ by using Euler\n",
    "[implicit](https://en.m.wikipedia.org/wiki/Numerical_methods_for_ordinary_differential_equations#Backward_Euler_method)\n",
    "and\n",
    "[explicit](https://en.m.wikipedia.org/wiki/Numerical_methods_for_ordinary_differential_equations#Euler_method) integration.\n",
    "\n",
    "The results of explicit and implicit Euler integration are practically identical if $dt < dt_{max}$. If $dt > dt_{max}$, Euler explicit method of integration is numerically unstable.\n",
    "\n",
    "The value the indoor temperature obtained after the [settling time](https://en.m.wikipedia.org/wiki/Settling_time) is almost equal to the value obtained in steady-state."
   ]
  },
  {
   "cell_type": "code",
   "execution_count": null,
   "id": "d6801343-7156-4c91-b7cd-f93f93229ad2",
   "metadata": {},
   "outputs": [],
   "source": [
    "print('Steady-state indoor temperature obtained with:')\n",
    "print(f'- DAE model: {float(θss[6]):.4f} °C')\n",
    "print(f'- state-space model: {float(yss):.4f} °C')\n",
    "print(f'- steady-state response to step input: \\\n",
    "{y_exp[\"θ6\"].tail(1).values[0]:.4f} °C')"
   ]
  },
  {
   "cell_type": "markdown",
   "id": "8c9bed2e-d665-49cc-87dc-60caf7961acf",
   "metadata": {},
   "source": [
    "## Step response to internal load\n",
    "\n",
    "Let's consider that the temperature sources are zero and that the flow-rate sources are zero, with the exception of the auxiliary heat gains, $\\dot Q_a$."
   ]
  },
  {
   "cell_type": "code",
   "execution_count": null,
   "id": "7fbeb653-de29-4d9f-9eaa-a254662c8c34",
   "metadata": {},
   "outputs": [],
   "source": [
    "# Create input_data_set\n",
    "# ---------------------\n",
    "# time vector\n",
    "n = int(np.floor(duration / dt))    # number of time steps\n",
    "\n",
    "# Create a DateTimeIndex starting at \"00:00:00\" with a time step of dt\n",
    "time = pd.date_range(start=\"2000-01-01 00:00:00\",\n",
    "                           periods=n, freq=f\"{int(dt)}S\")\n",
    "# Create input_data_set\n",
    "To = 0 * np.ones(n)         # outdoor temperature\n",
    "Ti_sp =  20 * np.ones(n)     # indoor temperature set point\n",
    "Φa = 0 * np.ones(n)         # solar radiation absorbed by the glass\n",
    "Φo = Φi = Φa                # solar radiation\n",
    "Qa = 1000 * np.ones(n)      # auxiliary heat sources\n",
    "data = {'To': To, 'Ti_sp': Ti_sp, 'Φo': Φo, 'Φi': Φi, 'Qa': Qa, 'Φa': Φa}\n",
    "input_data_set = pd.DataFrame(data, index=time)\n",
    "\n",
    "# Get inputs in time from input_data_set\n",
    "u = dm4bem.inputs_in_time(us, input_data_set)"
   ]
  },
  {
   "cell_type": "code",
   "execution_count": null,
   "id": "aed79f67-572f-400d-b13c-e2a131f19d4d",
   "metadata": {},
   "outputs": [],
   "source": [
    "# Initial conditions\n",
    "θ_exp[As.columns] = θ0      # fill θ for Euler explicit with initial values θ0\n",
    "θ_imp[As.columns] = θ0      # fill θ for Euler implicit with initial values θ0\n",
    "\n",
    "I = np.eye(As.shape[0])     # identity matrix\n",
    "for k in range(u.shape[0] - 1):\n",
    "    θ_exp.iloc[k + 1] = (I + dt * As)\\\n",
    "        @ θ_exp.iloc[k] + dt * Bs @ u.iloc[k]\n",
    "    θ_imp.iloc[k + 1] = np.linalg.inv(I - dt * As)\\\n",
    "        @ (θ_imp.iloc[k] + dt * Bs @ u.iloc[k])"
   ]
  },
  {
   "cell_type": "code",
   "execution_count": null,
   "id": "8e6f5688-2f16-498f-8063-613f7759b828",
   "metadata": {},
   "outputs": [],
   "source": [
    "# outputs\n",
    "y_exp = (Cs @ θ_exp.T + Ds @  u.T).T\n",
    "y_imp = (Cs @ θ_imp.T + Ds @  u.T).T"
   ]
  },
  {
   "cell_type": "code",
   "execution_count": null,
   "id": "f49b1146-2cd4-4c8c-a095-976147fac7a2",
   "metadata": {},
   "outputs": [],
   "source": [
    "# plot results\n",
    "y = pd.concat([y_exp, y_imp], axis=1, keys=['Explicit', 'Implicit'])\n",
    "# Flatten the two-level column labels into a single level\n",
    "y.columns = y.columns.get_level_values(0)\n",
    "ax = y.plot()\n",
    "ax.set_xlabel('Time')\n",
    "ax.set_ylabel('Indoor temperature, $\\\\theta_i$ / °C')\n",
    "ax.set_title(f'Time step: $dt$ = {dt:.0f} s; $dt_{{max}}$ = {dtmax:.0f} s')\n",
    "plt.show()"
   ]
  },
  {
   "cell_type": "markdown",
   "id": "89360f32-edb1-4931-9408-2a92cbed8fc3",
   "metadata": {},
   "source": [
    "> Figure 3. Step response to auxiliary heat gains $\\dot Q_a$ by using Euler\n",
    "[implicit](https://en.m.wikipedia.org/wiki/Numerical_methods_for_ordinary_differential_equations#Backward_Euler_method)\n",
    "and\n",
    "[explicit](https://en.m.wikipedia.org/wiki/Numerical_methods_for_ordinary_differential_equations#Euler_method) integration."
   ]
  },
  {
   "cell_type": "code",
   "execution_count": null,
   "id": "e69e61a0-e3d8-46a4-a786-50e89d6144f3",
   "metadata": {},
   "outputs": [],
   "source": [
    "print('Steady-state indoor temperature obtained with:')\n",
    "print(f'- DAE model: {float(θssQ[6]):.4f} °C')\n",
    "print(f'- state-space model: {float(yssQ):.4f} °C')\n",
    "print(f'- steady-state response to step input: \\\n",
    "{y_exp[\"θ6\"].tail(1).values[0]:.4f} °C')"
   ]
  },
  {
   "cell_type": "markdown",
   "id": "0ebf5b58-0cf9-4c35-b751-09382cfd4510",
   "metadata": {
    "jp-MarkdownHeadingCollapsed": true,
    "tags": []
   },
   "source": [
    "## Discussion\n",
    "\n",
    "### Time step\n",
    "\n",
    "The time step depends on:\n",
    "- Capacities considered into the model:\n",
    "    - if the capacities of the air $C_a =$ `C['Air']` and of the glass $C_g =$ `C['Glass']` are considered, then the time step is small;\n",
    "    - if the capacities of the air and of the glass are zero, then the time step is large (and the order of the state-space model is reduced).\n",
    " \n",
    "- P-controller gain `Kp`:\n",
    "    - if $K_p \\rightarrow \\infty$, then the controller is perfect and the time step needs to be small;\n",
    "    - if $K_p \\rightarrow 0$, then, the controller is ineffective and the building is in free-running.\n",
    "\n",
    "#### Air and glass capacities\n",
    "\n",
    "In cell `[2]`, consider:\n",
    "\n",
    "```\n",
    "controller = False\n",
    "neglect_air_glass_capacity = False\n",
    "imposed_time_step = False\n",
    "```\n",
    "\n",
    "Note that the maximum time step for numerical stability of explicit Euler integration method is: `dtmax = 499 s = 8.3 min`.\n",
    "\n",
    "Now, in cell `[2]`, consider:\n",
    "\n",
    "```\n",
    "controller = False\n",
    "neglect_air_glass_capacity = False\n",
    "imposed_time_step = True\n",
    "Δt = 498    # s, imposed time step\n",
    "```\n",
    "\n",
    "and explain the simulation results.\n",
    "\n",
    "Determine the number of state variables, $\\theta_s$.\n",
    "\n",
    "In cell `[2]`, consider:\n",
    "\n",
    "```\n",
    "controller = False\n",
    "neglect_air_glass_capacity = True\n",
    "imposed_time_step = False\n",
    "```\n",
    "\n",
    "Note that the maximum time step for numerical stability of explicit Euler integration method is: `dtmax = 9587 s = 2.7 h`. Observe the simulation results, comment and correct them.\n",
    "\n",
    "Determine the number of state variables, $\\theta_s$ and compare with the case in which the capacities of the air and of the glass were considered.\n",
    "\n",
    "#### Controller gain\n",
    "\n",
    "The controller models an HVAC system able to mantain setpoint temperature by heating (when $q_{HVAC} > 0$) and by cooling (when $q_{HVAC} < 0$).\n",
    "\n",
    "In cell `[2]`, consider:\n",
    "\n",
    "```\n",
    "controller = True\n",
    "neglect_air_glass_capacity = True\n",
    "imposed_time_step = False\n",
    "```\n",
    "\n",
    "Maximum time step for numerical stability of explicit Euler integration method is: `dtmax = 8441 s = 2.3 h`. \n",
    "\n",
    "Observe, comment and improve the simulation results.\n",
    "\n",
    "In cell `[2]`, consider:\n",
    "\n",
    "```\n",
    "controller = True\n",
    "neglect_air_glass_capacity = False\n",
    "imposed_time_step = False\n",
    "```\n",
    "\n",
    "Comment on time step and simulation results.\n",
    "\n",
    "In cell `[4]`:\n",
    "```\n",
    "if controller:\n",
    "    TC['G']['q11'] = 1e3        # Kp -> ∞, almost perfect controller\n",
    "\n",
    "```\n",
    "\n",
    "Change the gain of the controller to `1e5` in cell `[4]`:\n",
    "```\n",
    "if controller:\n",
    "    TC['G']['q11'] = 1e5        # Kp -> ∞, almost perfect controller\n",
    "```\n",
    "Comment the error raised in cell `[16]`."
   ]
  },
  {
   "cell_type": "markdown",
   "id": "08d18237-b075-4f6c-82df-fa70d47a5216",
   "metadata": {
    "tags": []
   },
   "source": [
    "## References\n",
    "\n",
    "1. [C. Ghiaus (2013)](https://doi.org/10.1016/j.energy.2012.10.024). Causality issue in the heat balance method for calculating the design heating and cooling loads, *Energy* 50: 292-301, , open access preprint: [HAL-03605823](https://hal.archives-ouvertes.fr/hal-03605823/document)\n",
    "\n",
    "2. [C. Ghiaus (2021)](https://doi.org/10.1007/978-3-030-76477-7_5). Dynamic Models for Energy Control of Smart Homes, in *S. Ploix M. Amayri, N. Bouguila (eds.) Towards Energy Smart Homes*, Online ISBN: 978-3-030-76477-7, Print ISBN: 978-3-030-76476-0, Springer, pp. 163-198, open access preprint: [HAL 03578578](https://hal.archives-ouvertes.fr/hal-03578578/document)\n",
    "\n",
    "3. [J.A. Duffie, W. A. Beckman, N. Blair (2020)](https://www.eng.uc.edu/~beaucag/Classes/SolarPowerForAfrica/Solar%20Engineering%20of%20Thermal%20Processes,%20Photovoltaics%20and%20Wind.pdf). Solar Engineering of Thermal Processes, 5th ed. John Wiley & Sons, Inc. ISBN 9781119540281\n",
    "\n",
    "4. [Réglementation Thermique 2005. Méthode de calcul Th-CE.](https://pdfslide.fr/documents/rt2005-methode-de-calcul-th-ce.html). Annexe à l’arrêté du 19 juillet 2006\n",
    "\n",
    "5. H. Recknagel, E. Sprenger, E.-R. Schramek (2013) Génie climatique, 5e edition, Dunod, Paris. ISBN 978-2-10-070451-4\n",
    "\n",
    "6. [J.R. Howell et al. (2021)](http://www.thermalradiation.net/indexCat.html). Thermal Radiation Heat Transfer 7th edition, ISBN 978-0-367-34707-0, A Catalogue of Configuration Factors\n",
    "\n",
    "7. [J. Widén, J. Munkhammar (2019)](http://www.diva-portal.org/smash/get/diva2:1305017/FULLTEXT01.pdf). Solar Radiation Theory, Uppsala University"
   ]
  }
 ],
 "metadata": {
  "kernelspec": {
   "display_name": "Python 3 (ipykernel)",
   "language": "python",
   "name": "python3"
  },
  "language_info": {
   "codemirror_mode": {
    "name": "ipython",
    "version": 3
   },
   "file_extension": ".py",
   "mimetype": "text/x-python",
   "name": "python",
   "nbconvert_exporter": "python",
   "pygments_lexer": "ipython3",
   "version": "3.11.7"
  },
  "toc-autonumbering": true,
  "toc-showcode": false,
  "toc-showmarkdowntxt": false,
  "toc-showtags": false
 },
 "nbformat": 4,
 "nbformat_minor": 5
}

{
 "cells": [
  {
   "cell_type": "markdown",
   "id": "9c749f73-be45-4089-bb56-6a3a0dd95d87",
   "metadata": {},
   "source": [
    "# Toy model house\n",
    "\n",
    "This tutorial presents the theory of heat transfer in buildings and examplifies it on a [toy model](https://en.m.wikipedia.org/wiki/Toy_model). The model is a thermal circuit with thermal capacities in some of the nodes.\n",
    "\n",
    "**Objectives:**\n",
    "1. modelling: obtain thermal circuits and state-space representation; \n",
    "2. model verification: steady-state and step-response;\n",
    "3. inputs: temperature and heat-flow source depending on weather and schedules;\n",
    "4. simulation: time integration using Euler explicit and implicit methods. "
   ]
  },
  {
   "cell_type": "code",
   "execution_count": null,
   "id": "52a31484-602c-47ed-a02f-90b8de0a42b7",
   "metadata": {},
   "outputs": [],
   "source": []
  }
 ],
 "metadata": {
  "kernelspec": {
   "display_name": "Python 3 (ipykernel)",
   "language": "python",
   "name": "python3"
  },
  "language_info": {
   "codemirror_mode": {
    "name": "ipython",
    "version": 3
   },
   "file_extension": ".py",
   "mimetype": "text/x-python",
   "name": "python",
   "nbconvert_exporter": "python",
   "pygments_lexer": "ipython3",
   "version": "3.9.7"
  }
 },
 "nbformat": 4,
 "nbformat_minor": 5
}

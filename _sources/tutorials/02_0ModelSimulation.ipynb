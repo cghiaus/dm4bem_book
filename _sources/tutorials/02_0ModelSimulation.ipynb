{
 "cells": [
  {
   "cell_type": "markdown",
   "id": "07915c04-ad3c-4b1b-b6d7-0c82411aec4e",
   "metadata": {},
   "source": [
    "# Modeling and simulation\n",
    "\n",
    "This chapter presents the modeling and simulaiton of thermal behaviour of a multi-layer wall and of a toy model of a house.\n",
    "\n",
    "The steps are:\n",
    "\n",
    "- __Modelling:__ obtain the thermal circuit and the state-space representation.\n",
    "    - Draw the thermal network based on the description of the building and on modelling assumptions.\n",
    "    - Calculate the parameters of the thermal network: conductances and capacities.\n",
    "    - Write the matrices and vectors ($A, G, C, b, f, y$) of the thermal circuit.\n",
    "    - create the thermal circuit __TC__ and convert it to state-space representation (matrices $A, B, C, D$ and input vector $u$).\n",
    "\n",
    "\n",
    "- __Steady-state and step respose:__ test if the model is wrong ([falsifiability](https://en.wikipedia.org/wiki/Falsifiability)): if the model fails these tests, then it is wrong; if the model passes these tests, it does not mean it is correct.\n",
    "    - Compare and interpret the steady-state results obtained for thermal circuit and state-space representation.\n",
    "    - Analyse the maximum time step (for numerical integration with [Euler explicit or forward method](https://en.wikipedia.org/wiki/Euler_method) and the [settling time](https://en.wikipedia.org/wiki/Settling_time).\n",
    "    - Simulate the time response (by using [Euler explicit and implicit method](https://en.wikipedia.org/wiki/Explicit_and_implicit_methods) to different [step inputs](https://en.wikipedia.org/wiki/Step_response).\n",
    "    - Compare the settling time obtained from simulation of step response with that obtained by eigenvalue analysis.\n",
    "    - Compare the steady-state value obtained by simumation of from the models (therma circuit and state-space representation).\n",
    "\n",
    "\n",
    "- __Inputs:__ prepare the input data set, i.e., time variation of weather and scheduled sources of temperature and flow-rate.\n",
    "    - Read the weather data (outdoor temperature, direct solar irradiance and diffuse solar irradiace).\n",
    "    - Calculate the sollar irradiance on the outdoor and indoor surfaces of the walls.\n",
    "    - Define the schedules for temperature sources (e.g., indoor temperature set point) and flow rate sources (e.g., internal gains).\n",
    "    - Obtain the input data set.\n",
    "\n",
    "\n",
    "- __Simulation:__ integrate in time the model for the given inputs.\n",
    "    - Consider the state-space representation.\n",
    "    - Transform the input data set into input vector in time.\n",
    "    - Set the initial conditions.\n",
    "    - Integrate the states in time (e.g., by using [Euler forward](https://en.wikipedia.org/wiki/Euler_method) and/or [backward](https://en.wikipedia.org/wiki/Backward_Euler_method) methods).\n",
    "    - Calculate the outputs from the states.\n",
    "    - Plot the results."
   ]
  },
  {
   "cell_type": "code",
   "execution_count": null,
   "id": "ccf8819a-b18c-4857-bf61-9658a1b026ad",
   "metadata": {},
   "outputs": [],
   "source": []
  }
 ],
 "metadata": {
  "kernelspec": {
   "display_name": "Python 3 (ipykernel)",
   "language": "python",
   "name": "python3"
  },
  "language_info": {
   "codemirror_mode": {
    "name": "ipython",
    "version": 3
   },
   "file_extension": ".py",
   "mimetype": "text/x-python",
   "name": "python",
   "nbconvert_exporter": "python",
   "pygments_lexer": "ipython3",
   "version": "3.9.7"
  }
 },
 "nbformat": 4,
 "nbformat_minor": 5
}

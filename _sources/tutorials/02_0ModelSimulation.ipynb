{
 "cells": [
  {
   "cell_type": "markdown",
   "id": "07915c04-ad3c-4b1b-b6d7-0c82411aec4e",
   "metadata": {},
   "source": [
    "# Modeling and simulation\n",
    "\n",
    "This chapter presents the modeling and simulaiton of thermal behaviour of a multi-layer wall and of a toy model of a house. "
   ]
  },
  {
   "cell_type": "code",
   "execution_count": null,
   "id": "ccf8819a-b18c-4857-bf61-9658a1b026ad",
   "metadata": {},
   "outputs": [],
   "source": []
  }
 ],
 "metadata": {
  "kernelspec": {
   "display_name": "Python 3 (ipykernel)",
   "language": "python",
   "name": "python3"
  },
  "language_info": {
   "codemirror_mode": {
    "name": "ipython",
    "version": 3
   },
   "file_extension": ".py",
   "mimetype": "text/x-python",
   "name": "python",
   "nbconvert_exporter": "python",
   "pygments_lexer": "ipython3",
   "version": "3.9.7"
  }
 },
 "nbformat": 4,
 "nbformat_minor": 5
}

{
 "cells": [
  {
   "cell_type": "markdown",
   "id": "07915c04-ad3c-4b1b-b6d7-0c82411aec4e",
   "metadata": {},
   "source": [
    "# Modeling and simulation\n",
    "\n",
    "This chapter presents the modeling and simulaiton of thermal behaviour of a multi-layer wall and of a toy model of a house.\n",
    "\n",
    "The steps are:\n",
    "- Modelling:\n",
    "> Obtain the thermal circuit and the state-space representation.\n",
    "    - draw the thermal network based on the description of the building and on modelling assumptions;\n",
    "    - calculate the parameters of the thermal network: conductances and capacities;\n",
    "    - write the matrices and vectors ($A, G, C, b, f, y$) of the thermal circuit;\n",
    "    - create the thermal circuit __TC__ and convert it to state-space representation (matrices $A, B, C, D$ and input vector $u$).\n",
    "\n",
    "- Steady-state and step respose:\n",
    "> Test if the model is wrong ([falsifiability](https://en.wikipedia.org/wiki/Falsifiability)): if the model fails these tests, then it is wrong; if the model passes these tests, it does not mean it is correct.\n",
    "    - compare and interpret the steady-state results obtained for thermal circuit and state-space representation;\n",
    "    - analyse the maximum time step (for numerical integration with [Euler explicit or forward method](https://en.wikipedia.org/wiki/Euler_method) and the [settling time](https://en.wikipedia.org/wiki/Settling_time);\n",
    "    - simulate the time response (by using [Euler explicit and implicit method](https://en.wikipedia.org/wiki/Explicit_and_implicit_methods) to different [step inputs](https://en.wikipedia.org/wiki/Step_response);\n",
    "    - compare the settling time obtained from simulation of step response with that obtained by eigenvalue analysis;\n",
    "    - compare the steady-state value obtained by simumation of from the models (therma circuit and state-space representation).\n",
    "    \n",
    "- Inputs:\n",
    "> Prepare the input data set, i.e., time variation of weather and scheduled sources of temperature and flow-rate.\n",
    "    - read the weather data (outdoor temperature, direct solar irradiance and diffuse solar irradiace);\n",
    "    - calculate the sollar irradiance on the outdoor and indoor surfaces of the walls;\n",
    "    - define the schedules for temperature sources (e.g., indoor temperature set point) and flow rate sources (e.g., internal gains);\n",
    "    - obtain the input data set.\n",
    "\n",
    "- Simulation:\n",
    "> Integrate in time the model for the given inputs.\n",
    "    - consider the state-space representation;\n",
    "    - transform the input data set into input vector in time;\n",
    "    - set the initial conditions;\n",
    "    - integrate in time (e.g., by using [Euler forward](https://en.wikipedia.org/wiki/Euler_method) and/or [backward](https://en.wikipedia.org/wiki/Backward_Euler_method) methods);\n",
    "    - calculate the outputs;\n",
    "    - plot the results."
   ]
  },
  {
   "cell_type": "code",
   "execution_count": null,
   "id": "ccf8819a-b18c-4857-bf61-9658a1b026ad",
   "metadata": {},
   "outputs": [],
   "source": []
  }
 ],
 "metadata": {
  "kernelspec": {
   "display_name": "Python 3 (ipykernel)",
   "language": "python",
   "name": "python3"
  },
  "language_info": {
   "codemirror_mode": {
    "name": "ipython",
    "version": 3
   },
   "file_extension": ".py",
   "mimetype": "text/x-python",
   "name": "python",
   "nbconvert_exporter": "python",
   "pygments_lexer": "ipython3",
   "version": "3.9.7"
  }
 },
 "nbformat": 4,
 "nbformat_minor": 5
}

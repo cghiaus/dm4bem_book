{
 "cells": [
  {
   "cell_type": "markdown",
   "id": "385f59fc-dfa8-4336-9b92-8990fa583f7e",
   "metadata": {},
   "source": [
    "# Air flow by ventilation\n",
    "\n",
    "[![Binder](https://mybinder.org/badge_logo.svg)](https://mybinder.org/v2/gh/cghiaus/dm4bem_book/HEAD?labpath=%2Ftutorials%2FA03Air_flow_ventilation.ipynb)"
   ]
  },
  {
   "cell_type": "markdown",
   "id": "5aaefbfc-f6c2-49b5-83d0-06eac3fa1635",
   "metadata": {},
   "source": [
    "## Problem\n",
    "The natural ventilation system of a two-storey building is composed of (Figure 1):\n",
    "- Orrifices located on the north and south faces located at hight $z_0 = 0.5 \\, \\mathrm{m}$. Every façade has two orrifices with the pressure exponent $n_o = 0.64$ and the flow coefficient $K_o = 10 \\, \\mathrm{m^3/(h\\,Pa}^{n_o})$.\n",
    "- An exhaust air chimney on the south side of the roof at hight $z_c = 8.5 \\, \\mathrm{m}$. This chimney may be considered an orrifice with the pressure exponent $n_c = 0.50$ and the flow coefficient $K_c = 50 \\, \\mathrm{m^3/(h\\,Pa}^{n_c})$.\n",
    "- The other elements of the building are considered airtight.\n",
    "\n",
    "![vent_bldg](../figures/A03_nat_vent.svg)\n",
    "> Figure 1. Natural ventilation with wind and stack effect.\n",
    "\n",
    "The static pressure at the level of the orrifices is considered $P_o = 0 \\, \\mathrm{Pa}$.\n",
    "\n",
    "Let's consider that the outdoor air has the parameters $\\theta_o = -5 \\, \\mathrm{°C}$, $\\varphi_o = 100 \\, \\%$, $\\rho_o = 1.315 \\, \\mathrm{kg/m^3}$ and the indoor air has the parameters $\\theta_i = 22 \\, \\mathrm{°C}$, $\\varphi_i = 50 \\, \\%$, $\\rho_i = 1.191 \\, \\mathrm{kg/m^3}.$\n",
    "\n",
    "In these conditions, estimate:\n",
    "- The possible domain of variation for the indoor pressure $p_i$ for the flow configuration shown in Figure 1.\n",
    "- The value of the indoor pressure $p_i$.\n",
    "- The mass flow rates:\n",
    "    - $\\dot m_{ni}$: from outdoors to indoors through the nord façade;\n",
    "    - $\\dot m_{si}$: from outdoors to indoors through the south façade;\n",
    "    - $\\dot m_{ic}$: from indoors to outdoors through the chimney;\n",
    "    \n",
    "in two situations:\n",
    "1. Neglecting the wind effect.\n",
    "2. Considering that the wind blows from North to South with speed $v = 18 \\, \\mathrm{km/h}$ and that the pressure coefficients are $C_{p,n} = 0.4$ for the north face, $C_{p,s} = -0.55$ for the south face, and $C_{p,c} = -0.7$ for the chimney. "
   ]
  },
  {
   "cell_type": "code",
   "execution_count": 1,
   "id": "45299720-7f28-40e8-b661-44a2f50f9eb6",
   "metadata": {},
   "outputs": [],
   "source": [
    "import matplotlib.pyplot as plt\n",
    "import numpy as np\n",
    "from scipy.optimize import fsolve\n",
    "\n",
    "# Data\n",
    "# Data\n",
    "g = 9.8                             # m/s², acceleration due to gravity\n",
    "no, nc = 0.64, 0.50                 # -, pressure exponent: orrifice, chimney\n",
    "Ko, Kc = 10 / 3600, 50 / 3600       # m³/(s·Paⁿ), flow coeff.: orrifice, chimney\n",
    "ρi, ρo = 1.191, 1.315               # kg/m³, density: indoor, outdoor\n",
    "Cpn, Cps, Cpc = 0.4, -0.55, -0.7    # -, presseure coef.: north, south, chimney\n",
    "z = 8                               # m, hignt"
   ]
  },
  {
   "cell_type": "markdown",
   "id": "83d8de71-fdce-4947-b216-6b8376d8eeed",
   "metadata": {},
   "source": [
    "## Summary of theory\n",
    "\n",
    "### Sources\n",
    "#### Pressure sources\n",
    "\n",
    "Pressure sources [(Rock et al. 2017)](https://ia802804.us.archive.org/23/items/ashraehandbook2017hvacfundamentalssi/2017%2C%20ashrae%20fundamental%20handbook%20SI.pdf):\n",
    "- stack pressure: $P_s = P_0 - \\rho g z$;\n",
    "- wind pressure: $P_w = C_p \\frac{1}{2} \\rho_o v^2$\n",
    "\n",
    "where:\n",
    "- $P_s$ stack pressure, Pa\n",
    "- $P_0$ stack pressure at reference height, Pa\n",
    "- $g$ gravitational acceleration, m/s²\n",
    "- $\\rho$ indoor or outdoor air density, kg/m³\n",
    "- $z$ height above the reference level, m\n",
    "- $P_w$ wind pressure difference relative to the outdoor pressure in undisturbed flow, Pa\n",
    "- $C_p$ pressure coefficient, dimensionless\n",
    "- $\\rho_o$ outside air density, kg/m³\n",
    "- $v$ wind speed, m/s\n",
    "\n",
    "#### Flow sources\n",
    "Flow sources inject a controlled volumetric airflow rate into the control volume, as is the case in [balanced mechanical ventilation systems](https://en.m.wikipedia.org/wiki/Ventilation_(architecture)).\n",
    "\n",
    "### Constitutive equation\n",
    "\n",
    "Each opening of a building can be modelled by a [constitutive equation](https://en.m.wikipedia.org/wiki/Constitutive_equation) or power law [(Rock et al. 2017)](https://ia802804.us.archive.org/23/items/ashraehandbook2017hvacfundamentalssi/2017%2C%20ashrae%20fundamental%20handbook%20SI.pdf):\n",
    "\n",
    "$$ \\dot V_{i,j} = K_{i,j} \\Delta P^n_{i,j} = K_{i,j}(P_i - P_j)^n$$\n",
    "\n",
    "where:\n",
    "- $\\dot V_{i,j}$ volumetric airflow through opening from control volume $i$ to control volume $j$, m³/s\n",
    "- $n$ pressure exponent, dimensionless; typical value about 0.65\n",
    "- $K_{i,j}$ flow coefficient, m³/(s·Paⁿ)\n",
    "\n",
    "The values of the pressure exponent $n$ and flow coefficient $K_{i,j}$ can be obtained experimentally by using the [blower door](https://en.wikipedia.org/wiki/Blower_door) test.\n",
    "\n",
    "### Mass conservation equation\n",
    "\n",
    "Mass air flow rate from control volume $i$ to control volume $j$ is:\n",
    "\n",
    "$$ \\dot m_{i,j} = \\rho_i \\, \\dot V_{i,j}$$\n",
    "\n",
    "where:\n",
    "- $\\dot m_{i,j}$ mass flow rate of air from control volume $i$ to control volume $j$, kg/s \n",
    "- $\\rho_i$ air density in control volume $i$, kg/m³\n",
    "- $\\dot V_{i,j}$ volumetric air flow rate from control volume $i$ to control volume $j$, m³/s\n",
    "\n",
    "In steady-state, the [mass conservation](https://en.m.wikipedia.org/wiki/Conservation_of_mass) law states that the algebraic sum of mass flow rates entering in a control volume $j$ is zero:\n",
    "\n",
    "$$\\sum_i \\dot m_{i,j} = 0$$\n",
    "\n",
    "**Notes:**\n",
    "1. The constitutive law relates volumetric airflow to pressure difference.\n",
    "2. The balance equation is done for mass flow rate.\n",
    "3. Generally, $\\dot m_{i,j} \\neq \\dot m_{j,i}$, even if $\\dot V_{i,j} = \\dot V_{j,i}$. This implies that if the mass flow rates obtained by solving the aeraulic circuit are negative, than the direction of the flows need to be changed and a new solution to be searched for.\n",
    "\n",
    "### Domain of variation for the indoor pressure\n",
    "\n",
    "For the flow directions shown in Figure 1,\n",
    "\n",
    "$$\n",
    "\\left\\{\\begin{matrix}\n",
    "\\dot m_{i,c} > 0\\\\ \n",
    "\\dot m_{n,i} > 0\\\\ \n",
    "\\dot m_{s,i} > 0\n",
    "\\end{matrix}\\right.\n",
    "$$\n",
    "\n",
    "\n",
    "For\n",
    "\n",
    "$$\\dot m_{i,c} > 0$$\n",
    "\n",
    "the indoor pressure $p_i$ needs to satisfy the inequality (see Figure 2a):\n",
    "\n",
    "$$p_i + [P_{si} - (P_{dc} + P_{sc})] > 0$$\n",
    "\n",
    "or the inequality (see Figure 2b):\n",
    "\n",
    "$$p_i > P_{dc} + P_{sc} - P_{si}$$\n",
    "\n",
    "For \n",
    "\n",
    "$$\n",
    "\\left\\{\\begin{matrix}\n",
    "\\dot m_{n,i} > 0\\\\ \n",
    "\\dot m_{s,i} > 0\n",
    "\\end{matrix}\\right.\n",
    "$$\n",
    "\n",
    "the condition\n",
    "\n",
    "$$p_i \\le \\min (P_{dn},P_{ds})$$\n",
    "\n",
    "needs to be satisfied (Figures 1 and 2).\n",
    "\n",
    "![vent_bldg](../figures/A03_nat_vent_1P.svg)\n",
    "> Figure 2. The model from Figure 1 with only one pressure source on a branch: a) pressure source before conductance; b) pressure source after conductance. The notations are the same as in Figure 1."
   ]
  },
  {
   "cell_type": "markdown",
   "id": "715aee41-50e8-47f8-8740-64921d122827",
   "metadata": {},
   "source": [
    "## Static pressure\n",
    "\n",
    "- $P_{si} = - \\rho_i g z$ - static pressure indoors\n",
    "- $P_{so} = - \\rho_o g z$ - static pressure outdoors"
   ]
  },
  {
   "cell_type": "code",
   "execution_count": 2,
   "id": "e9e6af66-0b0a-4330-8493-82d738a871d1",
   "metadata": {},
   "outputs": [],
   "source": [
    "# Static pressure, Pa\n",
    "Psi = -ρi * g * z   # indoors\n",
    "Pso = -ρo * g * z   # outdoors"
   ]
  },
  {
   "cell_type": "markdown",
   "id": "9f383a27-1523-4636-a6d1-b024f807261c",
   "metadata": {},
   "source": [
    "## Neglecting the wind effect\n",
    "\n",
    "### Dynamic pressure\n",
    "\n",
    "The dynamic pressures are:\n",
    "- $P_{dn} = C_{pn} \\frac{1}{2} \\rho_o v^2$ - north face\n",
    "- $P_{ds} = C_{ps} \\frac{1}{2} \\rho_o v^2$ - south face\n",
    "- $P_{dc} = C_{pc} \\frac{1}{2} \\rho_o v^2$ - chimney"
   ]
  },
  {
   "cell_type": "code",
   "execution_count": 3,
   "id": "79547d54-dd96-498d-87d4-7039e32061c1",
   "metadata": {},
   "outputs": [],
   "source": [
    "v = 0       # m/s, wind speed\n",
    "# dynamic pressures, Pa\n",
    "Pdn = Cpn * 0.5 * ρo * v**2     # north face\n",
    "Pds = Cps * 0.5 * ρo * v**2     # south face\n",
    "Pdc = Cpc * 0.5 * ρo * v**2     # chimney"
   ]
  },
  {
   "cell_type": "markdown",
   "id": "38f777e0-04ed-4c3a-9e19-24416693b85d",
   "metadata": {},
   "source": [
    "### Variation domain of indoor pressure\n",
    "The domain of variation of $p_i$ in order to have the flows shown in Figure 1 is\n",
    "\n",
    "$$P_{si} - (P_{dc} + P{sc}) \\le p_i \\le \\min (P_{dn},P_{ds})$$"
   ]
  },
  {
   "cell_type": "code",
   "execution_count": 4,
   "id": "bac36db5-e614-4b19-95d9-092e351a1ce2",
   "metadata": {},
   "outputs": [
    {
     "name": "stdout",
     "output_type": "stream",
     "text": [
      "Pressure domain: -9.72 Pa < pi < 0.00 Pa\n"
     ]
    }
   ],
   "source": [
    "pi_min, pi_max = -(Psi - Pdc - Pso), min(Pdn, Pds)\n",
    "print(f\"Pressure domain: {pi_min:.2f} Pa < pi < {pi_max:.2f} Pa\")"
   ]
  },
  {
   "cell_type": "markdown",
   "id": "a765e254-f5de-4ac5-850f-c4f435377d27",
   "metadata": {},
   "source": [
    "### Graphical solution of nonlinear equation for indoor pressure\n",
    "\n",
    "The mass flow balance equation for pressure node $p_i$ is:\n",
    "\n",
    "$$ \\dot m_{ni} + \\dot m_{si} - \\dot m_{ic} = 0$$\n",
    "\n",
    "where:\n",
    "- $ \\dot m_{ni} = 2 \\rho_o K_o (P_{dn} - P_{i})^{n_o}$ - mass flow through the two orifices on north façade;\n",
    "- $ \\dot m_{si} = 2 \\rho_o K_o (P_{ds} - P_{i})^{n_o}$ - mass flow through the two orifices on south façade;\n",
    "- $ \\dot m_{ic} = \\rho_i K_c (p_i + P_{si} - P_{dc} - P_{so})^{n_c}$ - mass flow from indoor air through the chimney.\n",
    "\n",
    "The mass balance is satisfied for the indoor pressure $p_i$ which solves the equation:\n",
    "\n",
    "$$f(p_i) = 0$$\n",
    "\n",
    "where:\n",
    "\n",
    "$$f(p_i) = 2 \\rho_o K_o (P_{dn} - P_{i})^{n_o} + 2 \\rho_o K_o (P_{ds} - P_{i})^{n_o} - \\rho_i K_c (p_i + P_{si} - P_{dc} - P_{so})^{n_c}$$"
   ]
  },
  {
   "cell_type": "code",
   "execution_count": 5,
   "id": "ddd0b017-e982-4c8c-aea9-6a3afc72d086",
   "metadata": {},
   "outputs": [],
   "source": [
    "def f(pi):\n",
    "    \"\"\"\n",
    "    Error in mass balance equation as a function of indoor pressure.\n",
    "    Used to find indoor pressure pi which makes the mass balance zero.\n",
    "    The north and south flows are entering.\n",
    "\n",
    "    Parameters\n",
    "    ----------\n",
    "    pi : float\n",
    "        Indoor pressure, Pa.\n",
    "\n",
    "    Returns\n",
    "    -------\n",
    "    y : float\n",
    "        Mass flow rate unbalanced in the mass balance equation\n",
    "    \"\"\"\n",
    "    y = 2 * ρo * Ko * (Pdn - pi)**no \\\n",
    "        + 2 * ρo * Ko * (Pds - pi)**no \\\n",
    "        - ρi * Kc * (pi + Psi - Pdc - Pso)**nc\n",
    "    return y"
   ]
  },
  {
   "cell_type": "markdown",
   "id": "ab182701-b75f-46a9-9cee-49ec1a61b390",
   "metadata": {},
   "source": [
    "The solution of this non-linear equation can be found graphically."
   ]
  },
  {
   "cell_type": "code",
   "execution_count": 6,
   "id": "0327f689-68e2-4bf0-b2b6-cc374e11327e",
   "metadata": {},
   "outputs": [
    {
     "data": {
      "image/png": "[encoded data removed]",
      "text/plain": [
       "<Figure size 640x480 with 1 Axes>"
      ]
     },
     "metadata": {},
     "output_type": "display_data"
    }
   ],
   "source": [
    "# plot error in mass balance\n",
    "pi = np.linspace(pi_min, pi_max, 100)\n",
    "\n",
    "fig, ax = plt.subplots()\n",
    "\n",
    "ax.plot(pi, f(pi), 'b')\n",
    "ax.axvline(x=pi_min, color='b', **{'linestyle': 'dashed'})\n",
    "ax.axvline(x=pi_max, color='b', **{'linestyle': 'dashed'})\n",
    "ax.axhline(color='k')\n",
    "\n",
    "ax.set_ylabel(r'Error in mass balance $\\dot{m}$ / [kg/s]')\n",
    "ax.set_xlabel(r'Indoor pressure $p_i$ / [Pa]')\n",
    "ax.grid()"
   ]
  },
  {
   "cell_type": "markdown",
   "id": "c67db869-12b1-4618-b5fa-1e5f105fa8c0",
   "metadata": {},
   "source": [
    "> Figure 3. [Residual](https://en.wikipedia.org/wiki/Residual_(numerical_analysis)) of mass balance equation in the dolain of pressure variation (without wind effect)."
   ]
  },
  {
   "cell_type": "markdown",
   "id": "5c20ac20-e752-4e87-bff2-4ad722797f68",
   "metadata": {},
   "source": [
    "### Numerical solution\n",
    "\n",
    "Alternativelly, the solution to the equation\n",
    "\n",
    "$$f(p_i) = 0$$\n",
    "\n",
    "can be found numerically."
   ]
  },
  {
   "cell_type": "code",
   "execution_count": 7,
   "id": "033906e8-4963-433a-ac81-2fd62c8af01c",
   "metadata": {},
   "outputs": [
    {
     "name": "stdout",
     "output_type": "stream",
     "text": [
      "pi = -4.45 Pa\n"
     ]
    },
    {
     "name": "stderr",
     "output_type": "stream",
     "text": [
      "/var/folders/vp/k617ngs97xq4vlzlj5ts6sch0000gn/T/ipykernel_12134/3672248169.py:2: DeprecationWarning: Conversion of an array with ndim > 0 to a scalar is deprecated, and will error in future. Ensure you extract a single element from your array before performing this operation. (Deprecated NumPy 1.25.)\n",
      "  root = float(fsolve(f, np.mean([pi_min, pi_max])))\n"
     ]
    }
   ],
   "source": [
    "# numerical solution\n",
    "root = float(fsolve(f, np.mean([pi_min, pi_max])))\n",
    "print(f\"pi = {root:.2f} Pa\")"
   ]
  },
  {
   "cell_type": "markdown",
   "id": "f88d82d2-244f-42e6-af9a-e68ff6ea540d",
   "metadata": {},
   "source": [
    "### Check the mass balance\n",
    "\n",
    "By knowing the indoor pressure $p_i$, the mass flows  $\\dot m_{ni}$, $\\dot m_{si}$ and $\\dot m_{ic}$  can be found and the mass balance\n",
    "\n",
    "$$ \\dot m_{ni} + \\dot m_{si} - \\dot m_{ic} = 0$$\n",
    "\n",
    "checked."
   ]
  },
  {
   "cell_type": "code",
   "execution_count": 8,
   "id": "99073457-1203-4d7b-864b-cff69fc912eb",
   "metadata": {},
   "outputs": [
    {
     "name": "stdout",
     "output_type": "stream",
     "text": [
      "Verify mass balance:\n",
      "mass flow: north: 0.019 kg/s, south: 0.019 kg/s\n",
      "mass flow chimney: 0.038 kg/s\n",
      "error in mass flow balance: 0.000 kg/s\n",
      "\n"
     ]
    }
   ],
   "source": [
    "# verification of mass balance, kg/s\n",
    "mn = ρo * Ko * (Pdn - root)**no\n",
    "ms = ρo * Ko * (Pds - root)**no\n",
    "mc = ρi * Kc * (root + Psi - Pdc - Pso)**nc\n",
    "print(\"Verify mass balance:\")\n",
    "print(f\"mass flow: north: {2 * mn:.3f} kg/s, south: {2 * ms:.3f} kg/s\")\n",
    "print(f\"mass flow chimney: {mc:.3f} kg/s\")\n",
    "print(f\"error in mass flow balance: {2 * mn + 2 * ms - mc:.3f} kg/s\\n\")"
   ]
  },
  {
   "cell_type": "markdown",
   "id": "48938e42-383d-4a2b-a3bd-93ebb5052198",
   "metadata": {},
   "source": [
    "## Considering the wind effect\n",
    "\n",
    "### Dynamic pressure\n",
    "\n",
    "The dynamic pressures are:\n",
    "- $P_{dn} = C_{pn} \\frac{1}{2} \\rho_o v^2$ - north face\n",
    "- $P_{ds} = C_{ps} \\frac{1}{2} \\rho_o v^2$ - south face\n",
    "- $P_{dc} = C_{pc} \\frac{1}{2} \\rho_o v^2$ - chimney"
   ]
  },
  {
   "cell_type": "code",
   "execution_count": 9,
   "id": "a83dd661-e4a0-4f4e-b5fe-dfc0abce9d43",
   "metadata": {},
   "outputs": [],
   "source": [
    "v = 18 * 1000 / 3600            # m/s, wind speed\n",
    "\n",
    "# dynamic pressures, Pa\n",
    "Pdn = Cpn * 0.5 * ρo * v**2     # north face\n",
    "Pds = Cps * 0.5 * ρo * v**2     # south face\n",
    "Pdc = Cpc * 0.5 * ρo * v**2     # chimney"
   ]
  },
  {
   "cell_type": "markdown",
   "id": "4c422902-9fec-4f5f-90ba-1a87281589d5",
   "metadata": {},
   "source": [
    "### Domain of variation of indoor pressure\n",
    "The domain of variation of $p_i$ in order to have the flows shown in Figure 1 is:\n",
    "\n",
    "$$P_{si} - (P_{dc} + P{sc}) \\le p_i \\le \\min (P_{dn},P_{ds})$$"
   ]
  },
  {
   "cell_type": "code",
   "execution_count": 10,
   "id": "aac14797-e1c6-43f1-9957-c1aba346426b",
   "metadata": {},
   "outputs": [
    {
     "name": "stdout",
     "output_type": "stream",
     "text": [
      "Pressure domain with wind: -21.23 Pa < pi < -9.04 Pa\n"
     ]
    }
   ],
   "source": [
    "pi_min, pi_max = -(Psi - Pdc - Pso), min(Pdn, Pds)\n",
    "print(f\"Pressure domain with wind: {pi_min:.2f} Pa < pi < {pi_max:.2f} Pa\")"
   ]
  },
  {
   "cell_type": "markdown",
   "id": "9a3d88c0-b5c1-4326-99c5-7f32db3256f1",
   "metadata": {},
   "source": [
    "### Graphical solution of nolinear equation for indoor pressure\n",
    "\n",
    "The solution of this non-linear equation can be found graphically (Figure 4)."
   ]
  },
  {
   "cell_type": "code",
   "execution_count": 11,
   "id": "60584731-ffe1-43e9-adce-eec79721c660",
   "metadata": {},
   "outputs": [
    {
     "data": {
      "image/png": "[encoded data removed]",
      "text/plain": [
       "<Figure size 640x480 with 1 Axes>"
      ]
     },
     "metadata": {},
     "output_type": "display_data"
    }
   ],
   "source": [
    "# plot error in mass balance\n",
    "pi = np.linspace(pi_min, pi_max, 100)\n",
    "\n",
    "fig, ax = plt.subplots()\n",
    "\n",
    "ax.plot(pi, f(pi), 'g')\n",
    "ax.axvline(x=pi_min, color='g', **{'linestyle': 'dashed'})\n",
    "ax.axvline(x=pi_max, color='g', **{'linestyle': 'dashed'})\n",
    "ax.axhline(color='k')\n",
    "\n",
    "ax.set_ylabel(r'Error in mass balance $\\dot{m}$ / [kg/s]')\n",
    "ax.set_xlabel(r'Indoor pressure $p_i$ / [Pa]')\n",
    "ax.grid()"
   ]
  },
  {
   "cell_type": "markdown",
   "id": "35ee0232-9154-4679-9f2d-b20c4235f0c1",
   "metadata": {},
   "source": [
    "> Figure 4. [Residual](https://en.wikipedia.org/wiki/Residual_(numerical_analysis)) of mass balance equation in the domain of pressure variation (with wind effect)."
   ]
  },
  {
   "cell_type": "markdown",
   "id": "f2812f53-e590-48fc-973c-b865e3ab902a",
   "metadata": {},
   "source": [
    "### Numerical solution\n",
    "\n",
    "Alternativelly, the solution to the equation\n",
    "\n",
    "$$f(p_i) = 0$$\n",
    "\n",
    "can be found numerically."
   ]
  },
  {
   "cell_type": "code",
   "execution_count": 12,
   "id": "76fa348a-e59e-4f66-989b-daa72fad8de3",
   "metadata": {},
   "outputs": [
    {
     "name": "stdout",
     "output_type": "stream",
     "text": [
      "pi = -10.50 Pa\n"
     ]
    }
   ],
   "source": [
    "# numerical solution\n",
    "root = fsolve(f, np.mean([pi_min, pi_max]))\n",
    "print(f\"pi = {root[0]:.2f} Pa\")"
   ]
  },
  {
   "cell_type": "markdown",
   "id": "9f286a8a-e7d5-40ab-b599-0c2d27ba8e3c",
   "metadata": {},
   "source": [
    "### Check the mass balance\n",
    "\n",
    "By knowing the indoor pressure $p_i$, the mass flows  $\\dot m_{ni}$, $\\dot m_{si}$ and $\\dot m_{ic}$  can be found and the mass balance\n",
    "\n",
    "$$ \\dot m_{ni} + \\dot m_{si} - \\dot m_{ic} = 0$$\n",
    "\n",
    "checked."
   ]
  },
  {
   "cell_type": "code",
   "execution_count": 13,
   "id": "b3ae9352-5d1c-4378-95d2-c3d332b8457d",
   "metadata": {},
   "outputs": [],
   "source": [
    "mn = ρo * Ko * (Pdn - root)**no\n",
    "ms = ρo * Ko * (Pds - root)**no\n",
    "mc = ρi * Kc * (root + Psi - Pdc - Pso)**nc\n",
    "mn2 = 2 * mn[0]\n",
    "ms2 = 2 * ms[0]\n",
    "mc = mc[0]\n",
    "m_error = mn2 + ms2 - mc"
   ]
  },
  {
   "cell_type": "code",
   "execution_count": 14,
   "id": "4ed8ed40-ca2d-4e1b-ad0c-c54a5a232403",
   "metadata": {},
   "outputs": [
    {
     "name": "stdout",
     "output_type": "stream",
     "text": [
      "Verify mass balance:\n",
      "mass flow: north: 0.045 kg/s, south: 0.009 kg/s\n",
      "mass flow chimney: 0.054 kg/s\n",
      "error in mass flow balance: 0.000 kg/s\n"
     ]
    }
   ],
   "source": [
    "print(\"Verify mass balance:\")\n",
    "print(f\"mass flow: north: {mn2:.3f} kg/s, south: {ms2:.3f} kg/s\")\n",
    "print(f\"mass flow chimney: {mc:.3f} kg/s\")\n",
    "print(f\"error in mass flow balance: {m_error:.3f} kg/s\")"
   ]
  },
  {
   "cell_type": "markdown",
   "id": "41a0b71a-a98d-40c1-b0bd-7336a4d8e1b3",
   "metadata": {},
   "source": [
    "## References\n",
    "[B. Rock, S.J. Emmerich, S. Taylor (2017)](https://ia802804.us.archive.org/23/items/ashraehandbook2017hvacfundamentalssi/2017%2C%20ashrae%20fundamental%20handbook%20SI.pdf) *F16 Ventilation and Infiltration* in ASHRAE Fundamentals Handbook, ISBN 10: 1939200598  ISBN 13: 978-1939200594"
   ]
  },
  {
   "cell_type": "code",
   "execution_count": null,
   "id": "0a0e8140-5cd1-4e28-a9a1-23023ac77e86",
   "metadata": {},
   "outputs": [],
   "source": []
  }
 ],
 "metadata": {
  "kernelspec": {
   "display_name": "Python 3 (ipykernel)",
   "language": "python",
   "name": "python3"
  },
  "language_info": {
   "codemirror_mode": {
    "name": "ipython",
    "version": 3
   },
   "file_extension": ".py",
   "mimetype": "text/x-python",
   "name": "python",
   "nbconvert_exporter": "python",
   "pygments_lexer": "ipython3",
   "version": "3.11.7"
  },
  "toc-autonumbering": true
 },
 "nbformat": 4,
 "nbformat_minor": 5
}

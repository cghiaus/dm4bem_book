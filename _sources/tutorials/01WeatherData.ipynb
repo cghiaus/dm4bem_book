{
 "cells": [
  {
   "cell_type": "markdown",
   "id": "61d66c34-c1c0-440e-817c-f70119c2b5e1",
   "metadata": {
    "tags": []
   },
   "source": [
    "# Weather data and solar radiation on a tilted surface\n",
    "\n",
    "[![Binder](https://mybinder.org/badge_logo.svg)](https://mybinder.org/v2/gh/cghiaus/dm4bem_book/main?labpath=%2Ftutorials%2F01WeatherData.ipynb)\n",
    "\n",
    "\n",
    "## Introduction\n",
    "\n",
    "### Objectives\n",
    "\n",
    "- Download weather data in [EnergyPlus™](https://energyplus.net/documentation) format.\n",
    "- Read weather data.\n",
    "- Find solar radiation on a tilted surface.\n",
    "- Visualize the data.\n",
    "\n",
    "### Summary\n",
    "This notebook:\n",
    "\n",
    "- Imports standard modules such as `numpy`, `pandas`, and `matplotlib.pyplot`, and a local (dedicated) module, [dm4bem](dm4bem.py) and reads the file [FRA_Lyon.074810_IWEC.epw](../weather_data/FRA_Lyon.074810_IWEC.epw) in EnergyPlus™ Weather Format (`.epw`) containing weather data for Lyon, France.\n",
    "\n",
    "- Selects three columns from the weather data, namely air temperature, direct radiation on a normal surface, and diffuse radiation on an horizontal surface, and replaces with 2000 the years in the index of the dataframe.\n",
    "\n",
    "- Defines a start date and an end date and filters the weather data based on these dates.\n",
    "\n",
    "- Creates three line plots using the filtered weather data:\n",
    "    - Outdoor air temperature over time.\n",
    "    - Solar radiation (normal direct and horizontal diffuse) over time.\n",
    "    - Solar radiation on a tilted surface over time, calculated using the filtered weather data and the slope, azimuth, and latitude of the surface.\n",
    "\n",
    "- Calculates the solar radiation on a tilted surface by computing the direct radiation, diffuse radiation, and reflected radiation. It then stores the calculated solar radiation as a new column in the filtered weather data."
   ]
  },
  {
   "cell_type": "markdown",
   "id": "37169b9e-5a48-436a-ad88-69151c20a353",
   "metadata": {
    "tags": []
   },
   "source": [
    "## Obtain weather data in `EnergyPlus™` format"
   ]
  },
  {
   "cell_type": "code",
   "execution_count": 1,
   "id": "5aa43d35-feaf-4588-8b68-c651d327ab35",
   "metadata": {},
   "outputs": [],
   "source": [
    "import numpy as np\n",
    "import pandas as pd\n",
    "import matplotlib.pyplot as plt\n",
    "\n",
    "from dm4bem import read_epw, sol_rad_tilt_surf"
   ]
  },
  {
   "cell_type": "markdown",
   "id": "d9b38d0b-02df-453d-b8ef-4697024b1b0e",
   "metadata": {
    "tags": []
   },
   "source": [
    "### Download data file\n",
    "\n",
    "Download the weather file with extension `.epw` from: \n",
    "- [Climate.OneBuilding.Org](http://climate.onebuilding.org): repository of free climate data for building performance simulation,\n",
    "- [EnergyPlus™](https://energyplus.net/weather): interactive map with locations,\n",
    "- [LadyBug Tools](http://www.ladybug.tools/epwmap/): interactive map with locations,\n",
    "- [PV GIS](https://re.jrc.ec.europa.eu/pvg_tools/en/tools.html): interractive map with interpolated data.\n",
    "\n",
    "For example, for the airport Lyon-Bron, France (N45.73, E5.08), download the files:\n",
    "- [FRA_Lyon.074810_IWEC.epw](../weather_data/FRA_Lyon.074810_IWEC.epw) or \n",
    "- [FRA_AR_Lyon-Bron.AP.074800_TMYx.2004-2018.epw](../weather_data/FRA_AR_Lyon-Bron.AP.074800_TMYx.2004-2018.epw)\n",
    "\n",
    "from [Climate OneBuilding](https://climate.onebuilding.org/WMO_Region_6_Europe/FRA_France/index.html) and place them in the `./weather_data` folder."
   ]
  },
  {
   "cell_type": "markdown",
   "id": "53ee5f0c-f06b-4842-9333-592a244b118a",
   "metadata": {
    "tags": []
   },
   "source": [
    "### Read weather data"
   ]
  },
  {
   "cell_type": "markdown",
   "id": "ba380042-2a60-4532-b868-869ae1fbcad5",
   "metadata": {},
   "source": [
    "#### Weather data file name"
   ]
  },
  {
   "cell_type": "code",
   "execution_count": 2,
   "id": "8b81357b-09f0-4905-8760-856582b31cd1",
   "metadata": {},
   "outputs": [],
   "source": [
    "filename = '../weather_data/FRA_Lyon.074810_IWEC.epw'\n",
    "# filename = './weather_data/FRA_AR_Lyon-Bron.AP.074800_TMYx.2004-2018.epw'"
   ]
  },
  {
   "cell_type": "markdown",
   "id": "5102f423-a176-4814-8fba-65f52f2c920b",
   "metadata": {},
   "source": [
    "The weather file `.epw` contains hourly data for one year. For the description of the structure and the meaning of the fields of the `.epw` file, see `read_epw` function in [dm4bem.py](dm4bem.py) module and the documentation for [pvlib.iotools.read_epw](https://pvlib-python.readthedocs.io/en/v0.9.0/generated/pvlib.iotools.read_epw.html) function of [pvlib python](https://pvlib-python.readthedocs.io/en/v0.9.0/index.html)."
   ]
  },
  {
   "cell_type": "code",
   "execution_count": 3,
   "id": "bda706f2-8250-4f29-850c-0d4be24cd178",
   "metadata": {},
   "outputs": [
    {
     "data": {
      "text/html": [
       "<div>\n",
       "<style scoped>\n",
       "    .dataframe tbody tr th:only-of-type {\n",
       "        vertical-align: middle;\n",
       "    }\n",
       "\n",
       "    .dataframe tbody tr th {\n",
       "        vertical-align: top;\n",
       "    }\n",
       "\n",
       "    .dataframe thead th {\n",
       "        text-align: right;\n",
       "    }\n",
       "</style>\n",
       "<table border=\"1\" class=\"dataframe\">\n",
       "  <thead>\n",
       "    <tr style=\"text-align: right;\">\n",
       "      <th></th>\n",
       "      <th>year</th>\n",
       "      <th>month</th>\n",
       "      <th>day</th>\n",
       "      <th>hour</th>\n",
       "      <th>minute</th>\n",
       "      <th>data_source_unct</th>\n",
       "      <th>temp_air</th>\n",
       "      <th>temp_dew</th>\n",
       "      <th>relative_humidity</th>\n",
       "      <th>atmospheric_pressure</th>\n",
       "      <th>...</th>\n",
       "      <th>ceiling_height</th>\n",
       "      <th>present_weather_observation</th>\n",
       "      <th>present_weather_codes</th>\n",
       "      <th>precipitable_water</th>\n",
       "      <th>aerosol_optical_depth</th>\n",
       "      <th>snow_depth</th>\n",
       "      <th>days_since_last_snowfall</th>\n",
       "      <th>albedo</th>\n",
       "      <th>liquid_precipitation_depth</th>\n",
       "      <th>liquid_precipitation_quantity</th>\n",
       "    </tr>\n",
       "  </thead>\n",
       "  <tbody>\n",
       "    <tr>\n",
       "      <th>1983-01-01 00:00:00+01:00</th>\n",
       "      <td>1983</td>\n",
       "      <td>1</td>\n",
       "      <td>1</td>\n",
       "      <td>1</td>\n",
       "      <td>60</td>\n",
       "      <td>C9C9C9C9*0?9?9?9?9?9?9?9A7A7A7A7A7A7*0E8*0*0</td>\n",
       "      <td>0.8</td>\n",
       "      <td>0.3</td>\n",
       "      <td>96</td>\n",
       "      <td>100100</td>\n",
       "      <td>...</td>\n",
       "      <td>15</td>\n",
       "      <td>0</td>\n",
       "      <td>999999599</td>\n",
       "      <td>0</td>\n",
       "      <td>0.204</td>\n",
       "      <td>0</td>\n",
       "      <td>88</td>\n",
       "      <td>0.0</td>\n",
       "      <td>0.0</td>\n",
       "      <td>0.0</td>\n",
       "    </tr>\n",
       "    <tr>\n",
       "      <th>1983-01-01 01:00:00+01:00</th>\n",
       "      <td>1983</td>\n",
       "      <td>1</td>\n",
       "      <td>1</td>\n",
       "      <td>2</td>\n",
       "      <td>60</td>\n",
       "      <td>C9C9C9C9*0?9?9?9?9?9?9?9A7A7B8B8A7A7*0E8*0*0</td>\n",
       "      <td>-0.6</td>\n",
       "      <td>-0.9</td>\n",
       "      <td>97</td>\n",
       "      <td>100300</td>\n",
       "      <td>...</td>\n",
       "      <td>30</td>\n",
       "      <td>0</td>\n",
       "      <td>999999599</td>\n",
       "      <td>0</td>\n",
       "      <td>0.204</td>\n",
       "      <td>0</td>\n",
       "      <td>88</td>\n",
       "      <td>0.0</td>\n",
       "      <td>0.0</td>\n",
       "      <td>0.0</td>\n",
       "    </tr>\n",
       "    <tr>\n",
       "      <th>1983-01-01 02:00:00+01:00</th>\n",
       "      <td>1983</td>\n",
       "      <td>1</td>\n",
       "      <td>1</td>\n",
       "      <td>3</td>\n",
       "      <td>60</td>\n",
       "      <td>C9C9C9C9*0?9?9?9?9?9?9?9A7A7B8B8A7A7*0E8*0*0</td>\n",
       "      <td>-1.5</td>\n",
       "      <td>-1.7</td>\n",
       "      <td>98</td>\n",
       "      <td>100400</td>\n",
       "      <td>...</td>\n",
       "      <td>30</td>\n",
       "      <td>0</td>\n",
       "      <td>999999599</td>\n",
       "      <td>0</td>\n",
       "      <td>0.204</td>\n",
       "      <td>0</td>\n",
       "      <td>88</td>\n",
       "      <td>0.0</td>\n",
       "      <td>0.0</td>\n",
       "      <td>0.0</td>\n",
       "    </tr>\n",
       "    <tr>\n",
       "      <th>1983-01-01 03:00:00+01:00</th>\n",
       "      <td>1983</td>\n",
       "      <td>1</td>\n",
       "      <td>1</td>\n",
       "      <td>4</td>\n",
       "      <td>60</td>\n",
       "      <td>C9C9C9C9*0?9?9?9?9?9?9?9A7A7A7A7A7A7*0E8*0*0</td>\n",
       "      <td>-1.9</td>\n",
       "      <td>-2.0</td>\n",
       "      <td>99</td>\n",
       "      <td>100500</td>\n",
       "      <td>...</td>\n",
       "      <td>30</td>\n",
       "      <td>0</td>\n",
       "      <td>999999599</td>\n",
       "      <td>0</td>\n",
       "      <td>0.204</td>\n",
       "      <td>0</td>\n",
       "      <td>88</td>\n",
       "      <td>0.0</td>\n",
       "      <td>0.0</td>\n",
       "      <td>0.0</td>\n",
       "    </tr>\n",
       "    <tr>\n",
       "      <th>1983-01-01 04:00:00+01:00</th>\n",
       "      <td>1983</td>\n",
       "      <td>1</td>\n",
       "      <td>1</td>\n",
       "      <td>5</td>\n",
       "      <td>60</td>\n",
       "      <td>C9C9C9C9*0?9?9?9?9?9?9?9A7A7B8B8A7A7*0E8*0*0</td>\n",
       "      <td>-2.1</td>\n",
       "      <td>-2.2</td>\n",
       "      <td>100</td>\n",
       "      <td>100500</td>\n",
       "      <td>...</td>\n",
       "      <td>30</td>\n",
       "      <td>0</td>\n",
       "      <td>999999599</td>\n",
       "      <td>0</td>\n",
       "      <td>0.204</td>\n",
       "      <td>0</td>\n",
       "      <td>88</td>\n",
       "      <td>0.0</td>\n",
       "      <td>0.0</td>\n",
       "      <td>0.0</td>\n",
       "    </tr>\n",
       "    <tr>\n",
       "      <th>...</th>\n",
       "      <td>...</td>\n",
       "      <td>...</td>\n",
       "      <td>...</td>\n",
       "      <td>...</td>\n",
       "      <td>...</td>\n",
       "      <td>...</td>\n",
       "      <td>...</td>\n",
       "      <td>...</td>\n",
       "      <td>...</td>\n",
       "      <td>...</td>\n",
       "      <td>...</td>\n",
       "      <td>...</td>\n",
       "      <td>...</td>\n",
       "      <td>...</td>\n",
       "      <td>...</td>\n",
       "      <td>...</td>\n",
       "      <td>...</td>\n",
       "      <td>...</td>\n",
       "      <td>...</td>\n",
       "      <td>...</td>\n",
       "      <td>...</td>\n",
       "    </tr>\n",
       "    <tr>\n",
       "      <th>1986-12-31 19:00:00+01:00</th>\n",
       "      <td>1986</td>\n",
       "      <td>12</td>\n",
       "      <td>31</td>\n",
       "      <td>20</td>\n",
       "      <td>60</td>\n",
       "      <td>C9C9C9C9*0?9?9?9?9?9?9?9A7A7B8B8A7A7*0E8*0*0</td>\n",
       "      <td>5.9</td>\n",
       "      <td>4.7</td>\n",
       "      <td>92</td>\n",
       "      <td>99400</td>\n",
       "      <td>...</td>\n",
       "      <td>22000</td>\n",
       "      <td>9</td>\n",
       "      <td>999999999</td>\n",
       "      <td>0</td>\n",
       "      <td>0.117</td>\n",
       "      <td>2</td>\n",
       "      <td>88</td>\n",
       "      <td>0.0</td>\n",
       "      <td>0.0</td>\n",
       "      <td>0.0</td>\n",
       "    </tr>\n",
       "    <tr>\n",
       "      <th>1986-12-31 20:00:00+01:00</th>\n",
       "      <td>1986</td>\n",
       "      <td>12</td>\n",
       "      <td>31</td>\n",
       "      <td>21</td>\n",
       "      <td>60</td>\n",
       "      <td>C9C9C9C9*0?9?9?9?9?9?9?9A7A7B8B8A7A7*0E8*0*0</td>\n",
       "      <td>5.5</td>\n",
       "      <td>4.5</td>\n",
       "      <td>93</td>\n",
       "      <td>99400</td>\n",
       "      <td>...</td>\n",
       "      <td>22000</td>\n",
       "      <td>9</td>\n",
       "      <td>999999999</td>\n",
       "      <td>0</td>\n",
       "      <td>0.117</td>\n",
       "      <td>2</td>\n",
       "      <td>88</td>\n",
       "      <td>0.0</td>\n",
       "      <td>0.0</td>\n",
       "      <td>0.0</td>\n",
       "    </tr>\n",
       "    <tr>\n",
       "      <th>1986-12-31 21:00:00+01:00</th>\n",
       "      <td>1986</td>\n",
       "      <td>12</td>\n",
       "      <td>31</td>\n",
       "      <td>22</td>\n",
       "      <td>60</td>\n",
       "      <td>C9C9C9C9*0?9?9?9?9?9?9?9A7A7A7A7A7A7*0E8*0*0</td>\n",
       "      <td>4.9</td>\n",
       "      <td>3.9</td>\n",
       "      <td>94</td>\n",
       "      <td>99500</td>\n",
       "      <td>...</td>\n",
       "      <td>22000</td>\n",
       "      <td>9</td>\n",
       "      <td>999999999</td>\n",
       "      <td>0</td>\n",
       "      <td>0.117</td>\n",
       "      <td>2</td>\n",
       "      <td>88</td>\n",
       "      <td>0.0</td>\n",
       "      <td>0.0</td>\n",
       "      <td>0.0</td>\n",
       "    </tr>\n",
       "    <tr>\n",
       "      <th>1986-12-31 22:00:00+01:00</th>\n",
       "      <td>1986</td>\n",
       "      <td>12</td>\n",
       "      <td>31</td>\n",
       "      <td>23</td>\n",
       "      <td>60</td>\n",
       "      <td>C9C9C9C9*0?9?9?9?9?9?9?9A7A7B8B8A7A7*0E8*0*0</td>\n",
       "      <td>3.7</td>\n",
       "      <td>2.9</td>\n",
       "      <td>94</td>\n",
       "      <td>99600</td>\n",
       "      <td>...</td>\n",
       "      <td>22000</td>\n",
       "      <td>9</td>\n",
       "      <td>999999999</td>\n",
       "      <td>0</td>\n",
       "      <td>0.117</td>\n",
       "      <td>2</td>\n",
       "      <td>88</td>\n",
       "      <td>0.0</td>\n",
       "      <td>0.0</td>\n",
       "      <td>0.0</td>\n",
       "    </tr>\n",
       "    <tr>\n",
       "      <th>1986-12-31 23:00:00+01:00</th>\n",
       "      <td>1986</td>\n",
       "      <td>12</td>\n",
       "      <td>31</td>\n",
       "      <td>24</td>\n",
       "      <td>60</td>\n",
       "      <td>C9C9C9C9*0?9?9?9?9?9?9?9A7A7B8B8A7A7*0E8*0*0</td>\n",
       "      <td>2.3</td>\n",
       "      <td>1.6</td>\n",
       "      <td>95</td>\n",
       "      <td>99800</td>\n",
       "      <td>...</td>\n",
       "      <td>1320</td>\n",
       "      <td>9</td>\n",
       "      <td>999999999</td>\n",
       "      <td>0</td>\n",
       "      <td>0.117</td>\n",
       "      <td>2</td>\n",
       "      <td>88</td>\n",
       "      <td>0.0</td>\n",
       "      <td>0.0</td>\n",
       "      <td>0.0</td>\n",
       "    </tr>\n",
       "  </tbody>\n",
       "</table>\n",
       "<p>8760 rows × 35 columns</p>\n",
       "</div>"
      ],
      "text/plain": [
       "                           year  month  day  hour  minute  \\\n",
       "1983-01-01 00:00:00+01:00  1983      1    1     1      60   \n",
       "1983-01-01 01:00:00+01:00  1983      1    1     2      60   \n",
       "1983-01-01 02:00:00+01:00  1983      1    1     3      60   \n",
       "1983-01-01 03:00:00+01:00  1983      1    1     4      60   \n",
       "1983-01-01 04:00:00+01:00  1983      1    1     5      60   \n",
       "...                         ...    ...  ...   ...     ...   \n",
       "1986-12-31 19:00:00+01:00  1986     12   31    20      60   \n",
       "1986-12-31 20:00:00+01:00  1986     12   31    21      60   \n",
       "1986-12-31 21:00:00+01:00  1986     12   31    22      60   \n",
       "1986-12-31 22:00:00+01:00  1986     12   31    23      60   \n",
       "1986-12-31 23:00:00+01:00  1986     12   31    24      60   \n",
       "\n",
       "                                                       data_source_unct  \\\n",
       "1983-01-01 00:00:00+01:00  C9C9C9C9*0?9?9?9?9?9?9?9A7A7A7A7A7A7*0E8*0*0   \n",
       "1983-01-01 01:00:00+01:00  C9C9C9C9*0?9?9?9?9?9?9?9A7A7B8B8A7A7*0E8*0*0   \n",
       "1983-01-01 02:00:00+01:00  C9C9C9C9*0?9?9?9?9?9?9?9A7A7B8B8A7A7*0E8*0*0   \n",
       "1983-01-01 03:00:00+01:00  C9C9C9C9*0?9?9?9?9?9?9?9A7A7A7A7A7A7*0E8*0*0   \n",
       "1983-01-01 04:00:00+01:00  C9C9C9C9*0?9?9?9?9?9?9?9A7A7B8B8A7A7*0E8*0*0   \n",
       "...                                                                 ...   \n",
       "1986-12-31 19:00:00+01:00  C9C9C9C9*0?9?9?9?9?9?9?9A7A7B8B8A7A7*0E8*0*0   \n",
       "1986-12-31 20:00:00+01:00  C9C9C9C9*0?9?9?9?9?9?9?9A7A7B8B8A7A7*0E8*0*0   \n",
       "1986-12-31 21:00:00+01:00  C9C9C9C9*0?9?9?9?9?9?9?9A7A7A7A7A7A7*0E8*0*0   \n",
       "1986-12-31 22:00:00+01:00  C9C9C9C9*0?9?9?9?9?9?9?9A7A7B8B8A7A7*0E8*0*0   \n",
       "1986-12-31 23:00:00+01:00  C9C9C9C9*0?9?9?9?9?9?9?9A7A7B8B8A7A7*0E8*0*0   \n",
       "\n",
       "                           temp_air  temp_dew  relative_humidity  \\\n",
       "1983-01-01 00:00:00+01:00       0.8       0.3                 96   \n",
       "1983-01-01 01:00:00+01:00      -0.6      -0.9                 97   \n",
       "1983-01-01 02:00:00+01:00      -1.5      -1.7                 98   \n",
       "1983-01-01 03:00:00+01:00      -1.9      -2.0                 99   \n",
       "1983-01-01 04:00:00+01:00      -2.1      -2.2                100   \n",
       "...                             ...       ...                ...   \n",
       "1986-12-31 19:00:00+01:00       5.9       4.7                 92   \n",
       "1986-12-31 20:00:00+01:00       5.5       4.5                 93   \n",
       "1986-12-31 21:00:00+01:00       4.9       3.9                 94   \n",
       "1986-12-31 22:00:00+01:00       3.7       2.9                 94   \n",
       "1986-12-31 23:00:00+01:00       2.3       1.6                 95   \n",
       "\n",
       "                           atmospheric_pressure  ...  ceiling_height  \\\n",
       "1983-01-01 00:00:00+01:00                100100  ...              15   \n",
       "1983-01-01 01:00:00+01:00                100300  ...              30   \n",
       "1983-01-01 02:00:00+01:00                100400  ...              30   \n",
       "1983-01-01 03:00:00+01:00                100500  ...              30   \n",
       "1983-01-01 04:00:00+01:00                100500  ...              30   \n",
       "...                                         ...  ...             ...   \n",
       "1986-12-31 19:00:00+01:00                 99400  ...           22000   \n",
       "1986-12-31 20:00:00+01:00                 99400  ...           22000   \n",
       "1986-12-31 21:00:00+01:00                 99500  ...           22000   \n",
       "1986-12-31 22:00:00+01:00                 99600  ...           22000   \n",
       "1986-12-31 23:00:00+01:00                 99800  ...            1320   \n",
       "\n",
       "                           present_weather_observation  present_weather_codes  \\\n",
       "1983-01-01 00:00:00+01:00                            0              999999599   \n",
       "1983-01-01 01:00:00+01:00                            0              999999599   \n",
       "1983-01-01 02:00:00+01:00                            0              999999599   \n",
       "1983-01-01 03:00:00+01:00                            0              999999599   \n",
       "1983-01-01 04:00:00+01:00                            0              999999599   \n",
       "...                                                ...                    ...   \n",
       "1986-12-31 19:00:00+01:00                            9              999999999   \n",
       "1986-12-31 20:00:00+01:00                            9              999999999   \n",
       "1986-12-31 21:00:00+01:00                            9              999999999   \n",
       "1986-12-31 22:00:00+01:00                            9              999999999   \n",
       "1986-12-31 23:00:00+01:00                            9              999999999   \n",
       "\n",
       "                           precipitable_water  aerosol_optical_depth  \\\n",
       "1983-01-01 00:00:00+01:00                   0                  0.204   \n",
       "1983-01-01 01:00:00+01:00                   0                  0.204   \n",
       "1983-01-01 02:00:00+01:00                   0                  0.204   \n",
       "1983-01-01 03:00:00+01:00                   0                  0.204   \n",
       "1983-01-01 04:00:00+01:00                   0                  0.204   \n",
       "...                                       ...                    ...   \n",
       "1986-12-31 19:00:00+01:00                   0                  0.117   \n",
       "1986-12-31 20:00:00+01:00                   0                  0.117   \n",
       "1986-12-31 21:00:00+01:00                   0                  0.117   \n",
       "1986-12-31 22:00:00+01:00                   0                  0.117   \n",
       "1986-12-31 23:00:00+01:00                   0                  0.117   \n",
       "\n",
       "                           snow_depth  days_since_last_snowfall  albedo  \\\n",
       "1983-01-01 00:00:00+01:00           0                        88     0.0   \n",
       "1983-01-01 01:00:00+01:00           0                        88     0.0   \n",
       "1983-01-01 02:00:00+01:00           0                        88     0.0   \n",
       "1983-01-01 03:00:00+01:00           0                        88     0.0   \n",
       "1983-01-01 04:00:00+01:00           0                        88     0.0   \n",
       "...                               ...                       ...     ...   \n",
       "1986-12-31 19:00:00+01:00           2                        88     0.0   \n",
       "1986-12-31 20:00:00+01:00           2                        88     0.0   \n",
       "1986-12-31 21:00:00+01:00           2                        88     0.0   \n",
       "1986-12-31 22:00:00+01:00           2                        88     0.0   \n",
       "1986-12-31 23:00:00+01:00           2                        88     0.0   \n",
       "\n",
       "                           liquid_precipitation_depth  \\\n",
       "1983-01-01 00:00:00+01:00                         0.0   \n",
       "1983-01-01 01:00:00+01:00                         0.0   \n",
       "1983-01-01 02:00:00+01:00                         0.0   \n",
       "1983-01-01 03:00:00+01:00                         0.0   \n",
       "1983-01-01 04:00:00+01:00                         0.0   \n",
       "...                                               ...   \n",
       "1986-12-31 19:00:00+01:00                         0.0   \n",
       "1986-12-31 20:00:00+01:00                         0.0   \n",
       "1986-12-31 21:00:00+01:00                         0.0   \n",
       "1986-12-31 22:00:00+01:00                         0.0   \n",
       "1986-12-31 23:00:00+01:00                         0.0   \n",
       "\n",
       "                           liquid_precipitation_quantity  \n",
       "1983-01-01 00:00:00+01:00                            0.0  \n",
       "1983-01-01 01:00:00+01:00                            0.0  \n",
       "1983-01-01 02:00:00+01:00                            0.0  \n",
       "1983-01-01 03:00:00+01:00                            0.0  \n",
       "1983-01-01 04:00:00+01:00                            0.0  \n",
       "...                                                  ...  \n",
       "1986-12-31 19:00:00+01:00                            0.0  \n",
       "1986-12-31 20:00:00+01:00                            0.0  \n",
       "1986-12-31 21:00:00+01:00                            0.0  \n",
       "1986-12-31 22:00:00+01:00                            0.0  \n",
       "1986-12-31 23:00:00+01:00                            0.0  \n",
       "\n",
       "[8760 rows x 35 columns]"
      ]
     },
     "execution_count": 3,
     "metadata": {},
     "output_type": "execute_result"
    }
   ],
   "source": [
    "[data, meta] = read_epw(filename, coerce_year=None)\n",
    "data"
   ]
  },
  {
   "cell_type": "markdown",
   "id": "f50f9eaf-f289-47eb-a261-0971da20b75c",
   "metadata": {},
   "source": [
    "#### Weather data is from different years\n",
    "\n",
    "The weather data from  [Climate One Buildings](http://climate.onebuilding.org) are [Typical Meteorological Years (TMY)](https://en.m.wikipedia.org/wiki/Typical_meteorological_year). Therefore, data for each month is from different years."
   ]
  },
  {
   "cell_type": "code",
   "execution_count": 4,
   "id": "c4d4d404-1752-4f7d-90b3-41c1bcdb767c",
   "metadata": {},
   "outputs": [
    {
     "data": {
      "text/html": [
       "<div>\n",
       "<style scoped>\n",
       "    .dataframe tbody tr th:only-of-type {\n",
       "        vertical-align: middle;\n",
       "    }\n",
       "\n",
       "    .dataframe tbody tr th {\n",
       "        vertical-align: top;\n",
       "    }\n",
       "\n",
       "    .dataframe thead th {\n",
       "        text-align: right;\n",
       "    }\n",
       "</style>\n",
       "<table border=\"1\" class=\"dataframe\">\n",
       "  <thead>\n",
       "    <tr style=\"text-align: right;\">\n",
       "      <th></th>\n",
       "      <th>Month-Year</th>\n",
       "    </tr>\n",
       "  </thead>\n",
       "  <tbody>\n",
       "    <tr>\n",
       "      <th>0</th>\n",
       "      <td>01-1983</td>\n",
       "    </tr>\n",
       "    <tr>\n",
       "      <th>1</th>\n",
       "      <td>02-1985</td>\n",
       "    </tr>\n",
       "    <tr>\n",
       "      <th>2</th>\n",
       "      <td>03-1998</td>\n",
       "    </tr>\n",
       "    <tr>\n",
       "      <th>3</th>\n",
       "      <td>04-1995</td>\n",
       "    </tr>\n",
       "    <tr>\n",
       "      <th>4</th>\n",
       "      <td>05-1986</td>\n",
       "    </tr>\n",
       "    <tr>\n",
       "      <th>5</th>\n",
       "      <td>06-1993</td>\n",
       "    </tr>\n",
       "    <tr>\n",
       "      <th>6</th>\n",
       "      <td>07-1982</td>\n",
       "    </tr>\n",
       "    <tr>\n",
       "      <th>7</th>\n",
       "      <td>08-1993</td>\n",
       "    </tr>\n",
       "    <tr>\n",
       "      <th>8</th>\n",
       "      <td>09-1988</td>\n",
       "    </tr>\n",
       "    <tr>\n",
       "      <th>9</th>\n",
       "      <td>10-1999</td>\n",
       "    </tr>\n",
       "    <tr>\n",
       "      <th>10</th>\n",
       "      <td>11-1991</td>\n",
       "    </tr>\n",
       "    <tr>\n",
       "      <th>11</th>\n",
       "      <td>12-1986</td>\n",
       "    </tr>\n",
       "  </tbody>\n",
       "</table>\n",
       "</div>"
      ],
      "text/plain": [
       "   Month-Year\n",
       "0     01-1983\n",
       "1     02-1985\n",
       "2     03-1998\n",
       "3     04-1995\n",
       "4     05-1986\n",
       "5     06-1993\n",
       "6     07-1982\n",
       "7     08-1993\n",
       "8     09-1988\n",
       "9     10-1999\n",
       "10    11-1991\n",
       "11    12-1986"
      ]
     },
     "execution_count": 4,
     "metadata": {},
     "output_type": "execute_result"
    }
   ],
   "source": [
    "# Extract the month and year from the DataFrame index with the format 'MM-YYYY'\n",
    "month_year = data.index.strftime('%m-%Y')\n",
    "\n",
    "# Create a set of unique month-year combinations\n",
    "unique_month_years = sorted(set(month_year))\n",
    "\n",
    "# Create a DataFrame from the unique month-year combinations\n",
    "pd.DataFrame(unique_month_years, columns=['Month-Year'])"
   ]
  },
  {
   "cell_type": "markdown",
   "id": "5f9530da-b33d-4ea1-b453-a2a6369c671b",
   "metadata": {
    "tags": []
   },
   "source": [
    "From the dataset, select:\n",
    "\n",
    "|EPW Data field | Mean during 1 h prior to timestamp   | Unit|\n",
    "|:------------ | ------------------------------------ | --- |\n",
    "|`temp_air`    |Dry bulb air temperature              |°C   |\n",
    "|`dir_n_rad`   |Direct normal radiation               |W·m⁻²|\n",
    "|`dif_h_rad`   |Diffuse horizontal radiation          |W·m⁻²|\n",
    "\n",
    "*Note*: For the description of `.epw` file, see [pvlib.iotools.epw](https://wholmgren-pvlib-python-new.readthedocs.io/en/stable/_modules/pvlib/iotools/epw.html).\n",
    "\n",
    "Since the values for each month are from different years, let's replace the different years with the same year, e.g. `2000`."
   ]
  },
  {
   "cell_type": "code",
   "execution_count": 5,
   "id": "9ed90e02-a7d0-4561-b903-4135af81a428",
   "metadata": {},
   "outputs": [],
   "source": [
    "# select columns of interest\n",
    "weather_data = data[[\"temp_air\", \"dir_n_rad\", \"dif_h_rad\"]]\n",
    "\n",
    "# replace year with 2000 in the index \n",
    "weather_data.index = weather_data.index.map(\n",
    "    lambda t: t.replace(year=2000))"
   ]
  },
  {
   "cell_type": "markdown",
   "id": "e6df6c0c-b6c9-4e35-807a-9b2926b5a12b",
   "metadata": {},
   "source": [
    "Let's check the weather data at a given date and time."
   ]
  },
  {
   "cell_type": "code",
   "execution_count": 6,
   "id": "f85a8b8a-6bf4-4748-b560-16cfa44c05c7",
   "metadata": {},
   "outputs": [
    {
     "data": {
      "text/plain": [
       "temp_air      25.7\n",
       "dir_n_rad    204.0\n",
       "dif_h_rad    423.0\n",
       "Name: 2000-06-29 12:00:00+01:00, dtype: float64"
      ]
     },
     "execution_count": 6,
     "metadata": {},
     "output_type": "execute_result"
    }
   ],
   "source": [
    "weather_data.loc['2000-06-29 12:00']"
   ]
  },
  {
   "cell_type": "markdown",
   "id": "900d410b-83a8-43f9-a478-a60d578b6ef5",
   "metadata": {},
   "source": [
    "#### Start and end time\n",
    "\n",
    "Select a period for:\n",
    "- air temperature, °C,\n",
    "- normal solar radiation, W·m⁻², \n",
    "- mean diffuse solar radiation received during 60 minutes prior to timestamp, W·m⁻². "
   ]
  },
  {
   "cell_type": "code",
   "execution_count": 7,
   "id": "27b24a18-40f7-43bb-966e-a2da5f5df720",
   "metadata": {},
   "outputs": [
    {
     "data": {
      "text/html": [
       "<div>\n",
       "<style scoped>\n",
       "    .dataframe tbody tr th:only-of-type {\n",
       "        vertical-align: middle;\n",
       "    }\n",
       "\n",
       "    .dataframe tbody tr th {\n",
       "        vertical-align: top;\n",
       "    }\n",
       "\n",
       "    .dataframe thead th {\n",
       "        text-align: right;\n",
       "    }\n",
       "</style>\n",
       "<table border=\"1\" class=\"dataframe\">\n",
       "  <thead>\n",
       "    <tr style=\"text-align: right;\">\n",
       "      <th></th>\n",
       "      <th>temp_air</th>\n",
       "      <th>dir_n_rad</th>\n",
       "      <th>dif_h_rad</th>\n",
       "    </tr>\n",
       "  </thead>\n",
       "  <tbody>\n",
       "    <tr>\n",
       "      <th>2000-06-29 12:00:00+01:00</th>\n",
       "      <td>25.7</td>\n",
       "      <td>204</td>\n",
       "      <td>423</td>\n",
       "    </tr>\n",
       "    <tr>\n",
       "      <th>2000-06-29 13:00:00+01:00</th>\n",
       "      <td>26.0</td>\n",
       "      <td>227</td>\n",
       "      <td>439</td>\n",
       "    </tr>\n",
       "    <tr>\n",
       "      <th>2000-06-29 14:00:00+01:00</th>\n",
       "      <td>26.0</td>\n",
       "      <td>265</td>\n",
       "      <td>407</td>\n",
       "    </tr>\n",
       "    <tr>\n",
       "      <th>2000-06-29 15:00:00+01:00</th>\n",
       "      <td>24.7</td>\n",
       "      <td>312</td>\n",
       "      <td>335</td>\n",
       "    </tr>\n",
       "    <tr>\n",
       "      <th>2000-06-29 16:00:00+01:00</th>\n",
       "      <td>19.0</td>\n",
       "      <td>166</td>\n",
       "      <td>294</td>\n",
       "    </tr>\n",
       "    <tr>\n",
       "      <th>...</th>\n",
       "      <td>...</td>\n",
       "      <td>...</td>\n",
       "      <td>...</td>\n",
       "    </tr>\n",
       "    <tr>\n",
       "      <th>2000-07-02 19:00:00+01:00</th>\n",
       "      <td>25.0</td>\n",
       "      <td>0</td>\n",
       "      <td>19</td>\n",
       "    </tr>\n",
       "    <tr>\n",
       "      <th>2000-07-02 20:00:00+01:00</th>\n",
       "      <td>24.0</td>\n",
       "      <td>0</td>\n",
       "      <td>2</td>\n",
       "    </tr>\n",
       "    <tr>\n",
       "      <th>2000-07-02 21:00:00+01:00</th>\n",
       "      <td>24.0</td>\n",
       "      <td>0</td>\n",
       "      <td>0</td>\n",
       "    </tr>\n",
       "    <tr>\n",
       "      <th>2000-07-02 22:00:00+01:00</th>\n",
       "      <td>24.0</td>\n",
       "      <td>0</td>\n",
       "      <td>0</td>\n",
       "    </tr>\n",
       "    <tr>\n",
       "      <th>2000-07-02 23:00:00+01:00</th>\n",
       "      <td>22.0</td>\n",
       "      <td>0</td>\n",
       "      <td>0</td>\n",
       "    </tr>\n",
       "  </tbody>\n",
       "</table>\n",
       "<p>84 rows × 3 columns</p>\n",
       "</div>"
      ],
      "text/plain": [
       "                           temp_air  dir_n_rad  dif_h_rad\n",
       "2000-06-29 12:00:00+01:00      25.7        204        423\n",
       "2000-06-29 13:00:00+01:00      26.0        227        439\n",
       "2000-06-29 14:00:00+01:00      26.0        265        407\n",
       "2000-06-29 15:00:00+01:00      24.7        312        335\n",
       "2000-06-29 16:00:00+01:00      19.0        166        294\n",
       "...                             ...        ...        ...\n",
       "2000-07-02 19:00:00+01:00      25.0          0         19\n",
       "2000-07-02 20:00:00+01:00      24.0          0          2\n",
       "2000-07-02 21:00:00+01:00      24.0          0          0\n",
       "2000-07-02 22:00:00+01:00      24.0          0          0\n",
       "2000-07-02 23:00:00+01:00      22.0          0          0\n",
       "\n",
       "[84 rows x 3 columns]"
      ]
     },
     "execution_count": 7,
     "metadata": {},
     "output_type": "execute_result"
    }
   ],
   "source": [
    "# Define start and end dates\n",
    "start_date = '2000-06-29 12:00'\n",
    "end_date = '2000-07-02'         # time is 00:00 if not indicated\n",
    "\n",
    "# Filter the data based on the start and end dates\n",
    "weather_data = weather_data.loc[start_date:end_date]\n",
    "del data\n",
    "weather_data"
   ]
  },
  {
   "cell_type": "markdown",
   "id": "bac497d4-a704-4576-be7a-51b542e9c2a7",
   "metadata": {},
   "source": [
    "#### Plot outdoor air temperature"
   ]
  },
  {
   "cell_type": "code",
   "execution_count": 8,
   "id": "5e19a553-2944-4028-8949-7ed87ce44d22",
   "metadata": {},
   "outputs": [
    {
     "data": {
      "image/png": "[encoded data removed]",
      "text/plain": [
       "<Figure size 640x480 with 1 Axes>"
      ]
     },
     "metadata": {},
     "output_type": "display_data"
    }
   ],
   "source": [
    "weather_data['temp_air'].plot()\n",
    "plt.xlabel(\"Time\")\n",
    "plt.ylabel(\"Dry-bulb air temperature, θ / °C\")\n",
    "plt.legend([])\n",
    "plt.show()"
   ]
  },
  {
   "cell_type": "markdown",
   "id": "319a18a8-aa83-46f2-96b7-741378fbfa11",
   "metadata": {
    "tags": []
   },
   "source": [
    "> Figure 1. Hourly dry bulb air temperature at timestamp."
   ]
  },
  {
   "cell_type": "markdown",
   "id": "23813984-1d56-4310-b7ee-14d2b4389856",
   "metadata": {},
   "source": [
    "#### Plot solar radiation: normal direct and horizontal diffuse"
   ]
  },
  {
   "cell_type": "code",
   "execution_count": 9,
   "id": "eddb8ebc-2686-434e-862f-08af01e1488c",
   "metadata": {},
   "outputs": [
    {
     "data": {
      "image/png": "[encoded data removed]",
      "text/plain": [
       "<Figure size 640x480 with 1 Axes>"
      ]
     },
     "metadata": {},
     "output_type": "display_data"
    }
   ],
   "source": [
    "weather_data[['dir_n_rad', 'dif_h_rad']].plot()\n",
    "plt.xlabel(\"Time\")\n",
    "plt.ylabel(\"Solar radiation, Φ / (W·m⁻²)\")\n",
    "plt.legend(['$Φ_{direct}$', '$Φ_{diffuse}$'])\n",
    "plt.show()"
   ]
  },
  {
   "cell_type": "markdown",
   "id": "7b2d35e9-b9e8-471f-a266-ae4d2a78c47a",
   "metadata": {},
   "source": [
    "> Figure 2. Hourly-mean direct normal and difuse horizontal solar radiation."
   ]
  },
  {
   "cell_type": "markdown",
   "id": "87599632-7359-498e-9959-01e54e28cc5d",
   "metadata": {},
   "source": [
    "### Solar radiation on a tilted surface\n",
    "\n",
    "#### Orientation of the tilted wall\n",
    "\n",
    "Knowing the [albedo](https://en.m.wikipedia.org/wiki/Albedo) of the surface which is in front of a tilted wall, the diffuse and reflected radiation incident on the wall can be calculated from weather data for each hour.\n",
    "\n",
    "Let's consider a wall at [latitude](https://en.m.wikipedia.org/wiki/Latitude) $\\phi$ with the orientation given by its slope angle, $\\beta$, and [azimuth angle](https://en.m.wikipedia.org/wiki/Azimuth), $\\gamma$."
   ]
  },
  {
   "cell_type": "code",
   "execution_count": 10,
   "id": "3edf4731-ecc9-47b3-b555-724e1425686f",
   "metadata": {},
   "outputs": [],
   "source": [
    "surface_orientation = {'slope': 90,     # 90° is vertical; > 90° downward\n",
    "                       'azimuth': 0,    # 0° South, positive westward\n",
    "                       'latitude': 45}  # °, North Pole 90° positive"
   ]
  },
  {
   "cell_type": "markdown",
   "id": "c10b0e88-9768-43f9-aec2-33bcee4ceae0",
   "metadata": {
    "tags": []
   },
   "source": [
    "![t01_orientation_angles](../figures/01_orientation_angles.svg)\n",
    ">Figure 3. Orientation of a surface: \n",
    ">- $\\beta$: slope angle: $\\beta = 90°$ is vertical; $\\beta > 90°$ is downward facing.\n",
    ">- $\\gamma$: azimuth angle: 0° South, positive westward, negative eastward. \n",
    ">- $\\theta$: incidence angle: angle between the solar beam on the surface and the normal to the surface.\n",
    ">\n",
    ">N, S, E, W: North, South, East and West, respectively. $\\vec{n}$ is the vector normal to the surface. ∟ represents right angles."
   ]
  },
  {
   "cell_type": "markdown",
   "id": "b0000e17-7a82-4635-bfbc-09bef8c4bda1",
   "metadata": {},
   "source": [
    "Let's consider that the [albedo](https://en.m.wikipedia.org/wiki/Albedo) of the surface in front of the wall is known."
   ]
  },
  {
   "cell_type": "code",
   "execution_count": 11,
   "id": "b26e5170-179a-41f0-9860-879452584669",
   "metadata": {},
   "outputs": [],
   "source": [
    "albedo = 0.2"
   ]
  },
  {
   "cell_type": "markdown",
   "id": "add018c8-7742-4160-846f-3edf338344c0",
   "metadata": {},
   "source": [
    "#### Plot the solar radiation"
   ]
  },
  {
   "cell_type": "code",
   "execution_count": 12,
   "id": "08fbc6ba-14b0-4c3c-a2f7-35474a59165e",
   "metadata": {},
   "outputs": [
    {
     "data": {
      "image/png": "[encoded data removed]",
      "text/plain": [
       "<Figure size 640x480 with 1 Axes>"
      ]
     },
     "metadata": {},
     "output_type": "display_data"
    }
   ],
   "source": [
    "rad_surf = sol_rad_tilt_surf(\n",
    "    weather_data, surface_orientation, albedo)\n",
    "\n",
    "rad_surf.plot()\n",
    "plt.xlabel(\"Time\")\n",
    "plt.ylabel(\"Solar irradiance,  Φ / (W·m⁻²)\")\n",
    "plt.show()"
   ]
  },
  {
   "cell_type": "markdown",
   "id": "1ac8001d-c735-49f8-ac63-7e81d74ae931",
   "metadata": {},
   "source": [
    ">Figure 4. Hourly-mean direct, diffuse and reflected irradiance on a tilted surface. "
   ]
  },
  {
   "cell_type": "markdown",
   "id": "fa514dcf-58cf-4a3b-b33d-c86883105bf8",
   "metadata": {},
   "source": [
    "The values of solar irradiance can be obtained for a specific date and time."
   ]
  },
  {
   "cell_type": "code",
   "execution_count": 13,
   "id": "59de22c8-a014-40f5-b11d-30a693171653",
   "metadata": {},
   "outputs": [
    {
     "name": "stdout",
     "output_type": "stream",
     "text": [
      "71 W/m²\n"
     ]
    }
   ],
   "source": [
    "print(f\"{rad_surf.loc['2000-06-29 12:00']['direct']:.0f} W/m²\")"
   ]
  },
  {
   "cell_type": "markdown",
   "id": "4662c8be-6a91-4bde-bf34-8a624265f857",
   "metadata": {},
   "source": [
    "Statistics, such as `mean` and `maximum` value, can be calculated."
   ]
  },
  {
   "cell_type": "code",
   "execution_count": 14,
   "id": "b2e265c9-de8a-4196-b36d-dfd5fa1b7553",
   "metadata": {},
   "outputs": [
    {
     "name": "stdout",
     "output_type": "stream",
     "text": [
      "Mean. direct irradiation: 39 W/m²\n",
      "Max. direct irradiation:  314 W/m²\n"
     ]
    }
   ],
   "source": [
    "print(f\"Mean. direct irradiation: {rad_surf['direct'].mean():.0f} W/m²\")\n",
    "print(f\"Max. direct irradiation:  {rad_surf['direct'].max():.0f} W/m²\")"
   ]
  },
  {
   "cell_type": "code",
   "execution_count": 15,
   "id": "b66f7b65-8b86-4e38-8aba-e0b7c6f9534f",
   "metadata": {},
   "outputs": [
    {
     "name": "stdout",
     "output_type": "stream",
     "text": [
      "Direct solar irradiance is maximum on 2000-07-01 11:00:00+01:00\n"
     ]
    }
   ],
   "source": [
    "print(f\"Direct solar irradiance is maximum on {rad_surf['direct'].idxmax()}\")"
   ]
  },
  {
   "cell_type": "markdown",
   "id": "02b5e59f-1a59-4f57-85a3-4a0e4ad4ff89",
   "metadata": {
    "tags": []
   },
   "source": [
    "## Calculation of solar radiation on a tilted surface from weather data\n",
    "\n",
    "Let’s consider a tilted surface having another surface (e.g., ground) in front of it. Given the weather data, the surface orientation, and the albedo of the ground in front of the surface, find the direct, diffuse and reflected solar radiation for this surface. The algoritm is implemented in the function `sol_rad_tilt_surf` of the `dm4bem.py` module."
   ]
  },
  {
   "cell_type": "markdown",
   "id": "c9d85b51-573c-46bc-8abd-f1ad769813e7",
   "metadata": {
    "tags": []
   },
   "source": [
    "### Surface orientation\n",
    "\n",
    "The orientation of the surface is given by the following angles ([Duffie et al. (2020), p.13](https://www.eng.uc.edu/~beaucag/Classes/SolarPowerForAfrica/Solar%20Engineering%20of%20Thermal%20Processes,%20Photovoltaics%20and%20Wind.pdf)):\n",
    "- $\\beta$ slope: slope or tilt angle from 0 to 180 degrees\n",
    "    - β = 0° - horizontal, upward facing;\n",
    "    - β = 90°- vertical;\n",
    "    - β < 90°- upward facing;\n",
    "    - β > 90°- downward facing;\n",
    "    - 180° - horizontal, downward facing.\n",
    "- $\\gamma$ azimuth: surface azimuth in degrees, $-180 ^{\\circ} \\leq \\gamma \\leq 180 ^{\\circ}$; 0-south; westward: positive; eastward: negatif.\n",
    "- $\\phi$ latitude: local latitude in degree $-90 ^{\\circ} \\leq \\phi \\leq 90 ^{\\circ}$; northward: positive, southward: negative."
   ]
  },
  {
   "cell_type": "code",
   "execution_count": 16,
   "id": "9efc07e9-03fb-44d7-92da-03c6c5a8797d",
   "metadata": {},
   "outputs": [],
   "source": [
    "β = surface_orientation['slope']\n",
    "γ = surface_orientation['azimuth']\n",
    "ϕ = surface_orientation['latitude']\n",
    "\n",
    "# Transform degrees in radians\n",
    "β = β * np.pi / 180\n",
    "γ = γ * np.pi / 180\n",
    "ϕ = ϕ * np.pi / 180\n",
    "\n",
    "n = weather_data.index.dayofyear"
   ]
  },
  {
   "cell_type": "markdown",
   "id": "27cdc80e-65dd-4311-b36b-8b451aa4ace2",
   "metadata": {
    "tags": []
   },
   "source": [
    "**Total solar radiation** is the amount of radiation received on a surface during the number of minutes preceding the time indicated:\n",
    "\n",
    "$$ G_{sr} = G_{dir} + G_{dif} + G_r$$\n",
    "\n",
    "where:\n",
    "\n",
    "- $G_{dir}$ **[direct normal](https://en.m.wikipedia.org/wiki/Direct_insolation)** or **beam radiation**: amount of solar radiation received directly from the solar disk on a surface perpendicular to the sun’s rays, during the number of minutes preceding the time indicated, W/m².\n",
    "\n",
    "- $G_{dif}$ **[diffuse radiation](https://en.m.wikipedia.org/wiki/Diffuse_sky_radiation)**: amount of solar radiation received after scattering by the atmosphere, W/m². It does not include the diffuse infrared radiation emitted by the atmosphere, W/m².\n",
    "\n",
    "- $G_r$ **[total solar radiation coming by reflection](https://en.m.wikipedia.org/wiki/Albedo)** from the surface in front of the wall (usually, ground), W/m²."
   ]
  },
  {
   "cell_type": "markdown",
   "id": "0d3709c3-8f84-4b24-92d8-457d3ecbe972",
   "metadata": {
    "tags": []
   },
   "source": [
    "### Direct radiation\n",
    "\n",
    "The direct radiation on the surface, $G_{dir}$, depends on the *direct normal (or beam) radiation*, $G_n$, and the *incidence angle*, $\\theta$, between the solar beam and the normal to the wall ([Réglementation Thermique 2005](https://pdfslide.fr/documents/rt2005-methode-de-calcul-th-ce.html), §11.2.1).\n",
    "\n",
    "In order to calculate the *incidence angle*, $\\theta$, we need:\n",
    "\n",
    "- $\\phi$ *[latitude](https://en.m.wikipedia.org/wiki/Latitude)*, the angle between the position and the Equator, ranging from 0° at the Equator to 90° at the North Pole and -90° at the South Pole. $-90 ^{\\circ} \\leq \\phi \\leq 90 ^{\\circ}$\n",
    "\n",
    "- $\\beta$ *slope*, the angle between the plane of the surface and the horizontal. $0 \\le \\beta \\le 180 ^{\\circ}$. If $\\beta = 0 ^{\\circ}$, the surface is horizontal, upward facing; if $0^{\\circ} < \\beta < 90^{\\circ}$, the surface is upward facing; if $\\beta = 90 ^{\\circ}$, the surface is vertical.\n",
    "\n",
    "- $\\gamma$ *[azimuth](https://en.m.wikipedia.org/wiki/Azimuth)*, the angle between the projection on a horizontal plane of the normal to the surface and the local meridian; south is zero, east negative, and west positive. $-180 ^{\\circ} \\leq \\gamma \\leq 180 ^{\\circ}$.\n",
    "\n",
    "- $\\delta$ *[declination angle](https://en.m.wikipedia.org/wiki/Declination)*, the angle between the sun at noon (i.e., when the sun is on the local meridian) and the plane of the equator, north positive ([Duffie et al. 2020](https://www.eng.uc.edu/~beaucag/Classes/SolarPowerForAfrica/Solar%20Engineering%20of%20Thermal%20Processes,%20Photovoltaics%20and%20Wind.pdf), eq. 1.6.1a, p. 14, [Réglementation Thermique 2005](https://pdfslide.fr/documents/rt2005-methode-de-calcul-th-ce.html) §11.2.1.1, eq. (78)):\n",
    "\n",
    "$$ \\delta = 23.45 \\sin \\left( 360 \\frac{284 + n}{365} \\right)$$"
   ]
  },
  {
   "cell_type": "code",
   "execution_count": 17,
   "id": "2be3bb50-7853-4ac2-a2c8-11780f5fee30",
   "metadata": {},
   "outputs": [],
   "source": [
    "declination_angle = 23.45 * np.sin(360 * (284 + n) / 365 * np.pi / 180)\n",
    "δ = declination_angle * np.pi / 180"
   ]
  },
  {
   "cell_type": "markdown",
   "id": "22e87fe0-ea7d-46f8-99cd-bb166fdc3927",
   "metadata": {
    "tags": []
   },
   "source": [
    "- $\\omega$ *[solar hour angle](https://en.m.wikipedia.org/wiki/Hour_angle#Solar_hour_angle)*, the angle between the sun and the local meridian due to rotation of the earth around its axis at 15° per hour ([Duffie et al. 2020, p.13](https://www.eng.uc.edu/~beaucag/Classes/SolarPowerForAfrica/Solar%20Engineering%20of%20Thermal%20Processes,%20Photovoltaics%20and%20Wind.pdf)):\n",
    "\n",
    "$$ \\omega = 15\\left ( hour + \\frac{minute}{60} - 12 \\right )$$\n",
    "\n",
    "where *hour* and *minute* is the [solar time](https://en.m.wikipedia.org/wiki/Solar_time#Mean_solar_time).\n",
    "\n",
    "Note: $-180 ^{\\circ} \\leq \\omega \\leq 180 ^{\\circ}$. $\\omega < 0$ in the morning, $\\omega = 0$ at noon, and $\\omega > 0$ in the afternoon. Hour angle is used with the declination to give the direction of a point on the celestial sphere."
   ]
  },
  {
   "cell_type": "code",
   "execution_count": 18,
   "id": "163fe70e-7487-495a-b180-8c5d425d2da6",
   "metadata": {},
   "outputs": [],
   "source": [
    "hour = weather_data.index.hour\n",
    "minute = weather_data.index.minute + 60\n",
    "hour_angle = 15 * ((hour + minute / 60) - 12)   # deg\n",
    "ω = hour_angle * np.pi / 180                    # rad"
   ]
  },
  {
   "cell_type": "markdown",
   "id": "c56602de-08c5-4457-abdf-6c01b4372fae",
   "metadata": {
    "tags": []
   },
   "source": [
    "The **[incidence angle](https://en.m.wikipedia.org/wiki/Angle_of_incidence)**, $\\theta$, is the angle between the solar beam on the surface and the normal to the surface ([Duffie et al. 2020](https://www.eng.uc.edu/~beaucag/Classes/SolarPowerForAfrica/Solar%20Engineering%20of%20Thermal%20Processes,%20Photovoltaics%20and%20Wind.pdf), eq. 1.6.2, p. 14):\n",
    "\n",
    "$$\\theta = \\arccos (\\sin \\delta \\sin \\phi \\cos \\beta - \\sin \\delta \\cos \\phi \\sin \\beta \\cos \\gamma + \\cos \\delta \\cos \\phi \\cos \\beta \\cos \\omega + \\cos \\delta \\sin \\phi \\sin \\beta \\cos \\gamma \\cos \\omega + \\cos \\delta \\sin \\beta \\sin \\gamma \\sin \\omega)$$\n",
    "\n",
    "If $\\beta \\le 90^\\circ$, then the sun is behind the surface. Therefore, if $\\theta > \\pi / 2$, then $\\theta = \\pi / 2$."
   ]
  },
  {
   "cell_type": "code",
   "execution_count": 19,
   "id": "691caccd-98b8-484d-9d70-5088ac23a391",
   "metadata": {},
   "outputs": [],
   "source": [
    "theta = np.sin(δ) * np.sin(ϕ) * np.cos(β) \\\n",
    "    - np.sin(δ) * np.cos(ϕ) * np.sin(β) * np.cos(γ) \\\n",
    "    + np.cos(δ) * np.cos(ϕ) * np.cos(β) * np.cos(ω) \\\n",
    "    + np.cos(δ) * np.sin(ϕ) * np.sin(β) * np.cos(γ) * np.cos(ω) \\\n",
    "    + np.cos(δ) * np.sin(β) * np.sin(γ) * np.sin(ω)\n",
    "\n",
    "theta = np.array(np.arccos(theta))\n",
    "theta = np.minimum(theta, np.pi / 2)"
   ]
  },
  {
   "cell_type": "markdown",
   "id": "335c4084-dadd-4449-9f9d-764bef586b08",
   "metadata": {
    "tags": []
   },
   "source": [
    "The **direct radiation**, $G_{dir}$ on the surface is:\n",
    "\n",
    "$$G_{dir} = G_{dir,n} \\cos \\theta$$\n",
    "\n",
    "$$G_{dir} \\geq 0$$\n",
    "\n",
    "where *direct normal radiation* or *beam radiation*, $G_n$, is the amount of solar radiation (in W/m²) received directly from the solar disk on the surface perpendicular to the sun’s rays during the number of minutes preceding the time indicated. It is given by weather data."
   ]
  },
  {
   "cell_type": "code",
   "execution_count": 20,
   "id": "b8d70796-bad0-465a-bdbf-7f0d1e52a0fb",
   "metadata": {
    "tags": []
   },
   "outputs": [],
   "source": [
    "dir_rad = weather_data[\"dir_n_rad\"] * np.cos(theta)\n",
    "dir_rad[dir_rad < 0] = 0"
   ]
  },
  {
   "cell_type": "markdown",
   "id": "39d85cd9-9bcb-466c-9c3b-660f50335195",
   "metadata": {
    "tags": []
   },
   "source": [
    "### Diffuse radiation\n",
    "\n",
    "The diffuse radiation on the wall is a function of its slope, $\\beta$, and \n",
    "the isotropic diffuse solar radiation, $G_{dif,h}$, ([Réglementation thermique 2005](https://pdfslide.fr/documents/rt2005-methode-de-calcul-th-ce.html), §1.2.1.2, eq. 79, p. 31):\n",
    "\n",
    "$$ G_{dif} = G_{dif,h} \\frac{1 + \\cos \\beta}{2}$$\n",
    "\n",
    "Note: $\\forall \\beta, \\frac{1 + \\cos \\beta}{2} \\geq 0.$"
   ]
  },
  {
   "cell_type": "code",
   "execution_count": 21,
   "id": "dc1433f1-9ab8-4bfe-aa4d-57e831c4b0bb",
   "metadata": {},
   "outputs": [],
   "source": [
    "dif_rad = weather_data[\"dif_h_rad\"] * (1 + np.cos(β)) / 2"
   ]
  },
  {
   "cell_type": "markdown",
   "id": "0ad26b98-c46c-4f0a-aa99-a556aad73a56",
   "metadata": {
    "tags": []
   },
   "source": [
    "### Solar radiation reflected by the ground\n",
    "\n",
    "Considering the radiation reflected by the ground as isotropic, the reflected radiation that gets onto the wall is a function of its slope, albedo and total horizontal radiation ([Réglementation Thermique 2005](https://pdfslide.fr/documents/rt2005-methode-de-calcul-th-ce.html),  §11.2.1.3).\n",
    "\n",
    "The normal horizontal radiation is ([Réglementation Thermique 2005](https://pdfslide.fr/documents/rt2005-methode-de-calcul-th-ce.html) eq. 80):\n",
    "\n",
    "$$ G_{dir,h} = G_{dir,n} \\sin \\gamma$$"
   ]
  },
  {
   "cell_type": "code",
   "execution_count": 22,
   "id": "fa0ba0c1-387f-4420-85e4-31d1da66e173",
   "metadata": {
    "tags": []
   },
   "outputs": [],
   "source": [
    "gamma = np.cos(δ) * np.cos(ϕ) * np.cos(ω) \\\n",
    "    + np.sin(δ) * np.sin(ϕ)\n",
    "\n",
    "gamma = np.array(np.arcsin(gamma))\n",
    "gamma[gamma < 1e-5] = 1e-5\n",
    "\n",
    "dir_h_rad = weather_data[\"dir_n_rad\"] * np.sin(gamma)"
   ]
  },
  {
   "cell_type": "markdown",
   "id": "7bdf8aef-d950-44fd-881e-1efce3f98a47",
   "metadata": {
    "tags": []
   },
   "source": [
    "The total radiation received by reflection is:\n",
    "\n",
    "$$G_r = (G_{dir,h} + G_{dif,h}) \\, \\rho \\, \\frac{1 - \\cos \\beta}{2}$$\n",
    "\n",
    "where $\\rho$ is the [albedo](https://en.m.wikipedia.org/wiki/Albedo) (or the reflection coefficient) of the surface and $\\beta$ is the slope of the surface.\n",
    "\n",
    "Note: $\\forall \\beta, \\frac{1 - \\cos \\beta}{2} \\geq 0.$"
   ]
  },
  {
   "cell_type": "code",
   "execution_count": 23,
   "id": "f243bb80-8570-4007-bfe8-1d4594bbf129",
   "metadata": {},
   "outputs": [],
   "source": [
    "ref_rad = (dir_h_rad + weather_data[\"dif_h_rad\"]) * albedo \\\n",
    "        * (1 - np.cos(β) / 2)"
   ]
  },
  {
   "cell_type": "markdown",
   "id": "ae400472-1031-49cf-85e9-e45a71afe069",
   "metadata": {
    "tags": []
   },
   "source": [
    "### Definitions\n",
    "\n",
    "#### Radiation and time\n",
    "$G_{dir,n}$ **Direct normal** or **beam radiation**. Amount of solar radiation in Wh/m² received directly from the solar disk on a surface perpendicular to the sun’s rays, during the number of minutes preceding the time indicated.\n",
    "\n",
    "$G_{dif,h}$ **Diffuse horizontal radiation**. Amount of solar radiation in Wh/m² received after scattering by the atmosphere. This definition distinguishes the diffuse solar radiation from infrared radiation emitted by the atmosphere.\n",
    "\n",
    "**Total Solar Radiation**. Total amount of direct and diffuse solar radiation in Wh/m² received on a  surface during the number of minutes preceding the time indicated.\n",
    "\n",
    "**Global radiation.** Total solar radiation given on a horizontal surface.\n",
    "\n",
    "**Solar Time.** Time based on the apparent position of the sun in the sky with noon the time when the sun crosses the observer meridian. \n",
    "\n",
    "#### Definitions for angles (in degrees)\n",
    "\n",
    "$\\phi$ **Latitude.** Angle between the position and the Equator, ranging from 0° at the Equator to 90° at the North Pole and -90° at the South Pole. $-90 ^{\\circ} \\leq \\phi \\leq 90 ^{\\circ}$\n",
    "\n",
    "$\\beta$ **Slope.** Angle between the plane of the surface and the horizontal. $\\beta = 0$ means that the surface is horizontal, upward facing; $0 \\le \\beta \\le 180 ^{\\circ}$. $\\beta < 90^{\\circ}$ means that the surface is upward facing; $\\beta = 90^{\\circ}$ the surface is vertical.\n",
    "\n",
    "$\\gamma$ **Azimuth.** Angle between the projection on a horizontal plane of the normal to the surface and the local meridian; south is zero, east negative, and west positive. $-180 ^{\\circ} \\leq \\gamma \\leq 180^{\\circ}$.\n",
    "\n",
    "$\\delta$ **Declination.** Angle between the sun at noon (i.e., when the sun is on the local meridian) and the plane of the equator, north positive ([Duffie et al. 2020](https://www.eng.uc.edu/~beaucag/Classes/SolarPowerForAfrica/Solar%20Engineering%20of%20Thermal%20Processes,%20Photovoltaics%20and%20Wind.pdf), eq. 1.6.1a):\n",
    "\n",
    "$$ \\delta = 23.45 \\sin \\left( 360 \\frac{284 + n}{365} \\right)$$\n",
    "\n",
    "where $n$ is the day of the year. $-23.45 ^{\\circ} \\leq \\delta \\leq 23.45 ^{\\circ}$. Declination is used with hour angle to give the direction of a point on the celestial sphere.\n",
    "\n",
    "$\\omega$ **Hour angle.** Angle between the sun and the local meridian due to rotation of the earth around its axis at 15° per hour ([Duffie et al. 2020](https://www.eng.uc.edu/~beaucag/Classes/SolarPowerForAfrica/Solar%20Engineering%20of%20Thermal%20Processes,%20Photovoltaics%20and%20Wind.pdf), Example 1.6.1 p.15):\n",
    "\n",
    "$$ \\omega = 15\\left ( h + \\frac{min}{60} - 12 \\right )$$\n",
    "\n",
    "where $h$ and $min$ are hours and and minutes of the solar time, respectively. The hour angle is $-180 ^{\\circ} \\leq \\omega \\leq 180 ^{\\circ}$, with $\\omega < 0$ in the morning, $\\omega = 0$ at noon, and $\\omega > 0$ in the afternoon. Hour angle is used with the declination to give the direction of a point on the [celestial sphere](https://en.wikipedia.org/wiki/Celestial_sphere).\n",
    "\n",
    "$\\theta$ **Incidence.** Angle between the solar beam on the surface and the normal to the surface ([Duffie et al. 2020](https://www.eng.uc.edu/~beaucag/Classes/SolarPowerForAfrica/Solar%20Engineering%20of%20Thermal%20Processes,%20Photovoltaics%20and%20Wind.pdf), eq. 1.6.2):\n",
    "\n",
    "$$\\theta = \\arccos (\\sin \\delta \\sin \\phi \\cos \\beta - \\sin \\delta \\cos \\phi \\sin \\beta \\cos \\gamma + \\cos \\delta \\cos \\phi \\cos \\beta \\cos \\omega + \\cos \\delta \\sin \\phi \\sin \\beta \\cos \\gamma \\cos \\omega + \\cos \\delta \\sin \\beta \\sin \\gamma \\sin \\omega)$$\n",
    "\n"
   ]
  },
  {
   "cell_type": "markdown",
   "id": "9b3a7d18-8134-4c03-b5fe-ee624567e94d",
   "metadata": {
    "tags": []
   },
   "source": [
    "## References\n",
    "\n",
    "1. [Duffie, J.A., Beckman,  W. A., Blair,  N. (2020)](https://www.eng.uc.edu/~beaucag/Classes/SolarPowerForAfrica/Solar%20Engineering%20of%20Thermal%20Processes,%20Photovoltaics%20and%20Wind.pdf) Solar Engineering of Thermal Processes, 5th ed. John Wiley & Sons, Inc. ISBN 9781119540281\n",
    "\n",
    "2. [Réglementation Thermique 2005. Méthode de calcul Th-CE.](https://pdfslide.fr/documents/rt2005-methode-de-calcul-th-ce.html) Annexe à l’arrêté du 19 juillet 2006\n",
    "\n",
    "3. [US Department of Energy (2022)](https://energyplus.net/assets/nrel_custom/pdfs/pdfs_v22.1.0/EngineeringReference.pdf) EnergyPlus™ Engineering Reference, version 22.1.0, © 1996-2022"
   ]
  },
  {
   "cell_type": "code",
   "execution_count": null,
   "id": "317fbaad-89fb-4652-b0d4-58a7f452b408",
   "metadata": {},
   "outputs": [],
   "source": []
  }
 ],
 "metadata": {
  "kernelspec": {
   "display_name": "Python 3 (ipykernel)",
   "language": "python",
   "name": "python3"
  },
  "language_info": {
   "codemirror_mode": {
    "name": "ipython",
    "version": 3
   },
   "file_extension": ".py",
   "mimetype": "text/x-python",
   "name": "python",
   "nbconvert_exporter": "python",
   "pygments_lexer": "ipython3",
   "version": "3.11.7"
  },
  "toc-autonumbering": true
 },
 "nbformat": 4,
 "nbformat_minor": 5
}

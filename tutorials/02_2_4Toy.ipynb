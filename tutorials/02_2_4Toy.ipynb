{
 "cells": [
  {
   "cell_type": "markdown",
   "id": "35a53b91-f1eb-4c06-983f-3aaa32ac5a87",
   "metadata": {
    "tags": []
   },
   "source": [
    "# Simulation: perfect controller\n",
    "\n",
    "[![Binder](https://mybinder.org/badge_logo.svg)](https://mybinder.org/v2/gh/cghiaus/dm4bem_book/HEAD?labpath=%2Ftutorials%2F02_2_4Toy.ipynb)\n",
    "\n",
    "The simulation is done by [numerical integration](https://en.m.wikipedia.org/wiki/Numerical_integration) of the [state-space](https://en.m.wikipedia.org/wiki/State-space_representation) representation by using the description of the model as a thermal circuit, the input data set, and the weather data.\n",
    "\n",
    "**Objectives:**\n",
    "- Resample the inputs at time step.\n",
    "- Create input vector in time.\n",
    "- Integrate in time the state-space model.\n",
    "- Plot the results."
   ]
  },
  {
   "cell_type": "code",
   "execution_count": 1,
   "id": "764b77e2-3f93-4484-9842-6b328305d517",
   "metadata": {},
   "outputs": [],
   "source": [
    "import numpy as np\n",
    "import pandas as pd\n",
    "import matplotlib.pyplot as plt\n",
    "import control as ctrl\n",
    "import time\n",
    "\n",
    "import dm4bem"
   ]
  },
  {
   "cell_type": "markdown",
   "id": "98527554-20fe-4840-9f5c-9466e6853d29",
   "metadata": {},
   "source": [
    "The following assumptions are done:\n",
    "- The indoor air temperature is controlled or not (i.e., the building is in free running) by a P-controller having the gain $K_p.$\n",
    "- The capacities of the air and of the glass can be neglected or not.\n",
    "- The time integration is done by using Euler explicit or Euler implicit.\n",
    "- The time step is calculated from the eigenvalues of the state matrix or it is imposed at a value designated as $\\Delta t$."
   ]
  },
  {
   "cell_type": "code",
   "execution_count": 2,
   "id": "444b1508-679d-4b98-b327-b08ae19dbce2",
   "metadata": {},
   "outputs": [],
   "source": [
    "controller = True\n",
    "Kp = 1e3    # controller gain\n",
    "\n",
    "neglect_air_capacity = False\n",
    "neglect_glass_capacity = False\n",
    "\n",
    "explicit_Euler = True\n",
    "\n",
    "imposed_time_step = False\n",
    "Δt = 3600    # s, imposed time step "
   ]
  },
  {
   "cell_type": "markdown",
   "id": "31983018-3175-4288-b244-bbf58e0c18b4",
   "metadata": {},
   "source": [
    "## State-space representation\n",
    "\n",
    "The thermal circuit was described in the section on modelling. It is read from the file `./toy_model/TC.csv`. Thermal circuit is transformed in state-space representation."
   ]
  },
  {
   "cell_type": "code",
   "execution_count": 3,
   "id": "dce99e6d-6327-42f4-933d-8d1bb7dc4aa2",
   "metadata": {},
   "outputs": [
    {
     "name": "stdout",
     "output_type": "stream",
     "text": [
      "A:\n",
      "      θ0   θ1   θ2   θ3   θ4   θ5   θ6   θ7\n",
      "q0   1.0  0.0  0.0  0.0  0.0  0.0  0.0  0.0\n",
      "q1  -1.0  1.0  0.0  0.0  0.0  0.0  0.0  0.0\n",
      "q2   0.0 -1.0  1.0  0.0  0.0  0.0  0.0  0.0\n",
      "q3   0.0  0.0 -1.0  1.0  0.0  0.0  0.0  0.0\n",
      "q4   0.0  0.0  0.0 -1.0  1.0  0.0  0.0  0.0\n",
      "q5   0.0  0.0  0.0  0.0 -1.0  1.0  0.0  0.0\n",
      "q6   0.0  0.0  0.0  0.0 -1.0  0.0  1.0  0.0\n",
      "q7   0.0  0.0  0.0  0.0  0.0 -1.0  1.0  0.0\n",
      "q8   0.0  0.0  0.0  0.0  0.0  0.0  0.0  1.0\n",
      "q9   0.0  0.0  0.0  0.0  0.0  1.0  0.0 -1.0\n",
      "q10  0.0  0.0  0.0  0.0  0.0  0.0  1.0  0.0\n",
      "q11  0.0  0.0  0.0  0.0  0.0  0.0  1.0  0.0 \n",
      "\n",
      "G:\n",
      "q0     1125.000000\n",
      "q1      630.000000\n",
      "q2      630.000000\n",
      "q3       30.375000\n",
      "q4       30.375000\n",
      "q5       44.786824\n",
      "q6      360.000000\n",
      "q7       72.000000\n",
      "q8      165.789474\n",
      "q9      630.000000\n",
      "q10       9.000000\n",
      "q11    1000.000000\n",
      "Name: G, dtype: float64 \n",
      "\n",
      "C:\n",
      "θ0           0.0\n",
      "θ1    18216000.0\n",
      "θ2           0.0\n",
      "θ3      239580.0\n",
      "θ4           0.0\n",
      "θ5           0.0\n",
      "θ6       32400.0\n",
      "θ7     1089000.0\n",
      "Name: C, dtype: float64 \n",
      "\n",
      "b:\n",
      "q0        To\n",
      "q1         0\n",
      "q2         0\n",
      "q3         0\n",
      "q4         0\n",
      "q5         0\n",
      "q6         0\n",
      "q7         0\n",
      "q8        To\n",
      "q9         0\n",
      "q10       To\n",
      "q11    Ti_sp\n",
      "Name: b, dtype: object \n",
      "\n",
      "f:\n",
      "θ0     Φo\n",
      "θ1    0.0\n",
      "θ2    0.0\n",
      "θ3    0.0\n",
      "θ4     Φi\n",
      "θ5    0.0\n",
      "θ6     Qa\n",
      "θ7     Φa\n",
      "Name: f, dtype: object \n",
      "\n",
      "y:\n",
      "θ0    0\n",
      "θ1    0\n",
      "θ2    0\n",
      "θ3    0\n",
      "θ4    0\n",
      "θ5    0\n",
      "θ6    1\n",
      "θ7    0\n",
      "Name: y, dtype: int64 \n",
      "\n"
     ]
    }
   ],
   "source": [
    "# MODEL\n",
    "# =====\n",
    "# Thermal circuits\n",
    "TC = dm4bem.file2TC('./toy_model/TC.csv', name='', auto_number=False)\n",
    "\n",
    "# by default TC['G']['q11'] = 0 # Kp -> 0, no controller (free-floating\n",
    "if controller:\n",
    "    TC['G']['q11'] = Kp     # Kp -> ∞, almost perfect controller\n",
    "\n",
    "if neglect_air_capacity:\n",
    "    TC['C']['θ6'] = 0\n",
    "if neglect_glass_capacity:\n",
    "    TC['C']['θ7'] = 0\n",
    "\n",
    "# State-space\n",
    "[As, Bs, Cs, Ds, us] = dm4bem.tc2ss(TC)\n",
    "dm4bem.print_TC(TC)"
   ]
  },
  {
   "cell_type": "markdown",
   "id": "8ebf3566-5184-436f-826b-4dbbbaf9dfe9",
   "metadata": {
    "tags": []
   },
   "source": [
    "The condition for [numerical stability](https://en.m.wikipedia.org/wiki/Euler_method#Numerical_stability) of [Euler explicit integration](https://en.m.wikipedia.org/wiki/Numerical_methods_for_ordinary_differential_equations#Euler_method),\n",
    "\n",
    "$$\\Delta t_{max} = \\min (-2 / \\lambda_i)$$ \n",
    "\n",
    "where $\\lambda_i$ are the eigenvalues of the state matrix, gives the time step used in numerical integration."
   ]
  },
  {
   "cell_type": "code",
   "execution_count": 4,
   "id": "73f71b16-703a-495c-927a-612945d489d9",
   "metadata": {},
   "outputs": [
    {
     "name": "stdout",
     "output_type": "stream",
     "text": [
      "dt = 50 s\n"
     ]
    }
   ],
   "source": [
    "λ = np.linalg.eig(As)[0]    # eigenvalues of matrix As\n",
    "dtmax = 2 * min(-1. / λ)    # max time step for Euler explicit stability\n",
    "dt = dm4bem.round_time(dtmax)\n",
    "\n",
    "if imposed_time_step:\n",
    "    dt = Δt\n",
    "\n",
    "dm4bem.print_rounded_time('dt', dt)"
   ]
  },
  {
   "cell_type": "markdown",
   "id": "dfe371ae-4fba-4f1b-8dbd-ec2c98f53e1d",
   "metadata": {},
   "source": [
    "## Input data set\n",
    "\n",
    "### One-hour time step\n",
    "The input data set was described in the section on inputs. It is at the samplining time of 1 h (according to the weather file `.epw`, see notebook on [Inputs](02_2_3Toy.ipynb))."
   ]
  },
  {
   "cell_type": "code",
   "execution_count": 5,
   "id": "bd392c9d-9cdd-4e13-9a3e-5b041a474466",
   "metadata": {},
   "outputs": [
    {
     "data": {
      "text/html": [
       "<div>\n",
       "<style scoped>\n",
       "    .dataframe tbody tr th:only-of-type {\n",
       "        vertical-align: middle;\n",
       "    }\n",
       "\n",
       "    .dataframe tbody tr th {\n",
       "        vertical-align: top;\n",
       "    }\n",
       "\n",
       "    .dataframe thead th {\n",
       "        text-align: right;\n",
       "    }\n",
       "</style>\n",
       "<table border=\"1\" class=\"dataframe\">\n",
       "  <thead>\n",
       "    <tr style=\"text-align: right;\">\n",
       "      <th></th>\n",
       "      <th>To</th>\n",
       "      <th>Ti_sp</th>\n",
       "      <th>Φo</th>\n",
       "      <th>Φi</th>\n",
       "      <th>Qa</th>\n",
       "      <th>Φa</th>\n",
       "      <th>Etot</th>\n",
       "    </tr>\n",
       "  </thead>\n",
       "  <tbody>\n",
       "    <tr>\n",
       "      <th>2000-02-01 12:00:00+01:00</th>\n",
       "      <td>10.0</td>\n",
       "      <td>20</td>\n",
       "      <td>963.900000</td>\n",
       "      <td>48.195000</td>\n",
       "      <td>0.0</td>\n",
       "      <td>244.188000</td>\n",
       "      <td>71.400000</td>\n",
       "    </tr>\n",
       "    <tr>\n",
       "      <th>2000-02-01 13:00:00+01:00</th>\n",
       "      <td>11.0</td>\n",
       "      <td>20</td>\n",
       "      <td>945.000000</td>\n",
       "      <td>47.250000</td>\n",
       "      <td>0.0</td>\n",
       "      <td>239.400000</td>\n",
       "      <td>70.000000</td>\n",
       "    </tr>\n",
       "    <tr>\n",
       "      <th>2000-02-01 14:00:00+01:00</th>\n",
       "      <td>13.0</td>\n",
       "      <td>20</td>\n",
       "      <td>4071.565031</td>\n",
       "      <td>203.578252</td>\n",
       "      <td>0.0</td>\n",
       "      <td>1031.463141</td>\n",
       "      <td>301.597410</td>\n",
       "    </tr>\n",
       "    <tr>\n",
       "      <th>2000-02-01 15:00:00+01:00</th>\n",
       "      <td>11.0</td>\n",
       "      <td>20</td>\n",
       "      <td>548.100000</td>\n",
       "      <td>27.405000</td>\n",
       "      <td>0.0</td>\n",
       "      <td>138.852000</td>\n",
       "      <td>40.600000</td>\n",
       "    </tr>\n",
       "    <tr>\n",
       "      <th>2000-02-01 16:00:00+01:00</th>\n",
       "      <td>11.0</td>\n",
       "      <td>20</td>\n",
       "      <td>453.600000</td>\n",
       "      <td>22.680000</td>\n",
       "      <td>0.0</td>\n",
       "      <td>114.912000</td>\n",
       "      <td>33.600000</td>\n",
       "    </tr>\n",
       "    <tr>\n",
       "      <th>...</th>\n",
       "      <td>...</td>\n",
       "      <td>...</td>\n",
       "      <td>...</td>\n",
       "      <td>...</td>\n",
       "      <td>...</td>\n",
       "      <td>...</td>\n",
       "      <td>...</td>\n",
       "    </tr>\n",
       "    <tr>\n",
       "      <th>2000-02-07 14:00:00+01:00</th>\n",
       "      <td>6.0</td>\n",
       "      <td>20</td>\n",
       "      <td>2153.962611</td>\n",
       "      <td>107.698131</td>\n",
       "      <td>0.0</td>\n",
       "      <td>545.670528</td>\n",
       "      <td>159.552786</td>\n",
       "    </tr>\n",
       "    <tr>\n",
       "      <th>2000-02-07 15:00:00+01:00</th>\n",
       "      <td>6.0</td>\n",
       "      <td>20</td>\n",
       "      <td>1939.496251</td>\n",
       "      <td>96.974813</td>\n",
       "      <td>0.0</td>\n",
       "      <td>491.339050</td>\n",
       "      <td>143.666389</td>\n",
       "    </tr>\n",
       "    <tr>\n",
       "      <th>2000-02-07 16:00:00+01:00</th>\n",
       "      <td>6.0</td>\n",
       "      <td>20</td>\n",
       "      <td>734.151990</td>\n",
       "      <td>36.707599</td>\n",
       "      <td>0.0</td>\n",
       "      <td>185.985171</td>\n",
       "      <td>54.381629</td>\n",
       "    </tr>\n",
       "    <tr>\n",
       "      <th>2000-02-07 17:00:00+01:00</th>\n",
       "      <td>5.0</td>\n",
       "      <td>20</td>\n",
       "      <td>94.500000</td>\n",
       "      <td>4.725000</td>\n",
       "      <td>0.0</td>\n",
       "      <td>23.940000</td>\n",
       "      <td>7.000000</td>\n",
       "    </tr>\n",
       "    <tr>\n",
       "      <th>2000-02-07 18:00:00+01:00</th>\n",
       "      <td>4.2</td>\n",
       "      <td>20</td>\n",
       "      <td>0.000000</td>\n",
       "      <td>0.000000</td>\n",
       "      <td>0.0</td>\n",
       "      <td>0.000000</td>\n",
       "      <td>0.000000</td>\n",
       "    </tr>\n",
       "  </tbody>\n",
       "</table>\n",
       "<p>151 rows × 7 columns</p>\n",
       "</div>"
      ],
      "text/plain": [
       "                             To  Ti_sp           Φo          Φi   Qa  \\\n",
       "2000-02-01 12:00:00+01:00  10.0     20   963.900000   48.195000  0.0   \n",
       "2000-02-01 13:00:00+01:00  11.0     20   945.000000   47.250000  0.0   \n",
       "2000-02-01 14:00:00+01:00  13.0     20  4071.565031  203.578252  0.0   \n",
       "2000-02-01 15:00:00+01:00  11.0     20   548.100000   27.405000  0.0   \n",
       "2000-02-01 16:00:00+01:00  11.0     20   453.600000   22.680000  0.0   \n",
       "...                         ...    ...          ...         ...  ...   \n",
       "2000-02-07 14:00:00+01:00   6.0     20  2153.962611  107.698131  0.0   \n",
       "2000-02-07 15:00:00+01:00   6.0     20  1939.496251   96.974813  0.0   \n",
       "2000-02-07 16:00:00+01:00   6.0     20   734.151990   36.707599  0.0   \n",
       "2000-02-07 17:00:00+01:00   5.0     20    94.500000    4.725000  0.0   \n",
       "2000-02-07 18:00:00+01:00   4.2     20     0.000000    0.000000  0.0   \n",
       "\n",
       "                                    Φa        Etot  \n",
       "2000-02-01 12:00:00+01:00   244.188000   71.400000  \n",
       "2000-02-01 13:00:00+01:00   239.400000   70.000000  \n",
       "2000-02-01 14:00:00+01:00  1031.463141  301.597410  \n",
       "2000-02-01 15:00:00+01:00   138.852000   40.600000  \n",
       "2000-02-01 16:00:00+01:00   114.912000   33.600000  \n",
       "...                                ...         ...  \n",
       "2000-02-07 14:00:00+01:00   545.670528  159.552786  \n",
       "2000-02-07 15:00:00+01:00   491.339050  143.666389  \n",
       "2000-02-07 16:00:00+01:00   185.985171   54.381629  \n",
       "2000-02-07 17:00:00+01:00    23.940000    7.000000  \n",
       "2000-02-07 18:00:00+01:00     0.000000    0.000000  \n",
       "\n",
       "[151 rows x 7 columns]"
      ]
     },
     "execution_count": 5,
     "metadata": {},
     "output_type": "execute_result"
    }
   ],
   "source": [
    "# INPUT DATA SET\n",
    "# ==============\n",
    "input_data_set = pd.read_csv('./toy_model/input_data_set.csv',\n",
    "                             index_col=0,\n",
    "                             parse_dates=True)\n",
    "input_data_set"
   ]
  },
  {
   "cell_type": "markdown",
   "id": "8a69eb0e-9630-4797-a744-bfa3caefef30",
   "metadata": {
    "tags": []
   },
   "source": [
    "### Resample input data set\n",
    "\n",
    "The weather data and the scheduled sources are at the time-step of 1 h. The data needs to be resampled at time step `dt` used for numerical integration."
   ]
  },
  {
   "cell_type": "code",
   "execution_count": 6,
   "id": "f7b71fce-f694-4a93-a971-5d0fdf19c59e",
   "metadata": {},
   "outputs": [
    {
     "data": {
      "text/html": [
       "<div>\n",
       "<style scoped>\n",
       "    .dataframe tbody tr th:only-of-type {\n",
       "        vertical-align: middle;\n",
       "    }\n",
       "\n",
       "    .dataframe tbody tr th {\n",
       "        vertical-align: top;\n",
       "    }\n",
       "\n",
       "    .dataframe thead th {\n",
       "        text-align: right;\n",
       "    }\n",
       "</style>\n",
       "<table border=\"1\" class=\"dataframe\">\n",
       "  <thead>\n",
       "    <tr style=\"text-align: right;\">\n",
       "      <th></th>\n",
       "      <th>To</th>\n",
       "      <th>Ti_sp</th>\n",
       "      <th>Φo</th>\n",
       "      <th>Φi</th>\n",
       "      <th>Qa</th>\n",
       "      <th>Φa</th>\n",
       "      <th>Etot</th>\n",
       "    </tr>\n",
       "  </thead>\n",
       "  <tbody>\n",
       "    <tr>\n",
       "      <th>2000-02-01 12:00:00+01:00</th>\n",
       "      <td>10.000000</td>\n",
       "      <td>20.0</td>\n",
       "      <td>963.9000</td>\n",
       "      <td>48.195000</td>\n",
       "      <td>0.0</td>\n",
       "      <td>244.1880</td>\n",
       "      <td>71.400000</td>\n",
       "    </tr>\n",
       "    <tr>\n",
       "      <th>2000-02-01 12:00:50+01:00</th>\n",
       "      <td>10.013889</td>\n",
       "      <td>20.0</td>\n",
       "      <td>963.6375</td>\n",
       "      <td>48.181875</td>\n",
       "      <td>0.0</td>\n",
       "      <td>244.1215</td>\n",
       "      <td>71.380556</td>\n",
       "    </tr>\n",
       "    <tr>\n",
       "      <th>2000-02-01 12:01:40+01:00</th>\n",
       "      <td>10.027778</td>\n",
       "      <td>20.0</td>\n",
       "      <td>963.3750</td>\n",
       "      <td>48.168750</td>\n",
       "      <td>0.0</td>\n",
       "      <td>244.0550</td>\n",
       "      <td>71.361111</td>\n",
       "    </tr>\n",
       "    <tr>\n",
       "      <th>2000-02-01 12:02:30+01:00</th>\n",
       "      <td>10.041667</td>\n",
       "      <td>20.0</td>\n",
       "      <td>963.1125</td>\n",
       "      <td>48.155625</td>\n",
       "      <td>0.0</td>\n",
       "      <td>243.9885</td>\n",
       "      <td>71.341667</td>\n",
       "    </tr>\n",
       "    <tr>\n",
       "      <th>2000-02-01 12:03:20+01:00</th>\n",
       "      <td>10.055556</td>\n",
       "      <td>20.0</td>\n",
       "      <td>962.8500</td>\n",
       "      <td>48.142500</td>\n",
       "      <td>0.0</td>\n",
       "      <td>243.9220</td>\n",
       "      <td>71.322222</td>\n",
       "    </tr>\n",
       "  </tbody>\n",
       "</table>\n",
       "</div>"
      ],
      "text/plain": [
       "                                  To  Ti_sp        Φo         Φi   Qa  \\\n",
       "2000-02-01 12:00:00+01:00  10.000000   20.0  963.9000  48.195000  0.0   \n",
       "2000-02-01 12:00:50+01:00  10.013889   20.0  963.6375  48.181875  0.0   \n",
       "2000-02-01 12:01:40+01:00  10.027778   20.0  963.3750  48.168750  0.0   \n",
       "2000-02-01 12:02:30+01:00  10.041667   20.0  963.1125  48.155625  0.0   \n",
       "2000-02-01 12:03:20+01:00  10.055556   20.0  962.8500  48.142500  0.0   \n",
       "\n",
       "                                 Φa       Etot  \n",
       "2000-02-01 12:00:00+01:00  244.1880  71.400000  \n",
       "2000-02-01 12:00:50+01:00  244.1215  71.380556  \n",
       "2000-02-01 12:01:40+01:00  244.0550  71.361111  \n",
       "2000-02-01 12:02:30+01:00  243.9885  71.341667  \n",
       "2000-02-01 12:03:20+01:00  243.9220  71.322222  "
      ]
     },
     "execution_count": 6,
     "metadata": {},
     "output_type": "execute_result"
    }
   ],
   "source": [
    "input_data_set = input_data_set.resample(\n",
    "    str(dt) + 'S').interpolate(method='linear')\n",
    "input_data_set.head()"
   ]
  },
  {
   "cell_type": "markdown",
   "id": "cb6412cf-a6e0-48ce-9c0f-62ad59ca73e7",
   "metadata": {
    "tags": []
   },
   "source": [
    "## Input vector in time\n",
    "\n",
    "In the _input data set_ an input, e.g. $T_o$, appears only once. However, the _i nput vector_ may contain the same time series multiple time; for example, in the model presented in [Figure 4](../figures/03_therm_circ.svg) of notebook on [Modeling](02_2_1Toy.ipynb) there are three inputs $T_o$ corresponding to branches $q_0$, $q_8$, and $q_{10}$). Therefore, we need to obtain the _input vector_ from the _input data set_.\n",
    "\n",
    "The input in time is formed by the vectors of time series of temperature sources $\\left [ T_o, T_o ,T_o, T_{i,sp} \\right ]^T$ and vectors of time series of the heat flow sources $\\left [ \\Phi_o, \\Phi_i, \\dot{Q_a}, \\Phi_a \\right ]^T$:\n",
    "\n",
    "$$u = \n",
    "\\begin{bmatrix}\n",
    "T_o\\\\ \n",
    "T_o\\\\ \n",
    "T_o\\\\ \n",
    "T_{i,sp}\\\\ \n",
    "\\Phi_o\\\\ \n",
    "\\Phi_i\\\\ \n",
    "\\dot{Q}_a\\\\ \n",
    "\\Phi_a\n",
    "\\end{bmatrix}\n",
    "= \\begin{bmatrix}\n",
    "T_{o(0)} & T_{o(1)}& ... & T_{o(n-1)}\\\\ \n",
    "T_{o(0)} & T_{o(1)}& ... & T_{o(n-1)}\\ \\\\ \n",
    "T_{o(0)} & T_{o(1)}& ... & T_{o(n-1)}\\ \\\\ \n",
    " T_{i,sp(0)} & T_{i,sp(1)}& ... & T_{i,sp(n-1)}\\ \\\\ \n",
    "\\Phi_{o,(0)} & \\Phi_{o,(1)} & ... & \\Phi_{o,(n-1)}\\\\\n",
    "\\Phi_{i,(0)} & \\Phi_{i,(1)} & ... & \\Phi_{i,(n-1)}\\\\ \n",
    " \\dot{Q}_{a(0)} & \\dot{Q}_{a(1)} & ... & \\dot{Q}_{a(n-1)}\\\\ \n",
    "\\Phi_{a,(0)} & \\Phi_{a,(1)} & ... & \\Phi_{a,(n-1)}\n",
    "\\end{bmatrix}$$\n",
    "\n",
    "where the input data set is:\n",
    "\n",
    "$T_o$: the time series vector of outdoor temperatures (from weather data), °C.\n",
    "\n",
    "$T_{i,sp}$: time series vector of indoor setpoint temperatures, °C.\n",
    "\n",
    "$\\Phi_o$: time series vector of solar (i.e. short wave) radiation absorbed by the outdoor surface of the wall, W;\n",
    "\n",
    "$\\Phi_i$: time series vector of short wave (i.e. solar) radiation absorbed by the indoor surfaces of the wall, W;\n",
    "\n",
    "$\\dot{Q}_a$: time vector of auxiliary heat flows (from occupants, electrical devices, etc.), W.\n",
    "\n",
    "$\\Phi_a$: time series vector of short wave (i.e. solar) radiation absorbed by the window glass, W.\n",
    "\n",
    "The *input vector* `u` is obtained from the *input data set*, $T_o, T_{i,sp}, \\Phi_o, \\Phi_i, \\dot Q_a, \\Phi_a$, by using the order of the sources given in the state-space model, `us`: `q0` = $T_o$, `q8` = $T_o$, `q10` = $T_o$, `q11` = $T_{i,sp}$, `θ0` = $\\Phi_o$, `θ4` = $\\Phi_i$, `θ6` = $\\dot Q_a$, and `θ7` = $\\Phi_a$."
   ]
  },
  {
   "cell_type": "code",
   "execution_count": 7,
   "id": "a2021af5-8328-4ac9-92e5-d488c8bbc525",
   "metadata": {},
   "outputs": [
    {
     "data": {
      "text/html": [
       "<div>\n",
       "<style scoped>\n",
       "    .dataframe tbody tr th:only-of-type {\n",
       "        vertical-align: middle;\n",
       "    }\n",
       "\n",
       "    .dataframe tbody tr th {\n",
       "        vertical-align: top;\n",
       "    }\n",
       "\n",
       "    .dataframe thead th {\n",
       "        text-align: right;\n",
       "    }\n",
       "</style>\n",
       "<table border=\"1\" class=\"dataframe\">\n",
       "  <thead>\n",
       "    <tr style=\"text-align: right;\">\n",
       "      <th></th>\n",
       "      <th>q0</th>\n",
       "      <th>q8</th>\n",
       "      <th>q10</th>\n",
       "      <th>q11</th>\n",
       "      <th>θ0</th>\n",
       "      <th>θ4</th>\n",
       "      <th>θ6</th>\n",
       "      <th>θ7</th>\n",
       "    </tr>\n",
       "  </thead>\n",
       "  <tbody>\n",
       "    <tr>\n",
       "      <th>2000-02-01 12:00:00+01:00</th>\n",
       "      <td>10.000000</td>\n",
       "      <td>10.000000</td>\n",
       "      <td>10.000000</td>\n",
       "      <td>20.0</td>\n",
       "      <td>963.9000</td>\n",
       "      <td>48.195000</td>\n",
       "      <td>0.0</td>\n",
       "      <td>244.1880</td>\n",
       "    </tr>\n",
       "    <tr>\n",
       "      <th>2000-02-01 12:00:50+01:00</th>\n",
       "      <td>10.013889</td>\n",
       "      <td>10.013889</td>\n",
       "      <td>10.013889</td>\n",
       "      <td>20.0</td>\n",
       "      <td>963.6375</td>\n",
       "      <td>48.181875</td>\n",
       "      <td>0.0</td>\n",
       "      <td>244.1215</td>\n",
       "    </tr>\n",
       "    <tr>\n",
       "      <th>2000-02-01 12:01:40+01:00</th>\n",
       "      <td>10.027778</td>\n",
       "      <td>10.027778</td>\n",
       "      <td>10.027778</td>\n",
       "      <td>20.0</td>\n",
       "      <td>963.3750</td>\n",
       "      <td>48.168750</td>\n",
       "      <td>0.0</td>\n",
       "      <td>244.0550</td>\n",
       "    </tr>\n",
       "    <tr>\n",
       "      <th>2000-02-01 12:02:30+01:00</th>\n",
       "      <td>10.041667</td>\n",
       "      <td>10.041667</td>\n",
       "      <td>10.041667</td>\n",
       "      <td>20.0</td>\n",
       "      <td>963.1125</td>\n",
       "      <td>48.155625</td>\n",
       "      <td>0.0</td>\n",
       "      <td>243.9885</td>\n",
       "    </tr>\n",
       "    <tr>\n",
       "      <th>2000-02-01 12:03:20+01:00</th>\n",
       "      <td>10.055556</td>\n",
       "      <td>10.055556</td>\n",
       "      <td>10.055556</td>\n",
       "      <td>20.0</td>\n",
       "      <td>962.8500</td>\n",
       "      <td>48.142500</td>\n",
       "      <td>0.0</td>\n",
       "      <td>243.9220</td>\n",
       "    </tr>\n",
       "  </tbody>\n",
       "</table>\n",
       "</div>"
      ],
      "text/plain": [
       "                                  q0         q8        q10   q11        θ0  \\\n",
       "2000-02-01 12:00:00+01:00  10.000000  10.000000  10.000000  20.0  963.9000   \n",
       "2000-02-01 12:00:50+01:00  10.013889  10.013889  10.013889  20.0  963.6375   \n",
       "2000-02-01 12:01:40+01:00  10.027778  10.027778  10.027778  20.0  963.3750   \n",
       "2000-02-01 12:02:30+01:00  10.041667  10.041667  10.041667  20.0  963.1125   \n",
       "2000-02-01 12:03:20+01:00  10.055556  10.055556  10.055556  20.0  962.8500   \n",
       "\n",
       "                                  θ4   θ6        θ7  \n",
       "2000-02-01 12:00:00+01:00  48.195000  0.0  244.1880  \n",
       "2000-02-01 12:00:50+01:00  48.181875  0.0  244.1215  \n",
       "2000-02-01 12:01:40+01:00  48.168750  0.0  244.0550  \n",
       "2000-02-01 12:02:30+01:00  48.155625  0.0  243.9885  \n",
       "2000-02-01 12:03:20+01:00  48.142500  0.0  243.9220  "
      ]
     },
     "execution_count": 7,
     "metadata": {},
     "output_type": "execute_result"
    }
   ],
   "source": [
    "# Input vector in time from input_data_set\n",
    "u = dm4bem.inputs_in_time(us, input_data_set)\n",
    "u.head()"
   ]
  },
  {
   "cell_type": "markdown",
   "id": "95d371b1-e61b-4092-8a03-3c0052fa1f7e",
   "metadata": {},
   "source": [
    "## Initial conditions\n",
    "The initial value of the state-vector can be zero or different from zero."
   ]
  },
  {
   "cell_type": "code",
   "execution_count": 8,
   "id": "3428bbdd-d34a-4d93-8438-d1c2fe8c9279",
   "metadata": {},
   "outputs": [],
   "source": [
    "# Initial conditions\n",
    "θ0 = 20.0                   # °C, initial temperatures\n",
    "θ = pd.DataFrame(index=u.index)\n",
    "θ[As.columns] = θ0          # fill θ with initial valeus θ0"
   ]
  },
  {
   "cell_type": "markdown",
   "id": "a9f75273-a2d7-4bea-b30d-c8b1adeec56f",
   "metadata": {
    "tags": []
   },
   "source": [
    "## Time integration\n",
    "The state-space model\n",
    "\n",
    "$$\\left\\{\\begin{array}{rr}\n",
    "\\dot{\\theta}_C=A_s \\theta_C + B_s u\\\\ \n",
    "y = C_s \\theta_C + D_s u\n",
    "\\end{array}\\right.$$\n",
    "\n",
    "is integrated in time by using [Euler backward (or implicit) method](https://en.m.wikipedia.org/wiki/Numerical_methods_for_ordinary_differential_equations#Backward_Euler_method) for numerical integration:\n",
    "\n",
    "$$\\theta_{s,k+1} = (I - \\Delta t A)^{-1} ( \\theta_{s,k} + \\Delta t B u_k )$$\n",
    "\n",
    "or [Euler forward (or explicit) method](https://en.m.wikipedia.org/wiki/Numerical_methods_for_ordinary_differential_equations#Euler_method) for numerical integration:\n",
    "\n",
    "$$ \\theta_{s,k+1} = (I + \\Delta t A) \\theta_{s,k} + \\Delta t B u_k $$\n",
    "\n",
    "where $k = 0, ... , n - 1$."
   ]
  },
  {
   "cell_type": "code",
   "execution_count": null,
   "id": "6dd045e0-2a7a-4946-9f37-ed341d9da11d",
   "metadata": {},
   "outputs": [],
   "source": [
    "I = np.eye(As.shape[0])     # identity matrix\n",
    "\n",
    "if explicit_Euler:\n",
    "    for k in range(u.shape[0] - 1):\n",
    "        θ.iloc[k + 1] = (I + dt * As) @ θ.iloc[k] + dt * Bs @ u.iloc[k]\n",
    "else:\n",
    "    for k in range(u.shape[0] - 1):\n",
    "        θ.iloc[k + 1] = np.linalg.inv(\n",
    "            I - dt * As) @ (θ.iloc[k] + dt * Bs @ u.iloc[k])"
   ]
  },
  {
   "cell_type": "markdown",
   "id": "f1cadceb-9336-4193-8322-6cb661acff02",
   "metadata": {
    "tags": []
   },
   "source": [
    "## Outputs\n",
    "\n",
    "From the time variation of state variable $\\theta_s$ we obtain the time variation of the output $y$ (i.e., indoor temperature):\n",
    "\n",
    "$$y = C_s \\theta_s + D_s u$$"
   ]
  },
  {
   "cell_type": "code",
   "execution_count": null,
   "id": "d80f2c02-3119-4309-9635-5fd0ee967293",
   "metadata": {
    "tags": []
   },
   "outputs": [],
   "source": [
    "# outputs\n",
    "y = (Cs @ θ.T + Ds @  u.T).T"
   ]
  },
  {
   "cell_type": "markdown",
   "id": "23e8d608-5bbe-4f5e-9633-fdc559b5334c",
   "metadata": {
    "tags": []
   },
   "source": [
    "and the variation in time of the heat flow of the HVAC system:\n",
    "\n",
    "$$q_{HVAC} = K_p (T_{i,sp} - \\theta_i) = K_p (T_{i,sp} - y)$$\n",
    "\n",
    "where $K_p$ is the gain of the P-controller and $T_{i,sp}$ is the HVAC-setpoint for the indoor temperature."
   ]
  },
  {
   "cell_type": "code",
   "execution_count": null,
   "id": "3bd1dc5e-5a98-474a-81a5-e983108e5131",
   "metadata": {},
   "outputs": [],
   "source": [
    "Kp = TC['G']['q11']     # controller gain\n",
    "S = 9                   # m², surface area of the toy house\n",
    "q_HVAC = Kp * (u['q11'] - y['θ6']) / S  # W/m²\n",
    "y['θ6']"
   ]
  },
  {
   "cell_type": "markdown",
   "id": "c4d062bc-e83b-467d-904a-5e99e1d90997",
   "metadata": {},
   "source": [
    "## Plots\n",
    "\n",
    "We select the data to plot:\n",
    "\n",
    "- $T_o$, outdoor temperature, °C;\n",
    "- $\\theta_i$, indoor temperature, °C;\n",
    "- $E_{tot}$, total solar irradiance, W/m²;\n",
    "- $q_{HVAC}$, thermal load, i.e., the power that the HVAC system needs to deliver in order to maintain the indoor air temperature at its set-point, W."
   ]
  },
  {
   "cell_type": "code",
   "execution_count": null,
   "id": "5960a54b-27b7-4887-a4aa-d0684bb3c89d",
   "metadata": {},
   "outputs": [],
   "source": [
    "data = pd.DataFrame({'To': input_data_set['To'],\n",
    "                     'θi': y['θ6'],\n",
    "                     'Etot': input_data_set['Etot'],\n",
    "                     'q_HVAC': q_HVAC})"
   ]
  },
  {
   "cell_type": "markdown",
   "id": "226b3dc2-dcfc-4822-90f3-fc991ea75d16",
   "metadata": {},
   "source": [
    "### Plots using Pandas\n",
    "\n",
    "The plots mays be done by using `plot` method for DataFrame."
   ]
  },
  {
   "cell_type": "code",
   "execution_count": null,
   "id": "723f3f3d-8a6e-48b1-b450-55eddf077e1a",
   "metadata": {},
   "outputs": [],
   "source": [
    "fig, axs = plt.subplots(2, 1)\n",
    "data[['To', 'θi']].plot(ax=axs[0],\n",
    "                        xticks=[],\n",
    "                        ylabel='Temperature, $θ$ / °C')\n",
    "\n",
    "axs[0].legend(['$θ_{outdoor}$', '$θ_{indoor}$'],\n",
    "              loc='upper right')\n",
    "\n",
    "data[['Etot', 'q_HVAC']].plot(ax=axs[1],\n",
    "                              ylabel='Heat rate, $q$ / (W·m⁻²)')\n",
    "axs[1].set(xlabel='Time')\n",
    "axs[1].legend(['$E_{total}$', '$q_{HVAC}$'],\n",
    "              loc='upper right')\n",
    "plt.show();"
   ]
  },
  {
   "cell_type": "markdown",
   "id": "5269b547-190c-4c45-92d5-4544f7eca659",
   "metadata": {},
   "source": [
    "> Figure 1. Simulation in free-running with weather data using Euler explicit method of integration. a) Indoor and outdoor temperatures. b) Solar and HVAC heat flow rates."
   ]
  },
  {
   "cell_type": "markdown",
   "id": "3a45f34c-05dd-4c5b-aa68-53cd3688d770",
   "metadata": {},
   "source": [
    "### Plots using matplotlib\n",
    "\n",
    "Alternativelly, we may use `matplotlib`."
   ]
  },
  {
   "cell_type": "code",
   "execution_count": null,
   "id": "f7ece29e-0059-4e52-8498-c5b20b252994",
   "metadata": {
    "tags": []
   },
   "outputs": [],
   "source": [
    "t = dt * np.arange(data.shape[0])   # time vector\n",
    "\n",
    "fig, axs = plt.subplots(2, 1)\n",
    "# plot outdoor and indoor temperature\n",
    "axs[0].plot(t / 3600 / 24, data['To'], label='$θ_{outdoor}$')\n",
    "axs[0].plot(t / 3600 / 24, y.values, label='$θ_{indoor}$')\n",
    "axs[0].set(ylabel='Temperatures, $θ$ / °C',\n",
    "           title='Simulation for weather')\n",
    "axs[0].legend(loc='upper right')\n",
    "\n",
    "# plot total solar radiation and HVAC heat flow\n",
    "axs[1].plot(t / 3600 / 24, data['Etot'], label='$E_{total}$')\n",
    "axs[1].plot(t / 3600 / 24, q_HVAC, label='$q_{HVAC}$')\n",
    "axs[1].set(xlabel='Time, $t$ / day',\n",
    "           ylabel='Heat flows, $q$ / (W·m⁻²)')\n",
    "axs[1].legend(loc='upper right')\n",
    "\n",
    "fig.tight_layout()"
   ]
  },
  {
   "cell_type": "markdown",
   "id": "ff1d5ac5-e9d7-4046-8adf-62fa7ca52988",
   "metadata": {},
   "source": [
    "> Figure 2. Simulation in free-running with weather data using Euler explicit method of integration. a) Indoor and outdoor temperatures. b) Solar and HVAC heat flow rates."
   ]
  },
  {
   "cell_type": "markdown",
   "id": "3885a4ca-d181-4748-b687-af16a79177ad",
   "metadata": {},
   "source": [
    "## Discussion\n",
    "### Numerical integration method\n",
    "\n",
    "While fixed-step methods like Euler explicit or implicit integration can be simpler to implement and understand, they may not be the most efficient choice. Variable time step methods offer greater adaptability and efficiency, making them preferable for many simulation scenarios.\n",
    "\n",
    "Let's compare the simulation time by using Euler explicit and variable time step used in [Python Control Systems Library](https://python-control.readthedocs.io/en/latest/generated/control.input_output_response.html).\n",
    "\n",
    "The use of Euler numerical integration method is justified when the input vector varies during the numerical integration and changes are done in the _for loop_."
   ]
  },
  {
   "cell_type": "code",
   "execution_count": null,
   "id": "6fef1cf4-129b-489f-aa76-dd9133881f5b",
   "metadata": {},
   "outputs": [],
   "source": [
    "sys = ctrl.ss(As, Bs, Cs, Ds)\n",
    "\n",
    "θ0 = 20.0 * np.ones(As.shape[0])  # °C, initial temperatures"
   ]
  },
  {
   "cell_type": "markdown",
   "id": "6b336102-418f-4b6c-a64f-9f4f58d17b5d",
   "metadata": {},
   "source": [
    "The convention used by [Python Control Systems Library](https://python-control.readthedocs.io/en/latest/conventions.html) for time series is different from the convention used in Pandas and scipy.signal library: columns represent different points in time, rows are different components (e.g., inputs, outputs or states). Since _dm4bem_ uses Pandas, the vector of inputs in time must be transposed."
   ]
  },
  {
   "cell_type": "code",
   "execution_count": null,
   "id": "e5715f70-0f07-44a7-80df-60957a306932",
   "metadata": {},
   "outputs": [],
   "source": [
    "u_np = u.values.T       # inputs in time"
   ]
  },
  {
   "cell_type": "code",
   "execution_count": null,
   "id": "240cc7a3-dcb4-40ae-abc4-e4683d8a6ddb",
   "metadata": {},
   "outputs": [],
   "source": [
    "start_time = time.time()\n",
    "\n",
    "# Simulate the system response with Python Control Systems Library\n",
    "t, yout = ctrl.input_output_response(sys, T=t, U=u_np, X0=θ0)\n",
    "\n",
    "end_time = time.time()\n",
    "duration_1 = end_time - start_time"
   ]
  },
  {
   "cell_type": "code",
   "execution_count": null,
   "id": "1061f155-0a17-4318-92d9-4492060f990b",
   "metadata": {},
   "outputs": [],
   "source": [
    "start_time = time.time()\n",
    "\n",
    "# Euler explicit\n",
    "for k in range(u.shape[0] - 1):\n",
    "    θ.iloc[k + 1] = (I + dt * As) @ θ.iloc[k] + dt * Bs @ u.iloc[k]\n",
    "y = (Cs @ θ.T + Ds @  u.T).T\n",
    "\n",
    "end_time = time.time()\n",
    "duration_2 = end_time - start_time"
   ]
  },
  {
   "cell_type": "code",
   "execution_count": null,
   "id": "83d13b0b-dfca-414a-ad01-6d8309ea62e0",
   "metadata": {},
   "outputs": [],
   "source": [
    "fig, axs = plt.subplots(figsize=(10, 6))\n",
    "\n",
    "axs.plot(t / 3600 / 24, yout[0], label='Control Systems Library')\n",
    "axs.plot(t / 3600 / 24, y.values, label='Euler explicit')\n",
    "\n",
    "axs.set(xlabel='Time, $t$ / day',\n",
    "        ylabel='Indoor temperature, $θ$ / °C',\n",
    "        title='Comparison  of Control Systems Library with Euler explicit')\n",
    "axs.grid(True)\n",
    "axs.legend()\n",
    "plt.show()"
   ]
  },
  {
   "cell_type": "markdown",
   "id": "33faa1b0-e473-4c2d-ae98-0248c778061a",
   "metadata": {},
   "source": [
    "> Figure 3. Time variation of indoor temperature obtained with Control Systems Library and for-loop Euler."
   ]
  },
  {
   "cell_type": "code",
   "execution_count": null,
   "id": "65b5ba6a-c77a-4541-81ad-0c84069f3e5f",
   "metadata": {},
   "outputs": [],
   "source": [
    "# Print the comparison of durations\n",
    "print(f\"Duration for Control Systems Library: {duration_1:.2f} seconds\")\n",
    "print(f\"Duration for 'Euler explict:          {duration_2:.2f} seconds\")"
   ]
  },
  {
   "cell_type": "markdown",
   "id": "d3e62690-ec3b-4573-b3a7-fcba9b7254e3",
   "metadata": {},
   "source": [
    "### Controller influence on time step\n",
    "\n",
    "Simulate the system without controller (i.e., in free floating) and with controller.\n",
    "\n",
    "Note that the time step for Euler explicit method depends on:\n",
    "\n",
    "- P-controller gain `Kp`:\n",
    "    - if $K_p \\rightarrow \\infty$, then the controller is perfect and the time step needs to be small;\n",
    "    - if $K_p \\rightarrow 0$, then, the controller is ineffective and the building is in free-running.\n",
    "- Capacities considered into the model:\n",
    "    - if the capacities of the air $C_a =$ `C['Air']` and of the glass $C_g =$ `C['Glass']` are considered, then the time step is small;\n",
    "    - if the capacities of the air and of the glass are zero, then the time step is large (and the order of the state-space model is reduced).\n",
    "\n",
    "The controller models an HVAC system able to heat (when $q_{HVAC} > 0$) and to cool (when $q_{HVAC} < 0$) when $K_p  \\approx 10^3 \\ \\mathrm{W/K}$. Change $K_p  \\approx 10^2 \\ \\mathrm{W/K}$ and $K_p  \\approx 10^4 \\ \\mathrm{W/K}.$"
   ]
  },
  {
   "cell_type": "markdown",
   "id": "08d18237-b075-4f6c-82df-fa70d47a5216",
   "metadata": {
    "tags": []
   },
   "source": [
    "## References\n",
    "\n",
    "1. [C. Ghiaus (2013)](https://doi.org/10.1016/j.energy.2012.10.024). Causality issue in the heat balance method for calculating the design heating and cooling loads, *Energy* 50: 292-301, , open access preprint: [HAL-03605823](https://hal.archives-ouvertes.fr/hal-03605823/document)\n",
    "\n",
    "2. [C. Ghiaus (2021)](https://doi.org/10.1007/978-3-030-76477-7_5). Dynamic Models for Energy Control of Smart Homes, in *S. Ploix M. Amayri, N. Bouguila (eds.) Towards Energy Smart Homes*, Online ISBN: 978-3-030-76477-7, Print ISBN: 978-3-030-76476-0, Springer, pp. 163-198, open access preprint: [HAL 03578578](https://hal.archives-ouvertes.fr/hal-03578578/document)\n",
    "\n",
    "3. [J.A. Duffie, W. A. Beckman, N. Blair (2020)](https://www.eng.uc.edu/~beaucag/Classes/SolarPowerForAfrica/Solar%20Engineering%20of%20Thermal%20Processes,%20Photovoltaics%20and%20Wind.pdf). Solar Engineering of Thermal Processes, 5th ed. John Wiley & Sons, Inc. ISBN 9781119540281\n",
    "\n",
    "4. [Réglementation Thermique 2005. Méthode de calcul Th-CE.](https://pdfslide.fr/documents/rt2005-methode-de-calcul-th-ce.html). Annexe à l’arrêté du 19 juillet 2006\n",
    "\n",
    "5. H. Recknagel, E. Sprenger, E.-R. Schramek (2013) Génie climatique, 5e edition, Dunod, Paris. ISBN 978-2-10-070451-4\n",
    "\n",
    "6. [J.R. Howell et al. (2021)](http://www.thermalradiation.net/indexCat.html). Thermal Radiation Heat Transfer 7th edition, ISBN 978-0-367-34707-0, A Catalogue of Configuration Factors\n",
    "\n",
    "7. [J. Widén, J. Munkhammar (2019)](http://www.diva-portal.org/smash/get/diva2:1305017/FULLTEXT01.pdf). Solar Radiation Theory, Uppsala University"
   ]
  },
  {
   "cell_type": "code",
   "execution_count": null,
   "id": "f055bca7-4961-445c-8f92-b2c56e3741c2",
   "metadata": {
    "jp-MarkdownHeadingCollapsed": true,
    "tags": []
   },
   "outputs": [],
   "source": []
  }
 ],
 "metadata": {
  "kernelspec": {
   "display_name": "Python 3 (ipykernel)",
   "language": "python",
   "name": "python3"
  },
  "language_info": {
   "codemirror_mode": {
    "name": "ipython",
    "version": 3
   },
   "file_extension": ".py",
   "mimetype": "text/x-python",
   "name": "python",
   "nbconvert_exporter": "python",
   "pygments_lexer": "ipython3",
   "version": "3.11.7"
  },
  "toc-autonumbering": true,
  "toc-showcode": false,
  "toc-showmarkdowntxt": false,
  "toc-showtags": false
 },
 "nbformat": 4,
 "nbformat_minor": 5
}
